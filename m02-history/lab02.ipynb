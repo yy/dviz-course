{
  "cells": [
    {
      "cell_type": "markdown",
      "source": [
        "<table class=\"m01-notebook-buttons\" align=\"left\">\n",
        "  <td>\n",
        "    <a target=\"_blank\" href=\"https://colab.research.google.com/github/yy/dviz-course/blob/master/m02-history/lab02.ipynb\"><img src=\"https://www.tensorflow.org/images/colab_logo_32px.png\" />Run in Google Colab</a>\n",
        "  </td>\n",
        "  <td>\n",
        "    <a href=\"https://github.com/yy/dviz-course/blob/master/m02-history/lab02.ipynb\"><img src=\"https://www.tensorflow.org/images/GitHub-Mark-32px.png\" />View on Github</a>\n",
        "  </td>\n",
        "</table>"
      ],
      "metadata": {}
    },
    {
      "cell_type": "markdown",
      "source": [
        "# W2 Lab: Data processing basics and John Snow's map\n",
        "\n",
        "Follow the contents of this notebook and answer all questions (e.g. **Q1: ...**)"
      ],
      "metadata": {
        "id": "ox6BA2ofV_3p"
      }
    },
    {
      "cell_type": "markdown",
      "source": [
        "## If you are not familiar with Python yet... \n",
        "\n",
        "Maybe you can quickly review these basics first.\n",
        "\n",
        "* [numbers](https://docs.python.org/3.6/tutorial/introduction.html#numbersnumbers) and [strings](https://docs.python.org/3.6/tutorial/introduction.html#strings);\n",
        "* [if](https://docs.python.org/3.6/tutorial/controlflow.html#if-statements) and [for](https://docs.python.org/3.6/tutorial/controlflow.html#for-statements) statement\n",
        "* data structure ([lists](https://docs.python.org/3.6/tutorial/introduction.html#lists), [sets](https://docs.python.org/3.6/tutorial/datastructures.html#sets), [dictionaries](https://docs.python.org/3.6/tutorial/datastructures.html#dictionaries))\n",
        "* [functions](https://docs.python.org/3.6/tutorial/controlflow.html#defining-functions) and [modules](https://docs.python.org/3.6/tutorial/modules.html)\n",
        "\n",
        "[Google's Python Class](https://developers.google.com/edu/python/?hl=en) is also a nice resource."
      ],
      "metadata": {
        "id": "7gNBBBNDV_3w"
      }
    },
    {
      "cell_type": "markdown",
      "source": [
        "## Jupyter + Pandas = Awesomeness"
      ],
      "metadata": {
        "id": "msQ8IFvWV_3x"
      }
    },
    {
      "cell_type": "markdown",
      "source": [
        "[Jupyter notebook (lab)](http://jupyter.org) (and [IPython](https://ipython.org)) and [Pandas](http://pandas.pydata.org) may be two most important libraries responsible for the `Python`'s rise in data science. `Jupyter` lets you interactively explore datasets and code; `Pandas` lets you handle tabular datasets with superb speed and convenience. And they work so well together! In many cases, `Jupyter` and `Pandas` are all you need to load, clean, transform, visualize, and understand a dataset.\n",
        "\n",
        "If you are not familiar with `Pandas`, you may want to follow their official tutorial called [10 Minutes to pandas](http://pandas.pydata.org/pandas-docs/stable/10min.html) now or in the near future. "
      ],
      "metadata": {
        "id": "-hLwyxsUV_3x"
      }
    },
    {
      "cell_type": "markdown",
      "source": [
        "## Importing pandas\n",
        "\n",
        "The convention for importing `pandas` is the following"
      ],
      "metadata": {
        "id": "nTR20eiSV_3y"
      }
    },
    {
      "cell_type": "code",
      "execution_count": 1,
      "source": [
        "import pandas as pd"
      ],
      "outputs": [],
      "metadata": {
        "execution": {
          "iopub.status.busy": "2020-05-17T21:06:39.054Z",
          "iopub.execute_input": "2020-05-17T21:06:39.071Z",
          "iopub.status.idle": "2020-05-17T21:06:39.826Z",
          "shell.execute_reply": "2020-05-17T21:06:39.848Z"
        },
        "id": "rVXgfGBcV_3y"
      }
    },
    {
      "cell_type": "markdown",
      "source": [
        "You can check the version of the library. Because pandas is fast-evolving library, you want to make sure that you have the up-to-date version of the library. "
      ],
      "metadata": {
        "id": "SI0DKpp3V_3z"
      }
    },
    {
      "cell_type": "code",
      "execution_count": 2,
      "source": [
        "pd.__version__"
      ],
      "outputs": [
        {
          "output_type": "execute_result",
          "data": {
            "text/plain": [
              "'1.1.5'"
            ],
            "application/vnd.google.colaboratory.intrinsic+json": {
              "type": "string"
            }
          },
          "metadata": {
            "tags": []
          },
          "execution_count": 2
        }
      ],
      "metadata": {
        "execution": {
          "iopub.status.busy": "2020-05-17T21:06:41.867Z",
          "iopub.execute_input": "2020-05-17T21:06:41.885Z",
          "iopub.status.idle": "2020-05-17T21:06:41.919Z",
          "shell.execute_reply": "2020-05-17T21:06:41.935Z"
        },
        "id": "BySTPnrkV_3z",
        "colab": {
          "base_uri": "https://localhost:8080/",
          "height": 35
        },
        "outputId": "5554d9ea-54f0-413c-96f1-8b8244fd7095"
      }
    },
    {
      "cell_type": "markdown",
      "source": [
        "You also need `matplotlib`, which is used by `pandas` to plot figures. The following is the most common convention to import `matplotlib` library. "
      ],
      "metadata": {
        "id": "O_VHaBeJV_30"
      }
    },
    {
      "cell_type": "code",
      "execution_count": 3,
      "source": [
        "import matplotlib.pyplot as plt"
      ],
      "outputs": [],
      "metadata": {
        "execution": {
          "iopub.status.busy": "2020-05-17T21:06:43.613Z",
          "iopub.execute_input": "2020-05-17T21:06:43.626Z",
          "iopub.status.idle": "2020-05-17T21:06:43.889Z",
          "shell.execute_reply": "2020-05-17T21:06:43.910Z"
        },
        "id": "DYL0_pF_V_31"
      }
    },
    {
      "cell_type": "markdown",
      "source": [
        "Let's check its version too. "
      ],
      "metadata": {
        "id": "6XjKV55tV_31"
      }
    },
    {
      "cell_type": "code",
      "execution_count": 4,
      "source": [
        "import matplotlib\n",
        "matplotlib.__version__"
      ],
      "outputs": [
        {
          "output_type": "execute_result",
          "data": {
            "text/plain": [
              "'3.2.2'"
            ],
            "application/vnd.google.colaboratory.intrinsic+json": {
              "type": "string"
            }
          },
          "metadata": {
            "tags": []
          },
          "execution_count": 4
        }
      ],
      "metadata": {
        "execution": {
          "iopub.status.busy": "2020-05-17T21:06:45.146Z",
          "iopub.execute_input": "2020-05-17T21:06:45.160Z",
          "iopub.status.idle": "2020-05-17T21:06:45.187Z",
          "shell.execute_reply": "2020-05-17T21:06:45.201Z"
        },
        "id": "R-tadeEdV_31",
        "colab": {
          "base_uri": "https://localhost:8080/",
          "height": 35
        },
        "outputId": "be7c3d79-77bb-4929-ba14-fb3ae48b306b"
      }
    },
    {
      "cell_type": "markdown",
      "source": [
        "## Loading a CSV data file\n",
        "\n",
        "Using pandas, you can read tabular data files in [many formats and through many protocols](https://pandas.pydata.org/pandas-docs/stable/io.html). Pandas supports not only flat files such as `.csv`, but also various other formats including clipboard, Excel, JSON, HTML, Feather, Parquet, SQL, Google BigQuery, and so on. Moreover, you can pass a local file path or a URL. If it's on Amazon S3, just pass a url like `s3://path/to/file.csv`. If it's on a webpage, then just use `https://some/url.csv`. \n",
        "\n",
        "Let's load a dataset about the location of pumps in the John Snow's map. You can download the file to your computer and try to load it using the local path too. "
      ],
      "metadata": {
        "id": "QMUK2TQiV_32"
      }
    },
    {
      "cell_type": "code",
      "execution_count": 5,
      "source": [
        "pump_df = pd.read_csv('https://raw.githubusercontent.com/yy/dviz-course/master/data/pumps.csv')"
      ],
      "outputs": [],
      "metadata": {
        "execution": {
          "iopub.status.busy": "2020-05-17T21:06:46.167Z",
          "iopub.execute_input": "2020-05-17T21:06:46.182Z",
          "iopub.status.idle": "2020-05-17T21:06:46.474Z",
          "shell.execute_reply": "2020-05-17T21:06:46.486Z"
        },
        "id": "dGK4SkbHV_32"
      }
    },
    {
      "cell_type": "markdown",
      "source": [
        "`df` stands for \"[Data Frame](https://pandas.pydata.org/pandas-docs/stable/dsintro.html#dataframe)\", which is a fundamental data object in Pandas. You can take a look at the dataset by looking at the first few lines."
      ],
      "metadata": {
        "id": "ETf0JhXDV_32"
      }
    },
    {
      "cell_type": "code",
      "execution_count": 6,
      "source": [
        "pump_df.head() "
      ],
      "outputs": [
        {
          "output_type": "execute_result",
          "data": {
            "text/plain": [
              "           X          Y\n",
              "0   8.651201  17.891600\n",
              "1  10.984780  18.517851\n",
              "2  13.378190  17.394541\n",
              "3  14.879830  17.809919\n",
              "4   8.694768  14.905470"
            ],
            "text/html": [
              "<div>\n",
              "<style scoped>\n",
              "    .dataframe tbody tr th:only-of-type {\n",
              "        vertical-align: middle;\n",
              "    }\n",
              "\n",
              "    .dataframe tbody tr th {\n",
              "        vertical-align: top;\n",
              "    }\n",
              "\n",
              "    .dataframe thead th {\n",
              "        text-align: right;\n",
              "    }\n",
              "</style>\n",
              "<table border=\"1\" class=\"dataframe\">\n",
              "  <thead>\n",
              "    <tr style=\"text-align: right;\">\n",
              "      <th></th>\n",
              "      <th>X</th>\n",
              "      <th>Y</th>\n",
              "    </tr>\n",
              "  </thead>\n",
              "  <tbody>\n",
              "    <tr>\n",
              "      <th>0</th>\n",
              "      <td>8.651201</td>\n",
              "      <td>17.891600</td>\n",
              "    </tr>\n",
              "    <tr>\n",
              "      <th>1</th>\n",
              "      <td>10.984780</td>\n",
              "      <td>18.517851</td>\n",
              "    </tr>\n",
              "    <tr>\n",
              "      <th>2</th>\n",
              "      <td>13.378190</td>\n",
              "      <td>17.394541</td>\n",
              "    </tr>\n",
              "    <tr>\n",
              "      <th>3</th>\n",
              "      <td>14.879830</td>\n",
              "      <td>17.809919</td>\n",
              "    </tr>\n",
              "    <tr>\n",
              "      <th>4</th>\n",
              "      <td>8.694768</td>\n",
              "      <td>14.905470</td>\n",
              "    </tr>\n",
              "  </tbody>\n",
              "</table>\n",
              "</div>"
            ]
          },
          "metadata": {
            "tags": []
          },
          "execution_count": 6
        }
      ],
      "metadata": {
        "execution": {
          "iopub.status.busy": "2020-05-17T21:06:47.618Z",
          "iopub.execute_input": "2020-05-17T21:06:47.628Z",
          "iopub.status.idle": "2020-05-17T21:06:47.654Z",
          "shell.execute_reply": "2020-05-17T21:06:47.667Z"
        },
        "id": "zGYO51jUV_32",
        "colab": {
          "base_uri": "https://localhost:8080/",
          "height": 204
        },
        "outputId": "b5e70da1-d0fe-4337-d238-52826353aee6"
      }
    },
    {
      "cell_type": "markdown",
      "source": [
        "**Q1: can you print only the first three lines?** Refer: http://pandas.pydata.org/pandas-docs/stable/index.html"
      ],
      "metadata": {
        "id": "JIYL_rpIV_33"
      }
    },
    {
      "cell_type": "code",
      "execution_count": 7,
      "source": [
        "# TODO: write your code here\n"
      ],
      "outputs": [
        {
          "output_type": "execute_result",
          "data": {
            "text/plain": [
              "           X          Y\n",
              "0   8.651201  17.891600\n",
              "1  10.984780  18.517851\n",
              "2  13.378190  17.394541"
            ],
            "text/html": [
              "<div>\n",
              "<style scoped>\n",
              "    .dataframe tbody tr th:only-of-type {\n",
              "        vertical-align: middle;\n",
              "    }\n",
              "\n",
              "    .dataframe tbody tr th {\n",
              "        vertical-align: top;\n",
              "    }\n",
              "\n",
              "    .dataframe thead th {\n",
              "        text-align: right;\n",
              "    }\n",
              "</style>\n",
              "<table border=\"1\" class=\"dataframe\">\n",
              "  <thead>\n",
              "    <tr style=\"text-align: right;\">\n",
              "      <th></th>\n",
              "      <th>X</th>\n",
              "      <th>Y</th>\n",
              "    </tr>\n",
              "  </thead>\n",
              "  <tbody>\n",
              "    <tr>\n",
              "      <th>0</th>\n",
              "      <td>8.651201</td>\n",
              "      <td>17.891600</td>\n",
              "    </tr>\n",
              "    <tr>\n",
              "      <th>1</th>\n",
              "      <td>10.984780</td>\n",
              "      <td>18.517851</td>\n",
              "    </tr>\n",
              "    <tr>\n",
              "      <th>2</th>\n",
              "      <td>13.378190</td>\n",
              "      <td>17.394541</td>\n",
              "    </tr>\n",
              "  </tbody>\n",
              "</table>\n",
              "</div>"
            ]
          },
          "metadata": {
            "tags": []
          },
          "execution_count": 7
        }
      ],
      "metadata": {
        "execution": {
          "iopub.status.busy": "2020-05-17T21:06:49.394Z",
          "iopub.execute_input": "2020-05-17T21:06:49.405Z",
          "iopub.status.idle": "2020-05-17T21:06:49.428Z",
          "shell.execute_reply": "2020-05-17T21:06:49.441Z"
        },
        "id": "_OfZbRaIV_33",
        "colab": {
          "base_uri": "https://localhost:8080/",
          "height": 142
        },
        "outputId": "f590b87d-5c70-4fe9-e237-2ddf78ba746e"
      }
    },
    {
      "cell_type": "markdown",
      "source": [
        "You can also sample several rows randomly. If the data is sorted in some ways, sampling may give you a rather unbiased view of the dataset.  "
      ],
      "metadata": {
        "id": "Ab0-qKj0V_33"
      }
    },
    {
      "cell_type": "code",
      "execution_count": 8,
      "source": [
        "# Your code here\n"
      ],
      "outputs": [
        {
          "output_type": "execute_result",
          "data": {
            "text/plain": [
              "            X          Y\n",
              "3   14.879830  17.809919\n",
              "12   8.999440   5.101023\n",
              "10  18.914391   9.737819\n",
              "1   10.984780  18.517851\n",
              "9   16.434891   9.252130"
            ],
            "text/html": [
              "<div>\n",
              "<style scoped>\n",
              "    .dataframe tbody tr th:only-of-type {\n",
              "        vertical-align: middle;\n",
              "    }\n",
              "\n",
              "    .dataframe tbody tr th {\n",
              "        vertical-align: top;\n",
              "    }\n",
              "\n",
              "    .dataframe thead th {\n",
              "        text-align: right;\n",
              "    }\n",
              "</style>\n",
              "<table border=\"1\" class=\"dataframe\">\n",
              "  <thead>\n",
              "    <tr style=\"text-align: right;\">\n",
              "      <th></th>\n",
              "      <th>X</th>\n",
              "      <th>Y</th>\n",
              "    </tr>\n",
              "  </thead>\n",
              "  <tbody>\n",
              "    <tr>\n",
              "      <th>3</th>\n",
              "      <td>14.879830</td>\n",
              "      <td>17.809919</td>\n",
              "    </tr>\n",
              "    <tr>\n",
              "      <th>12</th>\n",
              "      <td>8.999440</td>\n",
              "      <td>5.101023</td>\n",
              "    </tr>\n",
              "    <tr>\n",
              "      <th>10</th>\n",
              "      <td>18.914391</td>\n",
              "      <td>9.737819</td>\n",
              "    </tr>\n",
              "    <tr>\n",
              "      <th>1</th>\n",
              "      <td>10.984780</td>\n",
              "      <td>18.517851</td>\n",
              "    </tr>\n",
              "    <tr>\n",
              "      <th>9</th>\n",
              "      <td>16.434891</td>\n",
              "      <td>9.252130</td>\n",
              "    </tr>\n",
              "  </tbody>\n",
              "</table>\n",
              "</div>"
            ]
          },
          "metadata": {
            "tags": []
          },
          "execution_count": 8
        }
      ],
      "metadata": {
        "id": "fCVmeLMiV_33",
        "colab": {
          "base_uri": "https://localhost:8080/",
          "height": 204
        },
        "outputId": "5be58afc-1212-49fb-8e60-947a4cb600da"
      }
    },
    {
      "cell_type": "markdown",
      "source": [
        "You can also figure out the number of rows in the dataset by running "
      ],
      "metadata": {
        "id": "InRQ69SmV_34"
      }
    },
    {
      "cell_type": "code",
      "execution_count": 9,
      "source": [
        "len(pump_df)"
      ],
      "outputs": [
        {
          "output_type": "execute_result",
          "data": {
            "text/plain": [
              "13"
            ]
          },
          "metadata": {
            "tags": []
          },
          "execution_count": 9
        }
      ],
      "metadata": {
        "execution": {
          "iopub.status.busy": "2020-05-17T21:07:19.255Z",
          "iopub.execute_input": "2020-05-17T21:07:19.267Z",
          "iopub.status.idle": "2020-05-17T21:07:19.295Z",
          "shell.execute_reply": "2020-05-17T21:07:19.308Z"
        },
        "id": "-VPiKjlfV_34",
        "colab": {
          "base_uri": "https://localhost:8080/"
        },
        "outputId": "219e0104-ee5a-4ef0-dce3-44092e59a92e"
      }
    },
    {
      "cell_type": "markdown",
      "source": [
        "Note that `df.size` does not give you the number of rows. It tells you the number of elements. "
      ],
      "metadata": {
        "id": "M-W9EAIqV_34"
      }
    },
    {
      "cell_type": "code",
      "execution_count": 10,
      "source": [
        "pump_df.size"
      ],
      "outputs": [
        {
          "output_type": "execute_result",
          "data": {
            "text/plain": [
              "26"
            ]
          },
          "metadata": {
            "tags": []
          },
          "execution_count": 10
        }
      ],
      "metadata": {
        "id": "l-4RoaWiV_35",
        "colab": {
          "base_uri": "https://localhost:8080/"
        },
        "outputId": "8d2f2e8e-5a84-4c04-dde0-6965bec217f4"
      }
    },
    {
      "cell_type": "markdown",
      "source": [
        "You can also look into the shape of the dataset as well as what are the columns in the dataset. "
      ],
      "metadata": {
        "id": "QUzqWROJV_35"
      }
    },
    {
      "cell_type": "code",
      "execution_count": 11,
      "source": [
        "pump_df.shape  # 13 rows and 2 columns"
      ],
      "outputs": [
        {
          "output_type": "execute_result",
          "data": {
            "text/plain": [
              "(13, 2)"
            ]
          },
          "metadata": {
            "tags": []
          },
          "execution_count": 11
        }
      ],
      "metadata": {
        "id": "Sva1ViTpV_35",
        "colab": {
          "base_uri": "https://localhost:8080/"
        },
        "outputId": "a37101a8-9f13-4460-b9bf-78e098f4783c"
      }
    },
    {
      "cell_type": "code",
      "execution_count": 12,
      "source": [
        "pump_df.columns"
      ],
      "outputs": [
        {
          "output_type": "execute_result",
          "data": {
            "text/plain": [
              "Index(['X', 'Y'], dtype='object')"
            ]
          },
          "metadata": {
            "tags": []
          },
          "execution_count": 12
        }
      ],
      "metadata": {
        "id": "d79EmD74V_36",
        "colab": {
          "base_uri": "https://localhost:8080/"
        },
        "outputId": "11efd781-5d53-4513-a47f-d379e3a9b7ae"
      }
    },
    {
      "cell_type": "markdown",
      "source": [
        "You can also check out basic descriptive statistics of the whole dataset by using `describe()` method.  "
      ],
      "metadata": {
        "id": "ymyvkdS6V_36"
      }
    },
    {
      "cell_type": "code",
      "execution_count": 13,
      "source": [
        "pump_df.describe()"
      ],
      "outputs": [
        {
          "output_type": "execute_result",
          "data": {
            "text/plain": [
              "               X          Y\n",
              "count  13.000000  13.000000\n",
              "mean   12.504677  11.963446\n",
              "std     3.376869   4.957821\n",
              "min     8.651201   5.046838\n",
              "25%     8.999440   7.958250\n",
              "50%    12.571360  11.727170\n",
              "75%    14.879830  17.394541\n",
              "max    18.914391  18.517851"
            ],
            "text/html": [
              "<div>\n",
              "<style scoped>\n",
              "    .dataframe tbody tr th:only-of-type {\n",
              "        vertical-align: middle;\n",
              "    }\n",
              "\n",
              "    .dataframe tbody tr th {\n",
              "        vertical-align: top;\n",
              "    }\n",
              "\n",
              "    .dataframe thead th {\n",
              "        text-align: right;\n",
              "    }\n",
              "</style>\n",
              "<table border=\"1\" class=\"dataframe\">\n",
              "  <thead>\n",
              "    <tr style=\"text-align: right;\">\n",
              "      <th></th>\n",
              "      <th>X</th>\n",
              "      <th>Y</th>\n",
              "    </tr>\n",
              "  </thead>\n",
              "  <tbody>\n",
              "    <tr>\n",
              "      <th>count</th>\n",
              "      <td>13.000000</td>\n",
              "      <td>13.000000</td>\n",
              "    </tr>\n",
              "    <tr>\n",
              "      <th>mean</th>\n",
              "      <td>12.504677</td>\n",
              "      <td>11.963446</td>\n",
              "    </tr>\n",
              "    <tr>\n",
              "      <th>std</th>\n",
              "      <td>3.376869</td>\n",
              "      <td>4.957821</td>\n",
              "    </tr>\n",
              "    <tr>\n",
              "      <th>min</th>\n",
              "      <td>8.651201</td>\n",
              "      <td>5.046838</td>\n",
              "    </tr>\n",
              "    <tr>\n",
              "      <th>25%</th>\n",
              "      <td>8.999440</td>\n",
              "      <td>7.958250</td>\n",
              "    </tr>\n",
              "    <tr>\n",
              "      <th>50%</th>\n",
              "      <td>12.571360</td>\n",
              "      <td>11.727170</td>\n",
              "    </tr>\n",
              "    <tr>\n",
              "      <th>75%</th>\n",
              "      <td>14.879830</td>\n",
              "      <td>17.394541</td>\n",
              "    </tr>\n",
              "    <tr>\n",
              "      <th>max</th>\n",
              "      <td>18.914391</td>\n",
              "      <td>18.517851</td>\n",
              "    </tr>\n",
              "  </tbody>\n",
              "</table>\n",
              "</div>"
            ]
          },
          "metadata": {
            "tags": []
          },
          "execution_count": 13
        }
      ],
      "metadata": {
        "id": "fyY-fYaWV_36",
        "colab": {
          "base_uri": "https://localhost:8080/",
          "height": 297
        },
        "outputId": "63717900-8f77-4fe8-c72b-1825875830ee"
      }
    },
    {
      "cell_type": "markdown",
      "source": [
        "You can slice the data like a list"
      ],
      "metadata": {
        "id": "4U61EDtTV_36"
      }
    },
    {
      "cell_type": "code",
      "execution_count": 14,
      "source": [
        "pump_df[:2]"
      ],
      "outputs": [
        {
          "output_type": "execute_result",
          "data": {
            "text/plain": [
              "           X          Y\n",
              "0   8.651201  17.891600\n",
              "1  10.984780  18.517851"
            ],
            "text/html": [
              "<div>\n",
              "<style scoped>\n",
              "    .dataframe tbody tr th:only-of-type {\n",
              "        vertical-align: middle;\n",
              "    }\n",
              "\n",
              "    .dataframe tbody tr th {\n",
              "        vertical-align: top;\n",
              "    }\n",
              "\n",
              "    .dataframe thead th {\n",
              "        text-align: right;\n",
              "    }\n",
              "</style>\n",
              "<table border=\"1\" class=\"dataframe\">\n",
              "  <thead>\n",
              "    <tr style=\"text-align: right;\">\n",
              "      <th></th>\n",
              "      <th>X</th>\n",
              "      <th>Y</th>\n",
              "    </tr>\n",
              "  </thead>\n",
              "  <tbody>\n",
              "    <tr>\n",
              "      <th>0</th>\n",
              "      <td>8.651201</td>\n",
              "      <td>17.891600</td>\n",
              "    </tr>\n",
              "    <tr>\n",
              "      <th>1</th>\n",
              "      <td>10.984780</td>\n",
              "      <td>18.517851</td>\n",
              "    </tr>\n",
              "  </tbody>\n",
              "</table>\n",
              "</div>"
            ]
          },
          "metadata": {
            "tags": []
          },
          "execution_count": 14
        }
      ],
      "metadata": {
        "id": "RyV59MJWV_37",
        "colab": {
          "base_uri": "https://localhost:8080/",
          "height": 111
        },
        "outputId": "26fd257f-1d3e-42ed-eb6d-b3286ec45f49"
      }
    },
    {
      "cell_type": "code",
      "execution_count": 15,
      "source": [
        "pump_df[-2:]"
      ],
      "outputs": [
        {
          "output_type": "execute_result",
          "data": {
            "text/plain": [
              "           X         Y\n",
              "11  16.00511  5.046838\n",
              "12   8.99944  5.101023"
            ],
            "text/html": [
              "<div>\n",
              "<style scoped>\n",
              "    .dataframe tbody tr th:only-of-type {\n",
              "        vertical-align: middle;\n",
              "    }\n",
              "\n",
              "    .dataframe tbody tr th {\n",
              "        vertical-align: top;\n",
              "    }\n",
              "\n",
              "    .dataframe thead th {\n",
              "        text-align: right;\n",
              "    }\n",
              "</style>\n",
              "<table border=\"1\" class=\"dataframe\">\n",
              "  <thead>\n",
              "    <tr style=\"text-align: right;\">\n",
              "      <th></th>\n",
              "      <th>X</th>\n",
              "      <th>Y</th>\n",
              "    </tr>\n",
              "  </thead>\n",
              "  <tbody>\n",
              "    <tr>\n",
              "      <th>11</th>\n",
              "      <td>16.00511</td>\n",
              "      <td>5.046838</td>\n",
              "    </tr>\n",
              "    <tr>\n",
              "      <th>12</th>\n",
              "      <td>8.99944</td>\n",
              "      <td>5.101023</td>\n",
              "    </tr>\n",
              "  </tbody>\n",
              "</table>\n",
              "</div>"
            ]
          },
          "metadata": {
            "tags": []
          },
          "execution_count": 15
        }
      ],
      "metadata": {
        "id": "ER3mP87SV_37",
        "colab": {
          "base_uri": "https://localhost:8080/",
          "height": 111
        },
        "outputId": "f531f3c8-674f-48e2-e8df-db75ce6bd542"
      }
    },
    {
      "cell_type": "code",
      "execution_count": 16,
      "source": [
        "pump_df[1:5]"
      ],
      "outputs": [
        {
          "output_type": "execute_result",
          "data": {
            "text/plain": [
              "           X          Y\n",
              "1  10.984780  18.517851\n",
              "2  13.378190  17.394541\n",
              "3  14.879830  17.809919\n",
              "4   8.694768  14.905470"
            ],
            "text/html": [
              "<div>\n",
              "<style scoped>\n",
              "    .dataframe tbody tr th:only-of-type {\n",
              "        vertical-align: middle;\n",
              "    }\n",
              "\n",
              "    .dataframe tbody tr th {\n",
              "        vertical-align: top;\n",
              "    }\n",
              "\n",
              "    .dataframe thead th {\n",
              "        text-align: right;\n",
              "    }\n",
              "</style>\n",
              "<table border=\"1\" class=\"dataframe\">\n",
              "  <thead>\n",
              "    <tr style=\"text-align: right;\">\n",
              "      <th></th>\n",
              "      <th>X</th>\n",
              "      <th>Y</th>\n",
              "    </tr>\n",
              "  </thead>\n",
              "  <tbody>\n",
              "    <tr>\n",
              "      <th>1</th>\n",
              "      <td>10.984780</td>\n",
              "      <td>18.517851</td>\n",
              "    </tr>\n",
              "    <tr>\n",
              "      <th>2</th>\n",
              "      <td>13.378190</td>\n",
              "      <td>17.394541</td>\n",
              "    </tr>\n",
              "    <tr>\n",
              "      <th>3</th>\n",
              "      <td>14.879830</td>\n",
              "      <td>17.809919</td>\n",
              "    </tr>\n",
              "    <tr>\n",
              "      <th>4</th>\n",
              "      <td>8.694768</td>\n",
              "      <td>14.905470</td>\n",
              "    </tr>\n",
              "  </tbody>\n",
              "</table>\n",
              "</div>"
            ]
          },
          "metadata": {
            "tags": []
          },
          "execution_count": 16
        }
      ],
      "metadata": {
        "id": "jG8Kof38V_37",
        "colab": {
          "base_uri": "https://localhost:8080/",
          "height": 173
        },
        "outputId": "cb73f3c7-8855-4a33-e1c1-be81c90caeef"
      }
    },
    {
      "cell_type": "markdown",
      "source": [
        "or filter rows using some conditions. "
      ],
      "metadata": {
        "id": "Swl_9wtdV_37"
      }
    },
    {
      "cell_type": "code",
      "execution_count": 17,
      "source": [
        "pump_df[pump_df.X > 13]"
      ],
      "outputs": [
        {
          "output_type": "execute_result",
          "data": {
            "text/plain": [
              "            X          Y\n",
              "2   13.378190  17.394541\n",
              "3   14.879830  17.809919\n",
              "8   13.521460   7.958250\n",
              "9   16.434891   9.252130\n",
              "10  18.914391   9.737819\n",
              "11  16.005110   5.046838"
            ],
            "text/html": [
              "<div>\n",
              "<style scoped>\n",
              "    .dataframe tbody tr th:only-of-type {\n",
              "        vertical-align: middle;\n",
              "    }\n",
              "\n",
              "    .dataframe tbody tr th {\n",
              "        vertical-align: top;\n",
              "    }\n",
              "\n",
              "    .dataframe thead th {\n",
              "        text-align: right;\n",
              "    }\n",
              "</style>\n",
              "<table border=\"1\" class=\"dataframe\">\n",
              "  <thead>\n",
              "    <tr style=\"text-align: right;\">\n",
              "      <th></th>\n",
              "      <th>X</th>\n",
              "      <th>Y</th>\n",
              "    </tr>\n",
              "  </thead>\n",
              "  <tbody>\n",
              "    <tr>\n",
              "      <th>2</th>\n",
              "      <td>13.378190</td>\n",
              "      <td>17.394541</td>\n",
              "    </tr>\n",
              "    <tr>\n",
              "      <th>3</th>\n",
              "      <td>14.879830</td>\n",
              "      <td>17.809919</td>\n",
              "    </tr>\n",
              "    <tr>\n",
              "      <th>8</th>\n",
              "      <td>13.521460</td>\n",
              "      <td>7.958250</td>\n",
              "    </tr>\n",
              "    <tr>\n",
              "      <th>9</th>\n",
              "      <td>16.434891</td>\n",
              "      <td>9.252130</td>\n",
              "    </tr>\n",
              "    <tr>\n",
              "      <th>10</th>\n",
              "      <td>18.914391</td>\n",
              "      <td>9.737819</td>\n",
              "    </tr>\n",
              "    <tr>\n",
              "      <th>11</th>\n",
              "      <td>16.005110</td>\n",
              "      <td>5.046838</td>\n",
              "    </tr>\n",
              "  </tbody>\n",
              "</table>\n",
              "</div>"
            ]
          },
          "metadata": {
            "tags": []
          },
          "execution_count": 17
        }
      ],
      "metadata": {
        "id": "8oIj10ytV_37",
        "colab": {
          "base_uri": "https://localhost:8080/",
          "height": 235
        },
        "outputId": "823362c5-791e-4c8c-ad52-9ed3473cb74d"
      }
    },
    {
      "cell_type": "markdown",
      "source": [
        "Now let's load another CSV file that documents the cholera deaths. The URL is https://raw.githubusercontent.com/yy/dviz-course/master/data/deaths.csv\n",
        "\n",
        "**Q2: load the death dataset and inspect it**\n",
        "\n",
        "1. **load this dataset as `death_df`.**\n",
        "2. **show the first 2 rows.**\n",
        "3. **show the total number of rows.**"
      ],
      "metadata": {
        "id": "HqcwcbD1V_38"
      }
    },
    {
      "cell_type": "code",
      "execution_count": 18,
      "source": [
        "# TODO: write your code here. You probably want to create multiple cells. \n"
      ],
      "outputs": [],
      "metadata": {
        "id": "etpbYVYWV_38"
      }
    },
    {
      "cell_type": "code",
      "execution_count": 19,
      "source": [],
      "outputs": [
        {
          "output_type": "execute_result",
          "data": {
            "text/plain": [
              "           X         Y\n",
              "0  13.588010  11.09560\n",
              "1   9.878124  12.55918"
            ],
            "text/html": [
              "<div>\n",
              "<style scoped>\n",
              "    .dataframe tbody tr th:only-of-type {\n",
              "        vertical-align: middle;\n",
              "    }\n",
              "\n",
              "    .dataframe tbody tr th {\n",
              "        vertical-align: top;\n",
              "    }\n",
              "\n",
              "    .dataframe thead th {\n",
              "        text-align: right;\n",
              "    }\n",
              "</style>\n",
              "<table border=\"1\" class=\"dataframe\">\n",
              "  <thead>\n",
              "    <tr style=\"text-align: right;\">\n",
              "      <th></th>\n",
              "      <th>X</th>\n",
              "      <th>Y</th>\n",
              "    </tr>\n",
              "  </thead>\n",
              "  <tbody>\n",
              "    <tr>\n",
              "      <th>0</th>\n",
              "      <td>13.588010</td>\n",
              "      <td>11.09560</td>\n",
              "    </tr>\n",
              "    <tr>\n",
              "      <th>1</th>\n",
              "      <td>9.878124</td>\n",
              "      <td>12.55918</td>\n",
              "    </tr>\n",
              "  </tbody>\n",
              "</table>\n",
              "</div>"
            ]
          },
          "metadata": {
            "tags": []
          },
          "execution_count": 19
        }
      ],
      "metadata": {
        "colab": {
          "base_uri": "https://localhost:8080/",
          "height": 111
        },
        "id": "tOFJPgXLds7Z",
        "outputId": "0952d595-c561-4f5d-a038-455656321e43"
      }
    },
    {
      "cell_type": "code",
      "execution_count": 20,
      "source": [],
      "outputs": [
        {
          "output_type": "execute_result",
          "data": {
            "text/plain": [
              "578"
            ]
          },
          "metadata": {
            "tags": []
          },
          "execution_count": 20
        }
      ],
      "metadata": {
        "colab": {
          "base_uri": "https://localhost:8080/"
        },
        "id": "QqMXmqx0du6Q",
        "outputId": "745cc381-a82e-45c1-9384-0be5165541db"
      }
    },
    {
      "cell_type": "markdown",
      "source": [
        "## Some visualizations?\n",
        "\n",
        "Let's visualize them! Pandas actually provides [a nice visualization interface](https://pandas.pydata.org/pandas-docs/stable/generated/pandas.DataFrame.plot.html) that uses [matplotlib](https://matplotlib.org) under the hood. You can do many basic plots without learning `matplotlib`. So let's try. "
      ],
      "metadata": {
        "id": "kAC-DH-hV_39"
      }
    },
    {
      "cell_type": "code",
      "execution_count": 21,
      "source": [
        "death_df.plot()"
      ],
      "outputs": [
        {
          "output_type": "execute_result",
          "data": {
            "text/plain": [
              "<matplotlib.axes._subplots.AxesSubplot at 0x7f8d56ea6a50>"
            ]
          },
          "metadata": {
            "tags": []
          },
          "execution_count": 21
        },
        {
          "output_type": "display_data",
          "data": {
            "text/plain": [
              "<Figure size 432x288 with 1 Axes>"
            ],
            "image/png": "[encoded data removed]"
          },
          "metadata": {
            "tags": [],
            "needs_background": "light"
          }
        }
      ],
      "metadata": {
        "id": "ph6kECE5V_39",
        "colab": {
          "base_uri": "https://localhost:8080/",
          "height": 282
        },
        "outputId": "379e7b00-a089-43f3-805d-a12f014505fd"
      }
    },
    {
      "cell_type": "markdown",
      "source": [
        "This is not what we want! When asked to plot the data, it tries to figure out what we want based on the type of the data. However, that doesn't mean that it will successfully do so!\n",
        "\n",
        "Oh by the way, depending on your environment, you may not see any plot. If you don't see anything run the following command."
      ],
      "metadata": {
        "id": "H3W83prDV_39"
      }
    },
    {
      "cell_type": "code",
      "execution_count": 22,
      "source": [
        "%matplotlib inline"
      ],
      "outputs": [],
      "metadata": {
        "id": "gpU22pmjV_39"
      }
    },
    {
      "cell_type": "markdown",
      "source": [
        "The commands that start with `%` is called [the magic commands](http://ipython.readthedocs.io/en/stable/interactive/magics.html#magic-matplotlib), which are available in IPython and Jupyter. The purpose of this command is telling the IPython / Jupyter to show the plot right here instead of trying to use other external viewers. "
      ],
      "metadata": {
        "id": "L-fpNQYZV_3-"
      }
    },
    {
      "cell_type": "markdown",
      "source": [
        "Anyway, this doesn't seem like the plot we want. Instead of putting each row as a point in a 2D plane by using the X and Y as the coordinate, it just created a line chart. Let's fix it. Please take a look at [the plot method documentation](https://pandas.pydata.org/pandas-docs/stable/generated/pandas.DataFrame.plot.html). How should we change the command? Which `kind` of plot do we want to draw? \n",
        "\n",
        "Yes, we want to draw a *scatter plot* using x and y as the Cartesian coordinates. "
      ],
      "metadata": {
        "id": "T5xSTa1-V_3-"
      }
    },
    {
      "cell_type": "code",
      "execution_count": 23,
      "source": [
        "death_df.plot(x='X', y='Y', kind='scatter', label='Deaths')"
      ],
      "outputs": [
        {
          "output_type": "execute_result",
          "data": {
            "text/plain": [
              "<matplotlib.axes._subplots.AxesSubplot at 0x7f8d4fbb81d0>"
            ]
          },
          "metadata": {
            "tags": []
          },
          "execution_count": 23
        },
        {
          "output_type": "display_data",
          "data": {
            "text/plain": [
              "<Figure size 432x288 with 1 Axes>"
            ],
            "image/png": "[encoded data removed]"
          },
          "metadata": {
            "tags": [],
            "needs_background": "light"
          }
        }
      ],
      "metadata": {
        "id": "ua7HqxqzV_3-",
        "colab": {
          "base_uri": "https://localhost:8080/",
          "height": 296
        },
        "outputId": "b3f807e4-4dc6-4820-a5eb-6227bdc7fa8b"
      }
    },
    {
      "cell_type": "markdown",
      "source": [
        "I think I want to reduce the size of the dots and change the color to black. But it is difficult to find how to do that! It is sometimes quite annoying to figure out how to change how the visualization looks, especially when we use `matplotlib`. Unlike some other advanced tools, `matplotlib` does not provide a very coherent way to adjust your visualizations. That's one of the reasons why there are lots of visualization libraries that *wrap* `matplotlib`. Anyway, this is how you do it. \n"
      ],
      "metadata": {
        "id": "orVd0jffV_3-"
      }
    },
    {
      "cell_type": "code",
      "execution_count": 24,
      "source": [
        "death_df.plot(x='X', y='Y', kind='scatter', label='Deaths', s=2, c='black')"
      ],
      "outputs": [
        {
          "output_type": "execute_result",
          "data": {
            "text/plain": [
              "<matplotlib.axes._subplots.AxesSubplot at 0x7f8d4f699f90>"
            ]
          },
          "metadata": {
            "tags": []
          },
          "execution_count": 24
        },
        {
          "output_type": "display_data",
          "data": {
            "text/plain": [
              "<Figure size 432x288 with 1 Axes>"
            ],
            "image/png": "[encoded data removed]"
          },
          "metadata": {
            "tags": [],
            "needs_background": "light"
          }
        }
      ],
      "metadata": {
        "id": "xJjY_vASV_3-",
        "colab": {
          "base_uri": "https://localhost:8080/",
          "height": 296
        },
        "outputId": "4edc8e95-4766-4c68-e1d3-e9c44e02b398"
      }
    },
    {
      "cell_type": "markdown",
      "source": [
        "Can we visualize both deaths and pumps? "
      ],
      "metadata": {
        "id": "mmWz1z7AV_3_"
      }
    },
    {
      "cell_type": "code",
      "execution_count": 25,
      "source": [
        "death_df.plot(x='X', y='Y', s=2, c='black', kind='scatter', label='Deaths')\n",
        "pump_df.plot(x='X', y='Y', kind='scatter', c='red', s=8, label='Pumps')"
      ],
      "outputs": [
        {
          "output_type": "execute_result",
          "data": {
            "text/plain": [
              "<matplotlib.axes._subplots.AxesSubplot at 0x7f8d4f5de6d0>"
            ]
          },
          "metadata": {
            "tags": []
          },
          "execution_count": 25
        },
        {
          "output_type": "display_data",
          "data": {
            "text/plain": [
              "<Figure size 432x288 with 1 Axes>"
            ],
            "image/png": "[encoded data removed]"
          },
          "metadata": {
            "tags": [],
            "needs_background": "light"
          }
        },
        {
          "output_type": "display_data",
          "data": {
            "text/plain": [
              "<Figure size 432x288 with 1 Axes>"
            ],
            "image/png": "[encoded data removed]"
          },
          "metadata": {
            "tags": [],
            "needs_background": "light"
          }
        }
      ],
      "metadata": {
        "id": "ISvIDLRpV_3_",
        "colab": {
          "base_uri": "https://localhost:8080/",
          "height": 558
        },
        "outputId": "e2d1d5fe-bdf3-440c-ca4a-129698364fda"
      }
    },
    {
      "cell_type": "markdown",
      "source": [
        "Oh well, this is not what we want! We want to overlay them to see them together, right? How can we do that? Before going into that, we probably want to understand some key components of matplotlib figures. "
      ],
      "metadata": {
        "id": "Tm-WOGmxeVZ_"
      }
    },
    {
      "cell_type": "markdown",
      "source": [
        "## Figure and Axes\n",
        "\n",
        "Why do we have two separate plots? The reason is that, by default, the `plot` method creates a new \\emph{figure} instead of putting them inside a single figure. In order to avoid it, we need to either create an [Axes](https://matplotlib.org/api/axes_api.html) and tell `plot` to use that axes. What is an `axes`? See this illustration. \n",
        "\n",
        "<img src=\"https://matplotlib.org/1.5.1/_images/fig_map.png\" alt=\"figure, axes, and axis\" style=\"width: 500px;\"/>\n",
        "\n",
        "\n",
        "A figure can contain multiple axes ([link](https://matplotlib.org/gallery/subplots_axes_and_figures/subplot_demo.html#sphx-glr-gallery-subplots-axes-and-figures-subplot-demo-py)). The figure below contains two axes:\n",
        "\n",
        "![multipleaxes](https://matplotlib.org/_images/sphx_glr_subplot_demo_001.png)\n",
        "\n",
        "and an axes can contain multiple plots ([link](https://matplotlib.org/gallery/api/two_scales.html#sphx-glr-gallery-api-two-scales-py)). \n",
        "\n",
        "![multipleplots](https://matplotlib.org/_images/sphx_glr_two_scales_001.png)\n",
        "\n",
        "Conveniently, when you call `plot` method, it creates an axes and returns it to you"
      ],
      "metadata": {
        "id": "I3WkLGsOV_3_"
      }
    },
    {
      "cell_type": "code",
      "execution_count": 26,
      "source": [
        "ax = death_df.plot(x='X', y='Y', s=2, c='black', kind='scatter', label='Deaths')"
      ],
      "outputs": [
        {
          "output_type": "display_data",
          "data": {
            "text/plain": [
              "<Figure size 432x288 with 1 Axes>"
            ],
            "image/png": "[encoded data removed]"
          },
          "metadata": {
            "tags": [],
            "needs_background": "light"
          }
        }
      ],
      "metadata": {
        "id": "LCXtKHnNV_3_",
        "colab": {
          "base_uri": "https://localhost:8080/",
          "height": 279
        },
        "outputId": "59a07566-37b8-4e7e-bee9-19484685bc1f"
      }
    },
    {
      "cell_type": "code",
      "execution_count": 27,
      "source": [
        "ax"
      ],
      "outputs": [
        {
          "output_type": "execute_result",
          "data": {
            "text/plain": [
              "<matplotlib.axes._subplots.AxesSubplot at 0x7f8d4f503910>"
            ]
          },
          "metadata": {
            "tags": []
          },
          "execution_count": 27
        }
      ],
      "metadata": {
        "id": "HW1x9mSPV_3_",
        "colab": {
          "base_uri": "https://localhost:8080/"
        },
        "outputId": "409eed6e-5461-453f-8912-4d3a17a3ec13"
      }
    },
    {
      "cell_type": "markdown",
      "source": [
        "This object contains all the information and objects in the plot we see. Whatever we want to do with this axes (e.g., changing x or y scale, overlaying other data, changing the color or size of symbols, etc.) can be done by accessing this object. \n",
        "\n",
        "Then you can pass this axes object to another plot to put both plots in the same axes. Note `ax=ax` in the second plot command. It tells the plot command _where_ to draw the points. "
      ],
      "metadata": {
        "id": "B3dp1tBFV_4A"
      }
    },
    {
      "cell_type": "code",
      "execution_count": 28,
      "source": [
        "ax = death_df.plot(x='X', y='Y', s=2, c='black', alpha=0.5, kind='scatter', label='Deaths')\n",
        "pump_df.plot(x='X', y='Y', kind='scatter', c='red', s=8, label='Pumps', ax=ax)"
      ],
      "outputs": [
        {
          "output_type": "execute_result",
          "data": {
            "text/plain": [
              "<matplotlib.axes._subplots.AxesSubplot at 0x7f8d4f4ccb90>"
            ]
          },
          "metadata": {
            "tags": []
          },
          "execution_count": 28
        },
        {
          "output_type": "display_data",
          "data": {
            "text/plain": [
              "<Figure size 432x288 with 1 Axes>"
            ],
            "image/png": "[encoded data removed]"
          },
          "metadata": {
            "tags": [],
            "needs_background": "light"
          }
        }
      ],
      "metadata": {
        "id": "C1Q8tKHLV_4A",
        "colab": {
          "base_uri": "https://localhost:8080/",
          "height": 296
        },
        "outputId": "df96e7d1-1da0-4896-ac0d-7d4e4768ee29"
      }
    },
    {
      "cell_type": "markdown",
      "source": [
        "Although simply invoking the `plot()` command is quick and easy when doing an exploratory data analysis, it is usually better to be formal about figure and axes objects. \n",
        "\n",
        "Here is the recommended way to create a plot. Call the `subplots()` method (see https://matplotlib.org/3.2.1/api/_as_gen/matplotlib.pyplot.subplots.html) to get the figure and axes objects explicitly. \n",
        "\n",
        "As you can see below, `subplots()` creates an empty figure and returns the figure and axes object to you. Then you can fill this empty canvas with your plots. Whatever manipulation you want to make about your figure (e.g., changing the size of the figure) or axes (e.g., drawing a new plot on it) can be done with `fig` and `ax` objects. So whenever possible, use this method! \n",
        "\n",
        "**Now, can you use this method to produce the same plot just above?**"
      ],
      "metadata": {
        "id": "OZN7reANV_4A"
      }
    },
    {
      "cell_type": "code",
      "execution_count": 29,
      "source": [
        "import matplotlib.pyplot as plt\n",
        "fig, ax = plt.subplots()\n",
        "\n",
        "# your code here\n"
      ],
      "outputs": [
        {
          "output_type": "execute_result",
          "data": {
            "text/plain": [
              "<matplotlib.axes._subplots.AxesSubplot at 0x7f8d4f46ced0>"
            ]
          },
          "metadata": {
            "tags": []
          },
          "execution_count": 29
        },
        {
          "output_type": "display_data",
          "data": {
            "text/plain": [
              "<Figure size 432x288 with 1 Axes>"
            ],
            "image/png": "[encoded data removed]"
          },
          "metadata": {
            "tags": [],
            "needs_background": "light"
          }
        }
      ],
      "metadata": {
        "id": "1eIf1U3-V_4A",
        "colab": {
          "base_uri": "https://localhost:8080/",
          "height": 296
        },
        "outputId": "ceaceb07-a913-4e1a-8019-9b9e8a102dcb"
      }
    },
    {
      "cell_type": "markdown",
      "source": [
        "## Voronoi diagram\n",
        "\n",
        "Let's try the Voronoi diagram. You can use the `scipy.spatial.Voronoi` and `scipy.spatial.voronoi_plot_2d` from `scipy`, the *scientific python* library. "
      ],
      "metadata": {
        "id": "6D35-mOsV_4B"
      }
    },
    {
      "cell_type": "code",
      "execution_count": 30,
      "source": [
        "from scipy.spatial import Voronoi, voronoi_plot_2d"
      ],
      "outputs": [],
      "metadata": {
        "id": "KhTMAkUXV_4B"
      }
    },
    {
      "cell_type": "markdown",
      "source": [
        "Take a look at the documentation of [Voronoi](https://docs.scipy.org/doc/scipy-0.18.1/reference/generated/scipy.spatial.Voronoi.html#scipy.spatial.Voronoi) and [voronoi_plot_2d](https://docs.scipy.org/doc/scipy-0.18.1/reference/generated/scipy.spatial.voronoi_plot_2d.html) and \n",
        "\n",
        "**Q3: produce a Voronoi diagram that shows the deaths, pumps, and voronoi cells**"
      ],
      "metadata": {
        "id": "Lh3AfTGYV_4B"
      }
    },
    {
      "cell_type": "code",
      "execution_count": 31,
      "source": [
        "# you'll need this\n",
        "points = pump_df.values\n",
        "points"
      ],
      "outputs": [
        {
          "output_type": "execute_result",
          "data": {
            "text/plain": [
              "array([[ 8.6512012, 17.8915997],\n",
              "       [10.9847803, 18.5178509],\n",
              "       [13.37819  , 17.3945408],\n",
              "       [14.8798304, 17.8099194],\n",
              "       [ 8.694768 , 14.9054699],\n",
              "       [ 8.8644161, 12.75354  ],\n",
              "       [12.5713596, 11.72717  ],\n",
              "       [10.6609697,  7.428647 ],\n",
              "       [13.5214596,  7.95825  ],\n",
              "       [16.4348907,  9.2521296],\n",
              "       [18.9143906,  9.7378187],\n",
              "       [16.0051098,  5.0468378],\n",
              "       [ 8.9994402,  5.1010232]])"
            ]
          },
          "metadata": {
            "tags": []
          },
          "execution_count": 31
        }
      ],
      "metadata": {
        "id": "wXwXlUiKV_4B",
        "colab": {
          "base_uri": "https://localhost:8080/"
        },
        "outputId": "206849a6-e068-49fa-e199-3f806489ba22"
      }
    },
    {
      "cell_type": "code",
      "execution_count": 32,
      "source": [
        "# TODO: your code here\n"
      ],
      "outputs": [
        {
          "output_type": "display_data",
          "data": {
            "text/plain": [
              "<Figure size 432x288 with 1 Axes>"
            ],
            "image/png": "[encoded data removed]"
          },
          "metadata": {
            "tags": [],
            "needs_background": "light"
          }
        }
      ],
      "metadata": {
        "id": "M4rrcm6wV_4C",
        "colab": {
          "base_uri": "https://localhost:8080/",
          "height": 279
        },
        "outputId": "6dc6ef21-1721-476f-aafb-2865dc896947"
      }
    },
    {
      "cell_type": "markdown",
      "source": [
        "## Saving the figure\n",
        "\n",
        "You can also save your figure into PDF, PNG, etc. If you run the following, the plot will not only be displayed here, but also be saved as `foo.png`. "
      ],
      "metadata": {
        "id": "aLkNmyE2V_4C"
      }
    },
    {
      "cell_type": "code",
      "execution_count": 33,
      "source": [
        "import matplotlib.pyplot as plt\n",
        "plt.plot([1,2,3], [4,2,3])\n",
        "plt.savefig('foo.png')"
      ],
      "outputs": [
        {
          "output_type": "display_data",
          "data": {
            "text/plain": [
              "<Figure size 432x288 with 1 Axes>"
            ],
            "image/png": "[encoded data removed]"
          },
          "metadata": {
            "tags": [],
            "needs_background": "light"
          }
        }
      ],
      "metadata": {
        "id": "JzE4wyLFV_4C",
        "colab": {
          "base_uri": "https://localhost:8080/",
          "height": 265
        },
        "outputId": "c4d642c4-09b9-4ee4-8893-9db9c0c6b495"
      }
    },
    {
      "cell_type": "markdown",
      "source": [
        "**Q4: Save your Voronoi diagram. Make sure that your plot contains the scatterplot of deaths & pumps as well as the Voronoi cells**"
      ],
      "metadata": {
        "id": "MLPpKe0lV_4C"
      }
    },
    {
      "cell_type": "code",
      "execution_count": 34,
      "source": [
        "# TODO: your code here\n"
      ],
      "outputs": [
        {
          "output_type": "display_data",
          "data": {
            "text/plain": [
              "<Figure size 432x288 with 1 Axes>"
            ],
            "image/png": "[encoded data removed]"
          },
          "metadata": {
            "tags": [],
            "needs_background": "light"
          }
        }
      ],
      "metadata": {
        "id": "2Oc8emUJV_4D",
        "colab": {
          "base_uri": "https://localhost:8080/",
          "height": 279
        },
        "outputId": "6e550809-4c78-48f1-9998-c5193236d000"
      }
    },
    {
      "cell_type": "markdown",
      "source": [
        "Ok, that was a brief introduction to `pandas` and some simple visualizations. Now let's talk about web a little bit. "
      ],
      "metadata": {
        "id": "R2pVtuNAV_4D"
      }
    },
    {
      "cell_type": "markdown",
      "source": [
        "## HTML & CSS Basics\n",
        "\n",
        "### HTML review\n",
        "\n",
        "Webpages are written in a standard markup language called HTML (HyperText Markup Language). The basic syntax of HTML consists of elements enclosed within `<` and `>` symbols. Markup tags often come in a pair, the opening tag without `/` and the closing tag with `/`. For instance, when we assign the title of the webpage, we write `<title>This is the title of the page</title>`. You can find tutorials and references from many websites, including [W3Schools](https://www.w3schools.com/). Here is an example of a simple HTML document (from w3schools homepage):\n",
        "\n",
        "```html\n",
        "<!DOCTYPE html>\n",
        "<html>\n",
        "<title>HTML Tutorial</title>\n",
        "<body>\n",
        "\n",
        "<h1>This is a heading</h1>\n",
        "<p>This is a paragraph.</p>\n",
        "\n",
        "</body>\n",
        "</html>\n",
        "```\n",
        "\n",
        "Here is a list of important tags and their descriptions.\n",
        "\n",
        "- `<html>` - Surrounds the entire document.\n",
        "\n",
        "- `<head>` - Contains information about the document. E.g. the title, metadata, scripts to load, stylesheets, etc.\n",
        "\n",
        "- `<title>` - Assigns title to the page. This is what you see in the tab and what you have when the page is bookmarked. \n",
        "\n",
        "- `<body>` - The main part of the document.\n",
        "\n",
        "- `<h1>`, `<h2>`, `<h3>`, ... - Headings (Smaller the number, larger the size).\n",
        "\n",
        "- `<p>` - Paragraph. e.g., `<p>Here is a paragraph</p>`\n",
        "\n",
        "- `<br>` - Line break.\n",
        "\n",
        "- `<em>` - emphasize text.\n",
        "\n",
        "- `<strong>` - Bold font.\n",
        "\n",
        "- `<a>` - Defines a hyperlink and allows you to link out to the other webpages. See [examples](https://www.w3schools.com/html/html_links.asp)\n",
        "\n",
        "- `<img>` - Place an image. See [examples](https://www.w3schools.com/html/html_images.asp)\n",
        "\n",
        "- `<ul>`, `<ol>`, `<li>` - Unordered lists with bullets, ordered lists with numbers and each item in list respectively. See [examples](https://www.w3schools.com/html/html_lists.asp)\n",
        "\n",
        "- `<table>` - Make a table, specifying contents of each cell. See [examples](https://www.w3schools.com/html/html_tables.asp)\n",
        "\n",
        "- `<!-->` - Comments – will not be displayed.\n",
        "\n",
        "- `<span>` - This will mark a certain part of text but will not necessarily change how they look. CSS or Javascript can access them and change how they look or behave. \n",
        "\n",
        "- `<div>` - Similar to `<span>`, but used for a block that contains many elements. \n",
        "\n",
        "### CSS review\n",
        "\n",
        "While HTML specifies the content and structure, it does not say how they should _look_. \n",
        "\n",
        "CSS (Cascading Style Sheets) is the primary language that is used for the look and formatting of a web document. In the context of creating visualization, CSS becomes critical when you create web-based (Javascript-based) visualizations.\n",
        "\n",
        "A CSS stylesheet consists of one or more selectors, properties and values. For example:\n",
        "\n",
        "```css\n",
        "body {   \n",
        "    background-color: white;   \n",
        "    color: steelblue;   \n",
        "}\n",
        "```\n",
        "\t\n",
        "Selectors are the HTML elements to which the specific styles (combination of properties and values) will be applied. In the above example, all text within the `body` tags will be in steelblue.\n",
        "\n",
        "There are three ways to include CSS code in HTML. This is called \"referencing\".\n",
        "\n",
        "Embed CSS in HTML - You can place the CSS code within `style` tags inside the `head` tags. This way you can keep everything within a single HTML file but does make the code lengthy.\n",
        "\n",
        "```html\n",
        "<head>  \t\t\t\n",
        "  <style type=\"text/css\">\n",
        "      .description {\n",
        "      font: 16px times-new-roman;\n",
        "      }\n",
        "      .viz {\n",
        "      font: 10px sans-serif;\n",
        "      } \n",
        "  </style>\n",
        "</head>\n",
        "```\n",
        "Reference an external stylesheet from HTML is a much cleaner way but results in the creation of another file. To do this, you can copy the CSS code into a text file and save it as a `.css` file in the same folder as the HTML file. In the document head in the HTML code, you can then do the following:\n",
        "\n",
        "```html\n",
        "<head>\n",
        "  <link rel=\"stylesheet\" href=\"main.css\">\n",
        "</head>\n",
        "```\n",
        "\t\n",
        "Attach inline styles - You can also directly attach the styles in-line along with the main HTML code in the body. This makes it easy to customize specific elements but makes the code very messy, because the design and content get mixed up.\n",
        "\n",
        "```html\n",
        "<p style=\"color: green; font-size:36px; font-weight:bold;\">Inline styles can be handy sometimes.</p>\n",
        "```"
      ],
      "metadata": {
        "id": "3KVCBVJ7V_4D"
      }
    },
    {
      "cell_type": "markdown",
      "source": [
        "**Q5: Create a simple HTML page that displays the Voronoi diagram that you saved. Feel free to add more plots, explanations, and any styles. Make sure to check you can run the Python webserver and open the HTML file that you created.**\n",
        "\n",
        "Btw, you can also export Jupyter notebook into various formats. Click `File -> Export Notebook As` and play with it. "
      ],
      "metadata": {
        "id": "waBq0KT7V_4E"
      }
    },
    {
      "cell_type": "markdown",
      "source": [
        "## Now submit your work\n",
        "\n",
        "Export your notebook to HTML (`lab02_notebook_lastname_firstname.html`). Then also rename your `HTML` (CSS) files from HTML/CSS exercise in the format of `lab02_lastname_firstname`. Upload these files to Canvas. "
      ],
      "metadata": {
        "id": "C5xMCDKLV_4E"
      }
    },
    {
      "cell_type": "code",
      "execution_count": 34,
      "source": [],
      "outputs": [],
      "metadata": {
        "id": "lJvvZ1YIV_4E"
      }
    }
  ],
  "metadata": {
    "anaconda-cloud": {},
    "kernel_info": {
      "name": "dviz"
    },
    "kernelspec": {
      "display_name": "dviz",
      "language": "python",
      "name": "dviz"
    },
    "language_info": {
      "name": "python",
      "version": "3.7.7",
      "mimetype": "text/x-python",
      "codemirror_mode": {
        "name": "ipython",
        "version": 3
      },
      "pygments_lexer": "ipython3",
      "nbconvert_exporter": "python",
      "file_extension": ".py"
    },
    "nteract": {
      "version": "0.28.0"
    },
    "colab": {
      "name": "lab02.ipynb",
      "provenance": [],
      "collapsed_sections": [
        "C5xMCDKLV_4E"
      ]
    }
  },
  "nbformat": 4,
  "nbformat_minor": 2
}