{
  "nbformat": 4,
  "nbformat_minor": 2,
  "metadata": {
    "anaconda-cloud": {},
    "kernel_info": {
      "name": "dviz"
    },
    "kernelspec": {
      "display_name": "dviz",
      "language": "python",
      "name": "dviz"
    },
    "language_info": {
      "codemirror_mode": {
        "name": "ipython",
        "version": 3
      },
      "file_extension": ".py",
      "mimetype": "text/x-python",
      "name": "python",
      "nbconvert_exporter": "python",
      "pygments_lexer": "ipython3",
      "version": "3.7.7"
    },
    "nteract": {
      "version": "0.23.3"
    },
    "toc": {
      "nav_menu": {},
      "number_sections": true,
      "sideBar": true,
      "skip_h1_title": false,
      "title_cell": "Table of Contents",
      "title_sidebar": "Contents",
      "toc_cell": false,
      "toc_position": {},
      "toc_section_display": true,
      "toc_window_display": false
    },
    "colab": {
      "name": "m08-lab.ipynb",
      "provenance": [],
      "collapsed_sections": []
    }
  },
  "cells": [
    {
      "cell_type": "markdown",
      "source": [
        "<table class=\"m01-notebook-buttons\" align=\"left\">\n",
        "  <td>\n",
        "    <a target=\"_blank\" href=\"https://colab.research.google.com/github/yy/dviz-course/blob/master/m08-histogram/m08-lab.ipynb\"><img src=\"https://www.tensorflow.org/images/colab_logo_32px.png\" />Run in Google Colab</a>\n",
        "  </td>\n",
        "  <td>\n",
        "    <a href=\"https://github.com/yy/dviz-course/blob/master/m08-histogram/m08-lab.ipynb\"><img src=\"https://www.tensorflow.org/images/GitHub-Mark-32px.png\" />View on Github</a>\n",
        "  </td>\n",
        "</table>"
      ],
      "metadata": {}
    },
    {
      "cell_type": "markdown",
      "source": [
        "# Module 8: Histogram and CDF\n",
        "\n",
        "A deep dive into Histogram and boxplot."
      ],
      "metadata": {
        "id": "uJaeks6I_G-4"
      }
    },
    {
      "cell_type": "code",
      "execution_count": null,
      "source": [
        "import matplotlib.pyplot as plt\n",
        "import numpy as np\n",
        "import seaborn as sns\n",
        "import altair as alt\n",
        "import pandas as pd"
      ],
      "outputs": [],
      "metadata": {
        "id": "a7PXB9c9_G-5"
      }
    },
    {
      "cell_type": "code",
      "execution_count": null,
      "source": [
        "import matplotlib\n",
        "matplotlib.__version__"
      ],
      "outputs": [
        {
          "output_type": "execute_result",
          "data": {
            "text/plain": [
              "'3.1.3'"
            ]
          },
          "metadata": {
            "tags": []
          },
          "execution_count": 2
        }
      ],
      "metadata": {
        "jupyter": {
          "outputs_hidden": false
        },
        "id": "b05OkVl0_G-6",
        "outputId": "5f126950-0ded-4241-e1a1-10469535d3ab"
      }
    },
    {
      "cell_type": "markdown",
      "source": [
        "## The tricky histogram with pre-counted data"
      ],
      "metadata": {
        "id": "8_bJgIa-_G-7"
      }
    },
    {
      "cell_type": "markdown",
      "source": [
        "Let's revisit the table from the class\n",
        "\n",
        "| Hours | Frequency |\n",
        "|-------|-----------|\n",
        "| 0-1   | 4,300     |\n",
        "| 1-3   | 6,900     |\n",
        "| 3-5   | 4,900     |\n",
        "| 5-10  | 2,000     |\n",
        "| 10-24 | 2,100     |"
      ],
      "metadata": {
        "id": "BlKijZi6_G-7"
      }
    },
    {
      "cell_type": "markdown",
      "source": [
        "You can draw a histogram by just providing bins and counts instead of a list of numbers. So, let's try that. "
      ],
      "metadata": {
        "id": "TRqvntvf_G-8"
      }
    },
    {
      "cell_type": "code",
      "execution_count": null,
      "source": [
        "bins = [0, 1, 3, 5, 10, 24]\n",
        "data = {0.5: 4300, 2: 6900, 4: 4900, 7: 2000, 15: 2100} "
      ],
      "outputs": [],
      "metadata": {
        "id": "QZ4VOzrB_G-8"
      }
    },
    {
      "cell_type": "code",
      "execution_count": null,
      "source": [
        "data.keys()"
      ],
      "outputs": [
        {
          "output_type": "execute_result",
          "data": {
            "text/plain": [
              "dict_keys([0.5, 2, 4, 7, 15])"
            ]
          },
          "metadata": {
            "tags": []
          },
          "execution_count": 4
        }
      ],
      "metadata": {
        "jupyter": {
          "outputs_hidden": false
        },
        "id": "7gP0hDx8_G-8",
        "outputId": "daaff1d3-a9b4-4ba0-9852-5d28bc591984"
      }
    },
    {
      "cell_type": "markdown",
      "source": [
        "**Q: Draw histogram using this data.** Useful query: [Google search: matplotlib histogram pre-counted](https://www.google.com/search?client=safari&rls=en&q=matplotlib+histogram+already+counted&ie=UTF-8&oe=UTF-8#q=matplotlib+histogram+pre-counted)"
      ],
      "metadata": {
        "id": "29jcxJhc_G-9"
      }
    },
    {
      "cell_type": "code",
      "execution_count": null,
      "source": [
        "# TODO: draw a histogram with weighted data. \n"
      ],
      "outputs": [
        {
          "output_type": "execute_result",
          "data": {
            "text/plain": [
              "Text(0, 0.5, 'Frequency')"
            ]
          },
          "metadata": {
            "tags": []
          },
          "execution_count": 5
        },
        {
          "output_type": "display_data",
          "data": {
            "text/plain": [
              "<Figure size 432x288 with 1 Axes>"
            ],
            "image/png": "[encoded data removed]"
          },
          "metadata": {
            "tags": [],
            "needs_background": "light"
          }
        }
      ],
      "metadata": {
        "jupyter": {
          "outputs_hidden": false
        },
        "id": "QVvYy95b_G-9",
        "outputId": "b48aa7c4-f423-45a4-a8c1-32178eda04cb"
      }
    },
    {
      "cell_type": "markdown",
      "source": [
        "As you can see, the **default histogram does not normalize with binwidth and simply shows the counts**! This can be very misleading if you are working with variable bin width (e.g. logarithmic bins). So please be mindful about histograms when you work with variable bins. \n",
        "\n",
        "**Q: You can fix this by using the `density` option.**"
      ],
      "metadata": {
        "id": "4upYTxA__G--"
      }
    },
    {
      "cell_type": "code",
      "execution_count": null,
      "source": [
        "# TODO: fix it with density option. \n"
      ],
      "outputs": [
        {
          "output_type": "execute_result",
          "data": {
            "text/plain": [
              "Text(0, 0.5, 'Density')"
            ]
          },
          "metadata": {
            "tags": []
          },
          "execution_count": 6
        },
        {
          "output_type": "display_data",
          "data": {
            "text/plain": [
              "<Figure size 432x288 with 1 Axes>"
            ],
            "image/png": "[encoded data removed]"
          },
          "metadata": {
            "tags": [],
            "needs_background": "light"
          }
        }
      ],
      "metadata": {
        "jupyter": {
          "outputs_hidden": false
        },
        "id": "scqFe0gC_G-_",
        "outputId": "5e311534-9f21-443e-9d9b-7ce214888274"
      }
    },
    {
      "cell_type": "markdown",
      "source": [
        "## Let's use an actual dataset"
      ],
      "metadata": {
        "id": "Y4vQlcG2_G-_"
      }
    },
    {
      "cell_type": "code",
      "execution_count": null,
      "source": [
        "import vega_datasets"
      ],
      "outputs": [],
      "metadata": {
        "id": "nTs4tXrh_G_A"
      }
    },
    {
      "cell_type": "code",
      "execution_count": null,
      "source": [
        "vega_datasets.__version__"
      ],
      "outputs": [],
      "metadata": {
        "id": "5W2VDMUw_O9_"
      }
    },
    {
      "cell_type": "markdown",
      "source": [
        "**Note:** Please check your `vega_datasets` version using `vega_datasets.__version__`. If you have a version lower than `0.9.0`, you will need to check the column names in `movies.head()` and update it accordingly in the code cells below."
      ],
      "metadata": {
        "id": "2qrsL-7B_SIe"
      }
    },
    {
      "cell_type": "code",
      "execution_count": null,
      "source": [
        "movies = vega_datasets.data.movies()\n",
        "movies.head()"
      ],
      "outputs": [
        {
          "output_type": "execute_result",
          "data": {
            "text/plain": [
              "                        Title   US Gross  Worldwide Gross  US DVD Sales  \\\n",
              "0              The Land Girls   146083.0         146083.0           NaN   \n",
              "1      First Love, Last Rites    10876.0          10876.0           NaN   \n",
              "2  I Married a Strange Person   203134.0         203134.0           NaN   \n",
              "3        Let's Talk About Sex   373615.0         373615.0           NaN   \n",
              "4                        Slam  1009819.0        1087521.0           NaN   \n",
              "\n",
              "   Production Budget Release Date MPAA Rating  Running Time min Distributor  \\\n",
              "0          8000000.0  Jun 12 1998           R               NaN    Gramercy   \n",
              "1           300000.0  Aug 07 1998           R               NaN      Strand   \n",
              "2           250000.0  Aug 28 1998        None               NaN   Lionsgate   \n",
              "3           300000.0  Sep 11 1998        None               NaN   Fine Line   \n",
              "4          1000000.0  Oct 09 1998           R               NaN     Trimark   \n",
              "\n",
              "                Source Major Genre         Creative Type Director  \\\n",
              "0                 None        None                  None     None   \n",
              "1                 None       Drama                  None     None   \n",
              "2                 None      Comedy                  None     None   \n",
              "3                 None      Comedy                  None     None   \n",
              "4  Original Screenplay       Drama  Contemporary Fiction     None   \n",
              "\n",
              "   Rotten Tomatoes Rating  IMDB Rating  IMDB Votes  \n",
              "0                     NaN          6.1      1071.0  \n",
              "1                     NaN          6.9       207.0  \n",
              "2                     NaN          6.8       865.0  \n",
              "3                    13.0          NaN         NaN  \n",
              "4                    62.0          3.4       165.0  "
            ],
            "text/html": [
              "<div>\n",
              "<style scoped>\n",
              "    .dataframe tbody tr th:only-of-type {\n",
              "        vertical-align: middle;\n",
              "    }\n",
              "\n",
              "    .dataframe tbody tr th {\n",
              "        vertical-align: top;\n",
              "    }\n",
              "\n",
              "    .dataframe thead th {\n",
              "        text-align: right;\n",
              "    }\n",
              "</style>\n",
              "<table border=\"1\" class=\"dataframe\">\n",
              "  <thead>\n",
              "    <tr style=\"text-align: right;\">\n",
              "      <th></th>\n",
              "      <th>Title</th>\n",
              "      <th>US Gross</th>\n",
              "      <th>Worldwide Gross</th>\n",
              "      <th>US DVD Sales</th>\n",
              "      <th>Production Budget</th>\n",
              "      <th>Release Date</th>\n",
              "      <th>MPAA Rating</th>\n",
              "      <th>Running Time min</th>\n",
              "      <th>Distributor</th>\n",
              "      <th>Source</th>\n",
              "      <th>Major Genre</th>\n",
              "      <th>Creative Type</th>\n",
              "      <th>Director</th>\n",
              "      <th>Rotten Tomatoes Rating</th>\n",
              "      <th>IMDB Rating</th>\n",
              "      <th>IMDB Votes</th>\n",
              "    </tr>\n",
              "  </thead>\n",
              "  <tbody>\n",
              "    <tr>\n",
              "      <th>0</th>\n",
              "      <td>The Land Girls</td>\n",
              "      <td>146083.0</td>\n",
              "      <td>146083.0</td>\n",
              "      <td>NaN</td>\n",
              "      <td>8000000.0</td>\n",
              "      <td>Jun 12 1998</td>\n",
              "      <td>R</td>\n",
              "      <td>NaN</td>\n",
              "      <td>Gramercy</td>\n",
              "      <td>None</td>\n",
              "      <td>None</td>\n",
              "      <td>None</td>\n",
              "      <td>None</td>\n",
              "      <td>NaN</td>\n",
              "      <td>6.1</td>\n",
              "      <td>1071.0</td>\n",
              "    </tr>\n",
              "    <tr>\n",
              "      <th>1</th>\n",
              "      <td>First Love, Last Rites</td>\n",
              "      <td>10876.0</td>\n",
              "      <td>10876.0</td>\n",
              "      <td>NaN</td>\n",
              "      <td>300000.0</td>\n",
              "      <td>Aug 07 1998</td>\n",
              "      <td>R</td>\n",
              "      <td>NaN</td>\n",
              "      <td>Strand</td>\n",
              "      <td>None</td>\n",
              "      <td>Drama</td>\n",
              "      <td>None</td>\n",
              "      <td>None</td>\n",
              "      <td>NaN</td>\n",
              "      <td>6.9</td>\n",
              "      <td>207.0</td>\n",
              "    </tr>\n",
              "    <tr>\n",
              "      <th>2</th>\n",
              "      <td>I Married a Strange Person</td>\n",
              "      <td>203134.0</td>\n",
              "      <td>203134.0</td>\n",
              "      <td>NaN</td>\n",
              "      <td>250000.0</td>\n",
              "      <td>Aug 28 1998</td>\n",
              "      <td>None</td>\n",
              "      <td>NaN</td>\n",
              "      <td>Lionsgate</td>\n",
              "      <td>None</td>\n",
              "      <td>Comedy</td>\n",
              "      <td>None</td>\n",
              "      <td>None</td>\n",
              "      <td>NaN</td>\n",
              "      <td>6.8</td>\n",
              "      <td>865.0</td>\n",
              "    </tr>\n",
              "    <tr>\n",
              "      <th>3</th>\n",
              "      <td>Let's Talk About Sex</td>\n",
              "      <td>373615.0</td>\n",
              "      <td>373615.0</td>\n",
              "      <td>NaN</td>\n",
              "      <td>300000.0</td>\n",
              "      <td>Sep 11 1998</td>\n",
              "      <td>None</td>\n",
              "      <td>NaN</td>\n",
              "      <td>Fine Line</td>\n",
              "      <td>None</td>\n",
              "      <td>Comedy</td>\n",
              "      <td>None</td>\n",
              "      <td>None</td>\n",
              "      <td>13.0</td>\n",
              "      <td>NaN</td>\n",
              "      <td>NaN</td>\n",
              "    </tr>\n",
              "    <tr>\n",
              "      <th>4</th>\n",
              "      <td>Slam</td>\n",
              "      <td>1009819.0</td>\n",
              "      <td>1087521.0</td>\n",
              "      <td>NaN</td>\n",
              "      <td>1000000.0</td>\n",
              "      <td>Oct 09 1998</td>\n",
              "      <td>R</td>\n",
              "      <td>NaN</td>\n",
              "      <td>Trimark</td>\n",
              "      <td>Original Screenplay</td>\n",
              "      <td>Drama</td>\n",
              "      <td>Contemporary Fiction</td>\n",
              "      <td>None</td>\n",
              "      <td>62.0</td>\n",
              "      <td>3.4</td>\n",
              "      <td>165.0</td>\n",
              "    </tr>\n",
              "  </tbody>\n",
              "</table>\n",
              "</div>"
            ]
          },
          "metadata": {
            "tags": []
          },
          "execution_count": 8
        }
      ],
      "metadata": {
        "jupyter": {
          "outputs_hidden": false
        },
        "id": "QAuKwXO-_G_A",
        "outputId": "087c0499-f1e1-4167-8ba6-b94347090067"
      }
    },
    {
      "cell_type": "markdown",
      "source": [
        "Let's plot the histogram of IMDB ratings. "
      ],
      "metadata": {
        "id": "SrNIv642_G_B"
      }
    },
    {
      "cell_type": "code",
      "execution_count": null,
      "source": [
        "plt.hist(movies['IMDB_Rating'])"
      ],
      "outputs": [
        {
          "output_type": "stream",
          "name": "stderr",
          "text": [
            "/opt/anaconda3/envs/py37/lib/python3.7/site-packages/numpy/lib/histograms.py:839: RuntimeWarning: invalid value encountered in greater_equal\n",
            "  keep = (tmp_a >= first_edge)\n",
            "/opt/anaconda3/envs/py37/lib/python3.7/site-packages/numpy/lib/histograms.py:840: RuntimeWarning: invalid value encountered in less_equal\n",
            "  keep &= (tmp_a <= last_edge)\n"
          ]
        },
        {
          "output_type": "execute_result",
          "data": {
            "text/plain": [
              "(array([  9.,  39.,  76., 133., 293., 599., 784., 684., 323.,  48.]),\n",
              " array([1.4 , 2.18, 2.96, 3.74, 4.52, 5.3 , 6.08, 6.86, 7.64, 8.42, 9.2 ]),\n",
              " <a list of 10 Patch objects>)"
            ]
          },
          "metadata": {
            "tags": []
          },
          "execution_count": 17
        },
        {
          "output_type": "display_data",
          "data": {
            "text/plain": [
              "<Figure size 432x288 with 1 Axes>"
            ],
            "image/png": "[encoded data removed]"
          },
          "metadata": {
            "tags": [],
            "needs_background": "light"
          }
        }
      ],
      "metadata": {
        "jupyter": {
          "outputs_hidden": false
        },
        "id": "bWFmgyf6_G_B",
        "outputId": "364d0d2d-9fe2-4bb1-e889-47714ca7576a"
      }
    },
    {
      "cell_type": "markdown",
      "source": [
        "Did you get an error or a warning? What's going on? \n",
        "\n",
        "The problem is that the column contains `NaN` (Not a Number) values, which represent missing data points. The following command check whether each value is a `NaN` and returns the result. "
      ],
      "metadata": {
        "id": "xq651UDL_G_C"
      }
    },
    {
      "cell_type": "code",
      "execution_count": null,
      "source": [
        "movies['IMDB_Rating'].isna()"
      ],
      "outputs": [
        {
          "output_type": "execute_result",
          "data": {
            "text/plain": [
              "0       False\n",
              "1       False\n",
              "2       False\n",
              "3        True\n",
              "4       False\n",
              "        ...  \n",
              "3196    False\n",
              "3197     True\n",
              "3198    False\n",
              "3199    False\n",
              "3200    False\n",
              "Name: IMDB Rating, Length: 3201, dtype: bool"
            ]
          },
          "metadata": {
            "tags": []
          },
          "execution_count": 18
        }
      ],
      "metadata": {
        "jupyter": {
          "outputs_hidden": false
        },
        "id": "l-bbby0r_G_C",
        "outputId": "db24a93e-5e7f-440c-bd0e-2a8c5a197a13"
      }
    },
    {
      "cell_type": "markdown",
      "source": [
        "As you can see there are a bunch of missing rows. You can count them. "
      ],
      "metadata": {
        "id": "5KArMNuy_G_D"
      }
    },
    {
      "cell_type": "code",
      "execution_count": null,
      "source": [
        "sum(movies['IMDB_Rating'].isna())"
      ],
      "outputs": [
        {
          "output_type": "execute_result",
          "data": {
            "text/plain": [
              "213"
            ]
          },
          "metadata": {
            "tags": []
          },
          "execution_count": 19
        }
      ],
      "metadata": {
        "jupyter": {
          "outputs_hidden": false
        },
        "id": "NLIOP85J_G_D",
        "outputId": "d39e0066-8ce3-43da-8643-197397c8573d"
      }
    },
    {
      "cell_type": "markdown",
      "source": [
        "or drop them. "
      ],
      "metadata": {
        "id": "HNl9DzI8_G_D"
      }
    },
    {
      "cell_type": "code",
      "execution_count": null,
      "source": [
        "IMDB_ratings_nan_dropped = movies['IMDB_Rating'].dropna()\n",
        "len(IMDB_ratings_nan_dropped)"
      ],
      "outputs": [
        {
          "output_type": "execute_result",
          "data": {
            "text/plain": [
              "2988"
            ]
          },
          "metadata": {
            "tags": []
          },
          "execution_count": 20
        }
      ],
      "metadata": {
        "jupyter": {
          "outputs_hidden": false
        },
        "id": "fRcgNczJ_G_E",
        "outputId": "985f5bca-2af6-4435-cb01-8f3607cd8892"
      }
    },
    {
      "cell_type": "code",
      "execution_count": null,
      "source": [
        "213 + 2988"
      ],
      "outputs": [
        {
          "output_type": "execute_result",
          "data": {
            "text/plain": [
              "3201"
            ]
          },
          "metadata": {
            "tags": []
          },
          "execution_count": 21
        }
      ],
      "metadata": {
        "jupyter": {
          "outputs_hidden": false
        },
        "id": "IwHSLkO-_G_E",
        "outputId": "a1e1bec0-7410-4c14-94c8-717b82a09fcc"
      }
    },
    {
      "cell_type": "markdown",
      "source": [
        "The `dropna` can be applied to the dataframe too. \n",
        "\n",
        "**Q: drop rows from `movies` dataframe where either `IMDB_Rating` or `IMDB_Votes` is `NaN`.**"
      ],
      "metadata": {
        "id": "ilwIh89N_G_F"
      }
    },
    {
      "cell_type": "code",
      "execution_count": null,
      "source": [
        "# TODO\n"
      ],
      "outputs": [],
      "metadata": {
        "id": "-3lfyoBg_G_F"
      }
    },
    {
      "cell_type": "code",
      "execution_count": null,
      "source": [
        "# Both should be zero. \n",
        "print(sum(movies['IMDB_Rating'].isna()), sum(movies['IMDB_Votes'].isna()))"
      ],
      "outputs": [
        {
          "output_type": "stream",
          "name": "stdout",
          "text": [
            "0 0\n"
          ]
        }
      ],
      "metadata": {
        "jupyter": {
          "outputs_hidden": false
        },
        "id": "fDbetoUi_G_F",
        "outputId": "7280693c-567c-4c0e-a181-5a742588907f"
      }
    },
    {
      "cell_type": "markdown",
      "source": [
        "How does `matplotlib` decides the bins? Actually `matplotlib`'s `hist` function uses `numpy`'s `histogram` function under the hood. "
      ],
      "metadata": {
        "id": "ce-ZFHwu_G_G"
      }
    },
    {
      "cell_type": "markdown",
      "source": [
        "**Q: Plot the histogram of movie ratings (`IMDB_Rating`) using the `plt.hist()` function.**"
      ],
      "metadata": {
        "id": "zOm7ESwb_G_G"
      }
    },
    {
      "cell_type": "code",
      "execution_count": null,
      "source": [
        "# TODO\n"
      ],
      "outputs": [
        {
          "output_type": "execute_result",
          "data": {
            "text/plain": [
              "(array([  9.,  39.,  76., 133., 293., 599., 784., 684., 323.,  48.]),\n",
              " array([1.4 , 2.18, 2.96, 3.74, 4.52, 5.3 , 6.08, 6.86, 7.64, 8.42, 9.2 ]),\n",
              " <a list of 10 Patch objects>)"
            ]
          },
          "metadata": {
            "tags": []
          },
          "execution_count": 27
        },
        {
          "output_type": "display_data",
          "data": {
            "text/plain": [
              "<Figure size 432x288 with 1 Axes>"
            ],
            "image/png": "[encoded data removed]"
          },
          "metadata": {
            "tags": [],
            "needs_background": "light"
          }
        }
      ],
      "metadata": {
        "jupyter": {
          "outputs_hidden": false
        },
        "id": "UBp4ZGKW_G_H",
        "outputId": "aca207de-0d5c-4858-feb6-72855368ac02"
      }
    },
    {
      "cell_type": "markdown",
      "source": [
        "Have you noticed that this function returns three objects? Take a look at the documentation [here](http://matplotlib.org/api/pyplot_api.html#matplotlib.pyplot.hist) to figure out what they are.\n",
        "\n",
        "To get the returned three objects:"
      ],
      "metadata": {
        "id": "WKd-vsn6_G_H"
      }
    },
    {
      "cell_type": "code",
      "execution_count": null,
      "source": [
        "n_raw, bins_raw, patches = # ... \n",
        "print(n_raw)\n",
        "print(bins_raw)"
      ],
      "outputs": [
        {
          "output_type": "stream",
          "name": "stdout",
          "text": [
            "[  9.  39.  76. 133. 293. 599. 784. 684. 323.  48.]\n",
            "[1.4  2.18 2.96 3.74 4.52 5.3  6.08 6.86 7.64 8.42 9.2 ]\n"
          ]
        },
        {
          "output_type": "display_data",
          "data": {
            "text/plain": [
              "<Figure size 432x288 with 1 Axes>"
            ],
            "image/png": "[encoded data removed]"
          },
          "metadata": {
            "tags": [],
            "needs_background": "light"
          }
        }
      ],
      "metadata": {
        "jupyter": {
          "outputs_hidden": false
        },
        "id": "wECMi8FE_G_I",
        "outputId": "b6550d5f-e3ae-4ff0-bd84-7bb5476ecc57"
      }
    },
    {
      "cell_type": "markdown",
      "source": [
        "Here, `n_raw` contains the values of histograms, i.e., the number of movies in each of the 10 bins. Thus, the sum of the elements in `n_raw` should be equal to the total number of movies. \n",
        "\n",
        "**Q: Test whether the sum of values in `n_raw` is equal to the number of movies in the `movies` dataset**"
      ],
      "metadata": {
        "id": "l_RFSwpF_G_I"
      }
    },
    {
      "cell_type": "code",
      "execution_count": null,
      "source": [
        "# TODO: test whether the sum of the numbers in n_raw is equal to the number of movies. \n"
      ],
      "outputs": [
        {
          "output_type": "stream",
          "name": "stdout",
          "text": [
            "2988.0\n",
            "2988\n"
          ]
        },
        {
          "output_type": "execute_result",
          "data": {
            "text/plain": [
              "True"
            ]
          },
          "metadata": {
            "tags": []
          },
          "execution_count": 29
        }
      ],
      "metadata": {
        "jupyter": {
          "outputs_hidden": false
        },
        "id": "HF6S_I7l_G_I",
        "outputId": "3674e82a-f322-4111-c820-b59f2bf75c8d"
      }
    },
    {
      "cell_type": "markdown",
      "source": [
        "The second returned object (`bins_raw`) is a list containing the edges of the 10 bins: the first bin is \\[1.4, 2.18\\], the second \\[2.18, 2.96\\], and so on. What's the width of the bins?"
      ],
      "metadata": {
        "id": "5ROhZszP_G_J"
      }
    },
    {
      "cell_type": "code",
      "execution_count": null,
      "source": [
        "np.diff(bins_raw)"
      ],
      "outputs": [
        {
          "output_type": "execute_result",
          "data": {
            "text/plain": [
              "array([0.78, 0.78, 0.78, 0.78, 0.78, 0.78, 0.78, 0.78, 0.78, 0.78])"
            ]
          },
          "metadata": {
            "tags": []
          },
          "execution_count": 30
        }
      ],
      "metadata": {
        "jupyter": {
          "outputs_hidden": false
        },
        "id": "8TtA_llF_G_J",
        "outputId": "fb8ac5b7-0560-4963-9bf6-6bbf6502f1c3"
      }
    },
    {
      "cell_type": "markdown",
      "source": [
        "The width is same as the maximum value minus minimum value, divided by 10. "
      ],
      "metadata": {
        "id": "wr6fjCqJ_G_J"
      }
    },
    {
      "cell_type": "code",
      "execution_count": null,
      "source": [
        "min_rating = min(movies['IMDB_Rating'])\n",
        "max_rating = max(movies['IMDB_Rating'])\n",
        "print(min_rating, max_rating)\n",
        "print( (max_rating-min_rating) / 10 )"
      ],
      "outputs": [
        {
          "output_type": "stream",
          "name": "stdout",
          "text": [
            "1.4 9.2\n",
            "0.7799999999999999\n"
          ]
        }
      ],
      "metadata": {
        "jupyter": {
          "outputs_hidden": false
        },
        "id": "nDsPLuhs_G_K",
        "outputId": "8e2a4473-35d8-4bd0-9595-11a3075f174e"
      }
    },
    {
      "cell_type": "markdown",
      "source": [
        "Now, let's plot a normalized (density) histogram. "
      ],
      "metadata": {
        "id": "9-kP893P_G_K"
      }
    },
    {
      "cell_type": "code",
      "execution_count": null,
      "source": [
        "n, bins, patches = plt.hist(movies['IMDB_Rating'], density=True)\n",
        "print(n)\n",
        "print(bins)"
      ],
      "outputs": [
        {
          "output_type": "stream",
          "name": "stdout",
          "text": [
            "[0.0038616  0.0167336  0.03260907 0.05706587 0.12571654 0.25701095\n",
            " 0.33638829 0.29348162 0.13858854 0.0205952 ]\n",
            "[1.4  2.18 2.96 3.74 4.52 5.3  6.08 6.86 7.64 8.42 9.2 ]\n"
          ]
        },
        {
          "output_type": "display_data",
          "data": {
            "text/plain": [
              "<Figure size 432x288 with 1 Axes>"
            ],
            "image/png": "[encoded data removed]"
          },
          "metadata": {
            "tags": [],
            "needs_background": "light"
          }
        }
      ],
      "metadata": {
        "jupyter": {
          "outputs_hidden": false
        },
        "id": "Mkv5LHGH_G_K",
        "outputId": "3fd60282-ab9d-4ff4-8477-7b46bd5694e8"
      }
    },
    {
      "cell_type": "markdown",
      "source": [
        "The ten bins do not change. But now `n` represents the density of the data inside each bin. In other words, the sum of the area of each bar will equal to 1. \n",
        "\n",
        "**Q: Can you verify this?**\n",
        "\n",
        "Hint: the area of each bar is calculated as height * width. You may get something like 0.99999999999999978 instead of 1."
      ],
      "metadata": {
        "id": "zvztNYNs_G_L"
      }
    },
    {
      "cell_type": "code",
      "execution_count": null,
      "source": [
        "# TODO\n"
      ],
      "outputs": [
        {
          "output_type": "execute_result",
          "data": {
            "text/plain": [
              "1.0"
            ]
          },
          "metadata": {
            "tags": []
          },
          "execution_count": 34
        }
      ],
      "metadata": {
        "jupyter": {
          "outputs_hidden": false
        },
        "id": "Ldt8Eoj8_G_L",
        "outputId": "f2b1095b-7b04-4e88-f126-b0fc6a70a2b8"
      }
    },
    {
      "cell_type": "markdown",
      "source": [
        "Anyway, these data generated from the `hist` function is calculated from `numpy`'s `histogram` function. https://docs.scipy.org/doc/numpy/reference/generated/numpy.histogram.html \n",
        "\n",
        "Note that the result of `np.histogram()` is same as that of `plt.hist()`. "
      ],
      "metadata": {
        "id": "pQXojeqp_G_L"
      }
    },
    {
      "cell_type": "code",
      "execution_count": null,
      "source": [
        "np.histogram(movies['IMDB_Rating'])"
      ],
      "outputs": [
        {
          "output_type": "execute_result",
          "data": {
            "text/plain": [
              "(array([  9,  39,  76, 133, 293, 599, 784, 684, 323,  48]),\n",
              " array([1.4 , 2.18, 2.96, 3.74, 4.52, 5.3 , 6.08, 6.86, 7.64, 8.42, 9.2 ]))"
            ]
          },
          "metadata": {
            "tags": []
          },
          "execution_count": 26
        }
      ],
      "metadata": {
        "execution": {
          "iopub.execute_input": "2020-06-14T19:57:14.303Z",
          "iopub.status.busy": "2020-06-14T19:57:14.287Z",
          "iopub.status.idle": "2020-06-14T19:57:14.334Z",
          "shell.execute_reply": "2020-06-14T19:57:14.349Z"
        },
        "jupyter": {
          "outputs_hidden": false
        },
        "id": "NDSkwiqc_G_M",
        "outputId": "156c2de8-8522-45bc-cca1-aade8503585d"
      }
    },
    {
      "cell_type": "code",
      "execution_count": null,
      "source": [
        "plt.hist(movies['IMDB_Rating'])"
      ],
      "outputs": [
        {
          "output_type": "execute_result",
          "data": {
            "text/plain": [
              "(array([  9.,  39.,  76., 133., 293., 599., 784., 684., 323.,  48.]),\n",
              " array([1.4 , 2.18, 2.96, 3.74, 4.52, 5.3 , 6.08, 6.86, 7.64, 8.42, 9.2 ]),\n",
              " <a list of 10 Patch objects>)"
            ]
          },
          "metadata": {
            "tags": []
          },
          "execution_count": 35
        },
        {
          "output_type": "display_data",
          "data": {
            "text/plain": [
              "<Figure size 432x288 with 1 Axes>"
            ],
            "image/png": "[encoded data removed]"
          },
          "metadata": {
            "tags": [],
            "needs_background": "light"
          }
        }
      ],
      "metadata": {
        "jupyter": {
          "outputs_hidden": false
        },
        "id": "5hU0Bt2a_G_M",
        "outputId": "467ab41d-1a19-49e3-ba78-a16a4755ba4b"
      }
    },
    {
      "cell_type": "markdown",
      "source": [
        "If you look at the documentation, you can see that `numpy` uses simply 10 as the default number of bins. But you can set it manually or set it to be `auto`, which is the \"Maximum of the `sturges` and `fd` estimators.\". Let's try this `auto` option. "
      ],
      "metadata": {
        "id": "CeFQkji4_G_M"
      }
    },
    {
      "cell_type": "code",
      "execution_count": null,
      "source": [
        "_ = plt.hist(movies['IMDB_Rating'], bins='auto')"
      ],
      "outputs": [
        {
          "output_type": "display_data",
          "data": {
            "text/plain": [
              "<Figure size 432x288 with 1 Axes>"
            ],
            "image/png": "[encoded data removed]"
          },
          "metadata": {
            "tags": [],
            "needs_background": "light"
          }
        }
      ],
      "metadata": {
        "jupyter": {
          "outputs_hidden": false
        },
        "id": "ZRD_UKiD_G_N",
        "outputId": "f664ee31-d2de-46c2-d30c-89b58992a785"
      }
    },
    {
      "cell_type": "markdown",
      "source": [
        "## Consequences of the binning parameter\n",
        "\n",
        "Let's explore the effect of bin size using small multiples. In `matplotlib`, you can use [subplot](https://www.google.com/search?client=safari&rls=en&q=matplotlib+subplot&ie=UTF-8&oe=UTF-8) to put multiple plots into a single figure. \n",
        "\n",
        "For instance, you can do something like:"
      ],
      "metadata": {
        "id": "GwPlFvHn_G_N"
      }
    },
    {
      "cell_type": "code",
      "execution_count": null,
      "source": [
        "plt.figure(figsize=(10,5))\n",
        "plt.subplot(1,2,1)\n",
        "movies['IMDB_Rating'].hist(bins=3)\n",
        "plt.subplot(1,2,2)\n",
        "movies['IMDB_Rating'].hist(bins=20)"
      ],
      "outputs": [
        {
          "output_type": "execute_result",
          "data": {
            "text/plain": [
              "<matplotlib.axes._subplots.AxesSubplot at 0x1a1e94b790>"
            ]
          },
          "metadata": {
            "tags": []
          },
          "execution_count": 37
        },
        {
          "output_type": "display_data",
          "data": {
            "text/plain": [
              "<Figure size 720x360 with 2 Axes>"
            ],
            "image/png": "[encoded data removed]"
          },
          "metadata": {
            "tags": [],
            "needs_background": "light"
          }
        }
      ],
      "metadata": {
        "jupyter": {
          "outputs_hidden": false
        },
        "id": "hDnPdqBU_G_N",
        "outputId": "e20b169b-58e0-4bc3-96dd-7bceced52569"
      }
    },
    {
      "cell_type": "markdown",
      "source": [
        "What does the argument in `plt.subplot(1,2,1)` mean? If you're not sure, check out: http://stackoverflow.com/questions/3584805/in-matplotlib-what-does-the-argument-mean-in-fig-add-subplot111\n",
        "\n",
        "**Q: create 8 subplots (2 rows and 4 columns) with the following `binsizes`.**"
      ],
      "metadata": {
        "id": "7uzX4QWE_G_O"
      }
    },
    {
      "cell_type": "code",
      "execution_count": null,
      "source": [
        "nbins = [2, 3, 5, 10, 30, 40, 60, 100 ]\n",
        "figsize = (18, 10)\n",
        "\n",
        "# TODO\n"
      ],
      "outputs": [
        {
          "output_type": "display_data",
          "data": {
            "text/plain": [
              "<Figure size 1296x720 with 8 Axes>"
            ],
            "image/png": "[encoded data removed]"
          },
          "metadata": {
            "tags": [],
            "needs_background": "light"
          }
        }
      ],
      "metadata": {
        "jupyter": {
          "outputs_hidden": false
        },
        "id": "NbM-6DjA_G_O",
        "outputId": "d4276bd5-de15-4431-a2d8-e7336373709e"
      }
    },
    {
      "cell_type": "markdown",
      "source": [
        "Do you see the issues with having too few bins or too many bins? In particular, do you notice weird patterns that emerge from `bins=30`? \n",
        "\n",
        "**Q: Can you guess why do you see such patterns? What are the peaks and what are the empty bars? What do they tell you about choosing the binsize in histograms?**"
      ],
      "metadata": {
        "id": "4MUtaGwi_G_O"
      }
    },
    {
      "cell_type": "code",
      "execution_count": null,
      "source": [
        "# TODO: Provide your answer and evidence here\n"
      ],
      "outputs": [
        {
          "output_type": "display_data",
          "data": {
            "text/plain": [
              "<Figure size 432x288 with 1 Axes>"
            ],
            "image/png": "[encoded data removed]"
          },
          "metadata": {
            "tags": [],
            "needs_background": "light"
          }
        }
      ],
      "metadata": {
        "jupyter": {
          "outputs_hidden": false
        },
        "id": "qIj9lKUM_G_P",
        "outputId": "5dae9680-092d-4992-f116-8d2c33a27b7c"
      }
    },
    {
      "cell_type": "markdown",
      "source": [
        "## Formulae for choosing the number of bins. \n",
        "\n",
        "We can manually choose the number of bins based on those formulae. "
      ],
      "metadata": {
        "id": "f_07JYIS_G_P"
      }
    },
    {
      "cell_type": "code",
      "execution_count": null,
      "source": [
        "N = len(movies)\n",
        "\n",
        "plt.figure(figsize=(12,4))\n",
        "\n",
        "# Sqrt \n",
        "nbins = int(np.sqrt(N))\n",
        "\n",
        "plt.subplot(1,3,1)\n",
        "plt.title(\"SQRT, {} bins\".format(nbins))\n",
        "movies['IMDB_Rating'].hist(bins=nbins)\n",
        "\n",
        "# Sturge's formula\n",
        "nbins = int(np.ceil(np.log2(N) + 1))\n",
        "\n",
        "plt.subplot(1,3,2)\n",
        "plt.title(\"Sturge, {} bins\".format(nbins))\n",
        "movies['IMDB_Rating'].hist(bins=nbins)\n",
        "\n",
        "# Freedman-Diaconis\n",
        "iqr = np.percentile(movies['IMDB_Rating'], 75) - np.percentile(movies['IMDB_Rating'], 25)\n",
        "width = 2*iqr/np.power(N, 1/3)\n",
        "nbins = int((max(movies['IMDB_Rating']) - min(movies['IMDB_Rating'])) / width)\n",
        "\n",
        "plt.subplot(1,3,3)\n",
        "plt.title(\"F-D, {} bins\".format(nbins))\n",
        "movies['IMDB_Rating'].hist(bins=nbins)\n",
        "\n"
      ],
      "outputs": [
        {
          "output_type": "execute_result",
          "data": {
            "text/plain": [
              "<matplotlib.axes._subplots.AxesSubplot at 0x1a1eb5dc10>"
            ]
          },
          "metadata": {
            "tags": []
          },
          "execution_count": 44
        },
        {
          "output_type": "display_data",
          "data": {
            "text/plain": [
              "<Figure size 864x288 with 3 Axes>"
            ],
            "image/png": "[encoded data removed]"
          },
          "metadata": {
            "tags": [],
            "needs_background": "light"
          }
        }
      ],
      "metadata": {
        "id": "EFxa5Cwz_G_Q",
        "outputId": "99ee4e8d-011f-4ade-9bf3-0afda60017e7"
      }
    },
    {
      "cell_type": "markdown",
      "source": [
        "But we can also use built-in formulae too. Let's try all of them. "
      ],
      "metadata": {
        "id": "x5pGenYF_G_Q"
      }
    },
    {
      "cell_type": "code",
      "execution_count": null,
      "source": [
        "plt.figure(figsize=(20,4))\n",
        "\n",
        "plt.subplot(161)\n",
        "movies['IMDB_Rating'].hist(bins='fd')\n",
        "\n",
        "plt.subplot(162)\n",
        "movies['IMDB_Rating'].hist(bins='doane')\n",
        "\n",
        "plt.subplot(163)\n",
        "movies['IMDB_Rating'].hist(bins='scott')\n",
        "\n",
        "plt.subplot(164)\n",
        "movies['IMDB_Rating'].hist(bins='rice')\n",
        "\n",
        "plt.subplot(165)\n",
        "movies['IMDB_Rating'].hist(bins='sturges')\n",
        "\n",
        "plt.subplot(166)\n",
        "movies['IMDB_Rating'].hist(bins='sqrt')"
      ],
      "outputs": [
        {
          "output_type": "execute_result",
          "data": {
            "text/plain": [
              "<matplotlib.axes._subplots.AxesSubplot at 0x1a1ec49ad0>"
            ]
          },
          "metadata": {
            "tags": []
          },
          "execution_count": 45
        },
        {
          "output_type": "display_data",
          "data": {
            "text/plain": [
              "<Figure size 1440x288 with 6 Axes>"
            ],
            "image/png": "[encoded data removed]"
          },
          "metadata": {
            "tags": [],
            "needs_background": "light"
          }
        }
      ],
      "metadata": {
        "jupyter": {
          "outputs_hidden": false
        },
        "id": "pyK-B5KN_G_R",
        "outputId": "1cc0db3e-afc2-441d-8676-a1211ed7ee4f"
      }
    },
    {
      "cell_type": "markdown",
      "source": [
        "Some are decent, but several of them tend to overestimate the good number of bins. As you have more data points, some of the formulae may overestimate the necessary number of bins. Particularly in our case, because of the precision issue, we shouldn't increase the number of bins too much."
      ],
      "metadata": {
        "id": "pYAItQoA_G_R"
      }
    },
    {
      "cell_type": "markdown",
      "source": [
        "### Then, how should we choose the number of bins?"
      ],
      "metadata": {
        "id": "0jf4KJxB_G_S"
      }
    },
    {
      "cell_type": "markdown",
      "source": [
        "So what's the conclusion? use Scott's rule or Sturges' formula? \n",
        "\n",
        "No, I think the take-away is that you **should understand how the inappropriate number of bins can mislead you** and you should **try multiple number of bins** to obtain the most accurate picture of the data. Although the 'default' may work in most cases, don't blindly trust it! Don't judge the distribution of a dataset based on a single histogram. Try multiple parameters to get the full picture!"
      ],
      "metadata": {
        "id": "2duwuNV5_G_S"
      }
    },
    {
      "cell_type": "markdown",
      "source": [
        "## CDF (Cumulative distribution function)\n",
        "\n",
        "Drawing a CDF is easy. Because it's very common data visualization, histogram has an option called `cumulative`. "
      ],
      "metadata": {
        "id": "jUB_C-vo_G_S"
      }
    },
    {
      "cell_type": "code",
      "execution_count": null,
      "source": [
        "movies['IMDB_Rating'].hist(cumulative=True)"
      ],
      "outputs": [
        {
          "output_type": "execute_result",
          "data": {
            "text/plain": [
              "<matplotlib.axes._subplots.AxesSubplot at 0x1a1eba1a50>"
            ]
          },
          "metadata": {
            "tags": []
          },
          "execution_count": 46
        },
        {
          "output_type": "display_data",
          "data": {
            "text/plain": [
              "<Figure size 432x288 with 1 Axes>"
            ],
            "image/png": "[encoded data removed]"
          },
          "metadata": {
            "tags": [],
            "needs_background": "light"
          }
        }
      ],
      "metadata": {
        "jupyter": {
          "outputs_hidden": false
        },
        "id": "KuT78TG5_G_T",
        "outputId": "322ddcca-6288-4666-f841-c5722cce9cda"
      }
    },
    {
      "cell_type": "markdown",
      "source": [
        "You can also combine with options such as `histtype` and `density`."
      ],
      "metadata": {
        "id": "S1ucXKzI_G_T"
      }
    },
    {
      "cell_type": "code",
      "execution_count": null,
      "source": [
        "movies['IMDB_Rating'].hist(histtype='step', cumulative=True, density=True)"
      ],
      "outputs": [
        {
          "output_type": "execute_result",
          "data": {
            "text/plain": [
              "<matplotlib.axes._subplots.AxesSubplot at 0x1a1eb2eed0>"
            ]
          },
          "metadata": {
            "tags": []
          },
          "execution_count": 47
        },
        {
          "output_type": "display_data",
          "data": {
            "text/plain": [
              "<Figure size 432x288 with 1 Axes>"
            ],
            "image/png": "[encoded data removed]"
          },
          "metadata": {
            "tags": [],
            "needs_background": "light"
          }
        }
      ],
      "metadata": {
        "jupyter": {
          "outputs_hidden": false
        },
        "id": "FGB1nZqz_G_T",
        "outputId": "8a4624f2-2645-4241-eeed-fb27d627b64d"
      }
    },
    {
      "cell_type": "markdown",
      "source": [
        "And increase the number of bins. "
      ],
      "metadata": {
        "id": "Nfm50nqF_G_T"
      }
    },
    {
      "cell_type": "code",
      "execution_count": null,
      "source": [
        "movies['IMDB_Rating'].hist(cumulative=True, density=True, bins=1000)"
      ],
      "outputs": [
        {
          "output_type": "execute_result",
          "data": {
            "text/plain": [
              "<matplotlib.axes._subplots.AxesSubplot at 0x1a1eaf21d0>"
            ]
          },
          "metadata": {
            "tags": []
          },
          "execution_count": 48
        },
        {
          "output_type": "display_data",
          "data": {
            "text/plain": [
              "<Figure size 432x288 with 1 Axes>"
            ],
            "image/png": "[encoded data removed]"
          },
          "metadata": {
            "tags": [],
            "needs_background": "light"
          }
        }
      ],
      "metadata": {
        "jupyter": {
          "outputs_hidden": false
        },
        "id": "ZrMVUVmW_G_U",
        "outputId": "502f010c-1275-4675-8f3c-7cc2029fe4c8"
      }
    },
    {
      "cell_type": "markdown",
      "source": [
        "This method works fine. By increasing the number of bins, you can get a CDF in the resolution that you want. But let's also try it manually to better understand what's going on. First, we should sort all the values. "
      ],
      "metadata": {
        "id": "JrEXxI1Z_G_U"
      }
    },
    {
      "cell_type": "code",
      "execution_count": null,
      "source": [
        "rating_sorted = movies['IMDB_Rating'].sort_values()\n",
        "rating_sorted.head()"
      ],
      "outputs": [
        {
          "output_type": "execute_result",
          "data": {
            "text/plain": [
              "1247    1.4\n",
              "406     1.5\n",
              "1754    1.6\n",
              "1590    1.7\n",
              "1515    1.7\n",
              "Name: IMDB Rating, dtype: float64"
            ]
          },
          "metadata": {
            "tags": []
          },
          "execution_count": 49
        }
      ],
      "metadata": {
        "jupyter": {
          "outputs_hidden": false
        },
        "id": "CVqSQmmU_G_U",
        "outputId": "6592daa4-0685-458d-ef00-83705f92b711"
      }
    },
    {
      "cell_type": "markdown",
      "source": [
        "We need to know the number of data points, "
      ],
      "metadata": {
        "id": "ucOJmOOZ_G_V"
      }
    },
    {
      "cell_type": "code",
      "execution_count": null,
      "source": [
        "N = len(rating_sorted)\n",
        "N"
      ],
      "outputs": [
        {
          "output_type": "execute_result",
          "data": {
            "text/plain": [
              "2988"
            ]
          },
          "metadata": {
            "tags": []
          },
          "execution_count": 50
        }
      ],
      "metadata": {
        "jupyter": {
          "outputs_hidden": false
        },
        "id": "zlkvZ-wx_G_V",
        "outputId": "70f5b6d8-4af8-4f48-e4eb-beba3279f2f9"
      }
    },
    {
      "cell_type": "markdown",
      "source": [
        "And I think this may be useful for you. "
      ],
      "metadata": {
        "id": "_iqJaMbJ_G_V"
      }
    },
    {
      "cell_type": "code",
      "execution_count": null,
      "source": [
        "n = 50\n",
        "np.linspace(1/n, 1.0, num=n)"
      ],
      "outputs": [
        {
          "output_type": "execute_result",
          "data": {
            "text/plain": [
              "array([0.02, 0.04, 0.06, 0.08, 0.1 , 0.12, 0.14, 0.16, 0.18, 0.2 , 0.22,\n",
              "       0.24, 0.26, 0.28, 0.3 , 0.32, 0.34, 0.36, 0.38, 0.4 , 0.42, 0.44,\n",
              "       0.46, 0.48, 0.5 , 0.52, 0.54, 0.56, 0.58, 0.6 , 0.62, 0.64, 0.66,\n",
              "       0.68, 0.7 , 0.72, 0.74, 0.76, 0.78, 0.8 , 0.82, 0.84, 0.86, 0.88,\n",
              "       0.9 , 0.92, 0.94, 0.96, 0.98, 1.  ])"
            ]
          },
          "metadata": {
            "tags": []
          },
          "execution_count": 51
        }
      ],
      "metadata": {
        "jupyter": {
          "outputs_hidden": false
        },
        "id": "JSAwidf8_G_V",
        "outputId": "d72141bb-7cc6-43c9-c128-29d14e9f0ea0"
      }
    },
    {
      "cell_type": "markdown",
      "source": [
        "**Q: now you're ready to draw a proper CDF. Draw the CDF plot of this data.** "
      ],
      "metadata": {
        "id": "HVnvIXbH_G_W"
      }
    },
    {
      "cell_type": "code",
      "execution_count": null,
      "source": [
        "# Implement"
      ],
      "outputs": [
        {
          "output_type": "display_data",
          "data": {
            "text/plain": [
              "<Figure size 432x288 with 1 Axes>"
            ],
            "image/png": "[encoded data removed]"
          },
          "metadata": {
            "tags": [],
            "needs_background": "light"
          }
        }
      ],
      "metadata": {
        "jupyter": {
          "outputs_hidden": false
        },
        "id": "zRw7i6Mc_G_W",
        "outputId": "a0b7cb88-1f5e-404b-c5d0-f96bfb3211a1"
      }
    },
    {
      "cell_type": "markdown",
      "source": [
        "## A bit more histogram with altair\n",
        "\n",
        "As you may remember, you can get a pandas dataframe from `vega_datasets` package and use it to create visualizations. But, if you use `altair`, you can simply pass the URL instead of the actual data. "
      ],
      "metadata": {
        "id": "f8SdTs86_G_W"
      }
    },
    {
      "cell_type": "code",
      "execution_count": null,
      "source": [
        "vega_datasets.data.movies.url"
      ],
      "outputs": [
        {
          "output_type": "execute_result",
          "data": {
            "text/plain": [
              "'https://vega.github.io/vega-datasets/data/movies.json'"
            ]
          },
          "metadata": {
            "tags": []
          },
          "execution_count": 53
        }
      ],
      "metadata": {
        "jupyter": {
          "outputs_hidden": false
        },
        "id": "xk7zzU7j_G_X",
        "outputId": "ea8d77bb-ca3c-430d-8cf0-d93cc127d53e"
      }
    },
    {
      "cell_type": "code",
      "execution_count": null,
      "source": [
        "# Choose based on your environment\n",
        "#alt.renderers.enable('notebook')\n",
        "#alt.renderers.enable('jupyterlab')\n",
        "#alt.renderers.enable('default')"
      ],
      "outputs": [],
      "metadata": {
        "jupyter": {
          "outputs_hidden": false
        },
        "id": "yd9bwymv_G_X"
      }
    },
    {
      "cell_type": "markdown",
      "source": [
        "As mentioned before, in `altair` histogram is not special. It is just a plot that use bars (`mark_bar()`) where X axis is defined by `IMDB_Rating` with bins (`bin=True`), and Y axis is defined by `count()` aggregation function. "
      ],
      "metadata": {
        "id": "iin4Nh4__G_Y"
      }
    },
    {
      "cell_type": "code",
      "execution_count": null,
      "source": [
        "alt.Chart(vega_datasets.data.movies.url).mark_bar().encode(\n",
        "    alt.X(\"IMDB_Rating:Q\",  bin=True),\n",
        "    alt.Y('count()')\n",
        ")"
      ],
      "outputs": [
        {
          "output_type": "execute_result",
          "data": {
            "text/plain": [
              "<VegaLite 3 object>\n",
              "\n",
              "If you see this message, it means the renderer has not been properly enabled\n",
              "for the frontend that you are using. For more information, see\n",
              "https://altair-viz.github.io/user_guide/troubleshooting.html\n"
            ],
            "image/png": "[encoded data removed]",
            "application/vnd.vegalite.v3+json": {
              "$schema": "https://vega.github.io/schema/vega-lite/v3.4.0.json",
              "config": {
                "mark": {
                  "tooltip": null
                },
                "view": {
                  "height": 300,
                  "width": 400
                }
              },
              "data": {
                "url": "https://vega.github.io/vega-datasets/data/movies.json"
              },
              "encoding": {
                "x": {
                  "bin": true,
                  "field": "IMDB Rating",
                  "type": "quantitative"
                },
                "y": {
                  "aggregate": "count",
                  "type": "quantitative"
                }
              },
              "mark": "bar"
            }
          },
          "metadata": {
            "tags": []
          },
          "execution_count": 56
        }
      ],
      "metadata": {
        "jupyter": {
          "outputs_hidden": false
        },
        "id": "8ydZKh85_G_Y",
        "outputId": "5fa2974e-95c7-4995-9181-618f8b060bc6"
      }
    },
    {
      "cell_type": "markdown",
      "source": [
        "Have you noted that it is `IMDB_Rating:Q` not `IMDB_Rating`? This is a shorthand for"
      ],
      "metadata": {
        "id": "kcVjz-lH_G_Y"
      }
    },
    {
      "cell_type": "code",
      "execution_count": null,
      "source": [
        "alt.Chart(vega_datasets.data.movies.url).mark_bar().encode(\n",
        "    alt.X('IMDB_Rating', type='quantitative', bin=True),\n",
        "    alt.Y(aggregate='count', type='quantitative')\n",
        ")"
      ],
      "outputs": [
        {
          "output_type": "execute_result",
          "data": {
            "text/plain": [
              "<VegaLite 3 object>\n",
              "\n",
              "If you see this message, it means the renderer has not been properly enabled\n",
              "for the frontend that you are using. For more information, see\n",
              "https://altair-viz.github.io/user_guide/troubleshooting.html\n"
            ],
            "image/png": "[encoded data removed]",
            "application/vnd.vegalite.v3+json": {
              "$schema": "https://vega.github.io/schema/vega-lite/v3.4.0.json",
              "config": {
                "mark": {
                  "tooltip": null
                },
                "view": {
                  "height": 300,
                  "width": 400
                }
              },
              "data": {
                "url": "https://vega.github.io/vega-datasets/data/movies.json"
              },
              "encoding": {
                "x": {
                  "bin": true,
                  "field": "IMDB Rating",
                  "type": "quantitative"
                },
                "y": {
                  "aggregate": "count",
                  "type": "quantitative"
                }
              },
              "mark": "bar"
            }
          },
          "metadata": {
            "tags": []
          },
          "execution_count": 57
        }
      ],
      "metadata": {
        "jupyter": {
          "outputs_hidden": false
        },
        "id": "Ml1DzJ2B_G_Z",
        "outputId": "e6da7c73-b7c1-468b-8a70-38fb3605fafc"
      }
    },
    {
      "cell_type": "markdown",
      "source": [
        "In altair, you want to specify the data types using one of the four categories: quantitative, ordinal, nominal, and temporal. https://altair-viz.github.io/user_guide/encoding.html#data-types"
      ],
      "metadata": {
        "id": "MXxEHGfq_G_Z"
      }
    },
    {
      "cell_type": "markdown",
      "source": [
        "Although you can adjust the bins in `altair`, it does not encourage you to set the bins directly. For instance, although there is `step` parameter that directly sets the bin size, there are parameters such as `maxbins` (maximum number of bins) or `minstep` (minimum allowable step size), or `nice` (attemps to make the bin boundaries more human-friendly), that encourage you not to specify the bins directly. "
      ],
      "metadata": {
        "id": "HRJ4yICd_G_Z"
      }
    },
    {
      "cell_type": "code",
      "execution_count": null,
      "source": [
        "from altair import Bin\n",
        "\n",
        "alt.Chart(vega_datasets.data.movies.url).mark_bar().encode(\n",
        "    alt.X(\"IMDB_Rating:Q\",  bin=Bin(step=0.09)),\n",
        "    alt.Y('count()')\n",
        ")"
      ],
      "outputs": [
        {
          "output_type": "execute_result",
          "data": {
            "text/plain": [
              "<VegaLite 3 object>\n",
              "\n",
              "If you see this message, it means the renderer has not been properly enabled\n",
              "for the frontend that you are using. For more information, see\n",
              "https://altair-viz.github.io/user_guide/troubleshooting.html\n"
            ],
            "image/png": "[encoded data removed]",
            "application/vnd.vegalite.v3+json": {
              "$schema": "https://vega.github.io/schema/vega-lite/v3.4.0.json",
              "config": {
                "mark": {
                  "tooltip": null
                },
                "view": {
                  "height": 300,
                  "width": 400
                }
              },
              "data": {
                "url": "https://vega.github.io/vega-datasets/data/movies.json"
              },
              "encoding": {
                "x": {
                  "bin": {
                    "step": 0.09
                  },
                  "field": "IMDB Rating",
                  "type": "quantitative"
                },
                "y": {
                  "aggregate": "count",
                  "type": "quantitative"
                }
              },
              "mark": "bar"
            }
          },
          "metadata": {
            "tags": []
          },
          "execution_count": 58
        }
      ],
      "metadata": {
        "jupyter": {
          "outputs_hidden": false
        },
        "id": "bQNAzAYV_G_a",
        "outputId": "57623a8a-4140-4b2c-9eb8-8e2e67c5fb0d"
      }
    },
    {
      "cell_type": "code",
      "execution_count": null,
      "source": [
        "alt.Chart(vega_datasets.data.movies.url).mark_bar().encode(\n",
        "    alt.X(\"IMDB_Rating:Q\",  bin=Bin(nice=True, maxbins=20)),\n",
        "    alt.Y('count()')\n",
        ")"
      ],
      "outputs": [
        {
          "output_type": "execute_result",
          "data": {
            "text/plain": [
              "<VegaLite 3 object>\n",
              "\n",
              "If you see this message, it means the renderer has not been properly enabled\n",
              "for the frontend that you are using. For more information, see\n",
              "https://altair-viz.github.io/user_guide/troubleshooting.html\n"
            ],
            "image/png": "[encoded data removed]",
            "application/vnd.vegalite.v3+json": {
              "$schema": "https://vega.github.io/schema/vega-lite/v3.4.0.json",
              "config": {
                "mark": {
                  "tooltip": null
                },
                "view": {
                  "height": 300,
                  "width": 400
                }
              },
              "data": {
                "url": "https://vega.github.io/vega-datasets/data/movies.json"
              },
              "encoding": {
                "x": {
                  "bin": {
                    "maxbins": 20,
                    "nice": true
                  },
                  "field": "IMDB Rating",
                  "type": "quantitative"
                },
                "y": {
                  "aggregate": "count",
                  "type": "quantitative"
                }
              },
              "mark": "bar"
            }
          },
          "metadata": {
            "tags": []
          },
          "execution_count": 59
        }
      ],
      "metadata": {
        "jupyter": {
          "outputs_hidden": false
        },
        "id": "yxUmNvoq_G_a",
        "outputId": "94ab02b4-9f6e-4096-db27-569968b244c8"
      }
    },
    {
      "cell_type": "markdown",
      "source": [
        "### Composing charts in altair\n",
        "\n",
        "`altair` has a very nice way to compose multiple plots. Two histograms side by side? just do the following."
      ],
      "metadata": {
        "id": "Ebeq7q_o_G_a"
      }
    },
    {
      "cell_type": "code",
      "execution_count": null,
      "source": [
        "chart1 = alt.Chart(vega_datasets.data.movies.url).mark_bar().encode(\n",
        "    alt.X(\"IMDB_Rating:Q\",  bin=Bin(step=0.1)),\n",
        "    alt.Y('count()')\n",
        ").properties(\n",
        "    width=300,\n",
        "    height=150\n",
        ")\n",
        "chart2 = alt.Chart(vega_datasets.data.movies.url).mark_bar().encode(\n",
        "    alt.X(\"IMDB_Rating:Q\",  bin=Bin(nice=True, maxbins=20)),\n",
        "    alt.Y('count()')\n",
        ").properties(\n",
        "    width=300,\n",
        "    height=150\n",
        ")"
      ],
      "outputs": [],
      "metadata": {
        "id": "HKWFq9uH_G_b"
      }
    },
    {
      "cell_type": "code",
      "execution_count": null,
      "source": [
        "chart1 | chart2"
      ],
      "outputs": [
        {
          "output_type": "execute_result",
          "data": {
            "text/plain": [
              "<VegaLite 3 object>\n",
              "\n",
              "If you see this message, it means the renderer has not been properly enabled\n",
              "for the frontend that you are using. For more information, see\n",
              "https://altair-viz.github.io/user_guide/troubleshooting.html\n"
            ],
            "image/png": "[encoded data removed]",
            "application/vnd.vegalite.v3+json": {
              "$schema": "https://vega.github.io/schema/vega-lite/v3.4.0.json",
              "config": {
                "mark": {
                  "tooltip": null
                },
                "view": {
                  "height": 300,
                  "width": 400
                }
              },
              "hconcat": [
                {
                  "data": {
                    "url": "https://vega.github.io/vega-datasets/data/movies.json"
                  },
                  "encoding": {
                    "x": {
                      "bin": {
                        "step": 0.1
                      },
                      "field": "IMDB Rating",
                      "type": "quantitative"
                    },
                    "y": {
                      "aggregate": "count",
                      "type": "quantitative"
                    }
                  },
                  "height": 150,
                  "mark": "bar",
                  "width": 300
                },
                {
                  "data": {
                    "url": "https://vega.github.io/vega-datasets/data/movies.json"
                  },
                  "encoding": {
                    "x": {
                      "bin": {
                        "maxbins": 20,
                        "nice": true
                      },
                      "field": "IMDB Rating",
                      "type": "quantitative"
                    },
                    "y": {
                      "aggregate": "count",
                      "type": "quantitative"
                    }
                  },
                  "height": 150,
                  "mark": "bar",
                  "width": 300
                }
              ]
            }
          },
          "metadata": {
            "tags": []
          },
          "execution_count": 62
        }
      ],
      "metadata": {
        "jupyter": {
          "outputs_hidden": false
        },
        "id": "CKFX__1v_G_b",
        "outputId": "3f00466a-6694-42c5-88f9-7dcc010aed5f"
      }
    },
    {
      "cell_type": "code",
      "execution_count": null,
      "source": [
        "alt.hconcat(chart1, chart2)"
      ],
      "outputs": [
        {
          "output_type": "execute_result",
          "data": {
            "text/plain": [
              "<VegaLite 3 object>\n",
              "\n",
              "If you see this message, it means the renderer has not been properly enabled\n",
              "for the frontend that you are using. For more information, see\n",
              "https://altair-viz.github.io/user_guide/troubleshooting.html\n"
            ],
            "image/png": "[encoded data removed]",
            "application/vnd.vegalite.v3+json": {
              "$schema": "https://vega.github.io/schema/vega-lite/v3.4.0.json",
              "config": {
                "mark": {
                  "tooltip": null
                },
                "view": {
                  "height": 300,
                  "width": 400
                }
              },
              "hconcat": [
                {
                  "data": {
                    "url": "https://vega.github.io/vega-datasets/data/movies.json"
                  },
                  "encoding": {
                    "x": {
                      "bin": {
                        "step": 0.1
                      },
                      "field": "IMDB Rating",
                      "type": "quantitative"
                    },
                    "y": {
                      "aggregate": "count",
                      "type": "quantitative"
                    }
                  },
                  "height": 150,
                  "mark": "bar",
                  "width": 300
                },
                {
                  "data": {
                    "url": "https://vega.github.io/vega-datasets/data/movies.json"
                  },
                  "encoding": {
                    "x": {
                      "bin": {
                        "maxbins": 20,
                        "nice": true
                      },
                      "field": "IMDB Rating",
                      "type": "quantitative"
                    },
                    "y": {
                      "aggregate": "count",
                      "type": "quantitative"
                    }
                  },
                  "height": 150,
                  "mark": "bar",
                  "width": 300
                }
              ]
            }
          },
          "metadata": {
            "tags": []
          },
          "execution_count": 63
        }
      ],
      "metadata": {
        "jupyter": {
          "outputs_hidden": false
        },
        "id": "6EddLDKT_G_b",
        "outputId": "59f1f72f-db26-4a8e-f637-90cfa59c0e4b"
      }
    },
    {
      "cell_type": "markdown",
      "source": [
        "Vertical commposition? "
      ],
      "metadata": {
        "id": "U9RjftBC_G_b"
      }
    },
    {
      "cell_type": "code",
      "execution_count": null,
      "source": [
        "alt.vconcat(chart1, chart2)"
      ],
      "outputs": [
        {
          "output_type": "execute_result",
          "data": {
            "text/plain": [
              "<VegaLite 3 object>\n",
              "\n",
              "If you see this message, it means the renderer has not been properly enabled\n",
              "for the frontend that you are using. For more information, see\n",
              "https://altair-viz.github.io/user_guide/troubleshooting.html\n"
            ],
            "image/png": "[encoded data removed]",
            "application/vnd.vegalite.v3+json": {
              "$schema": "https://vega.github.io/schema/vega-lite/v3.4.0.json",
              "config": {
                "mark": {
                  "tooltip": null
                },
                "view": {
                  "height": 300,
                  "width": 400
                }
              },
              "vconcat": [
                {
                  "data": {
                    "url": "https://vega.github.io/vega-datasets/data/movies.json"
                  },
                  "encoding": {
                    "x": {
                      "bin": {
                        "step": 0.1
                      },
                      "field": "IMDB Rating",
                      "type": "quantitative"
                    },
                    "y": {
                      "aggregate": "count",
                      "type": "quantitative"
                    }
                  },
                  "height": 150,
                  "mark": "bar",
                  "width": 300
                },
                {
                  "data": {
                    "url": "https://vega.github.io/vega-datasets/data/movies.json"
                  },
                  "encoding": {
                    "x": {
                      "bin": {
                        "maxbins": 20,
                        "nice": true
                      },
                      "field": "IMDB Rating",
                      "type": "quantitative"
                    },
                    "y": {
                      "aggregate": "count",
                      "type": "quantitative"
                    }
                  },
                  "height": 150,
                  "mark": "bar",
                  "width": 300
                }
              ]
            }
          },
          "metadata": {
            "tags": []
          },
          "execution_count": 71
        }
      ],
      "metadata": {
        "jupyter": {
          "outputs_hidden": false
        },
        "id": "Tv0T5fgc_G_c",
        "outputId": "87b974b2-acb3-4186-d1da-5d3e89042241"
      }
    },
    {
      "cell_type": "code",
      "execution_count": null,
      "source": [
        "chart1 & chart2"
      ],
      "outputs": [
        {
          "output_type": "execute_result",
          "data": {
            "text/plain": [
              "<VegaLite 3 object>\n",
              "\n",
              "If you see this message, it means the renderer has not been properly enabled\n",
              "for the frontend that you are using. For more information, see\n",
              "https://altair-viz.github.io/user_guide/troubleshooting.html\n"
            ],
            "image/png": "[encoded data removed]",
            "application/vnd.vegalite.v3+json": {
              "$schema": "https://vega.github.io/schema/vega-lite/v3.4.0.json",
              "config": {
                "mark": {
                  "tooltip": null
                },
                "view": {
                  "height": 300,
                  "width": 400
                }
              },
              "vconcat": [
                {
                  "data": {
                    "url": "https://vega.github.io/vega-datasets/data/movies.json"
                  },
                  "encoding": {
                    "x": {
                      "bin": {
                        "step": 0.1
                      },
                      "field": "IMDB Rating",
                      "type": "quantitative"
                    },
                    "y": {
                      "aggregate": "count",
                      "type": "quantitative"
                    }
                  },
                  "height": 150,
                  "mark": "bar",
                  "width": 300
                },
                {
                  "data": {
                    "url": "https://vega.github.io/vega-datasets/data/movies.json"
                  },
                  "encoding": {
                    "x": {
                      "bin": {
                        "maxbins": 20,
                        "nice": true
                      },
                      "field": "IMDB Rating",
                      "type": "quantitative"
                    },
                    "y": {
                      "aggregate": "count",
                      "type": "quantitative"
                    }
                  },
                  "height": 150,
                  "mark": "bar",
                  "width": 300
                }
              ]
            }
          },
          "metadata": {
            "tags": []
          },
          "execution_count": 72
        }
      ],
      "metadata": {
        "jupyter": {
          "outputs_hidden": false
        },
        "id": "qNsN6uZt_G_c",
        "outputId": "3a400b07-a3a3-4b10-cb2a-78a63f520103"
      }
    },
    {
      "cell_type": "markdown",
      "source": [
        "Shall we avoid some repetitions? You can define a *base* empty chart first and then assign encodings later when you put together multiple charts together. Here is an example: https://altair-viz.github.io/user_guide/compound_charts.html#repeated-charts\n",
        "\n"
      ],
      "metadata": {
        "id": "q64PqDaq_G_c"
      }
    },
    {
      "cell_type": "markdown",
      "source": [
        "Use base chart to produce the chart above:"
      ],
      "metadata": {
        "id": "8sacUYEF_G_d"
      }
    },
    {
      "cell_type": "code",
      "execution_count": null,
      "source": [
        "base = alt.Chart().mark_bar().encode(\n",
        "    alt.X(\"IMDB_Rating:Q\",  bin=Bin(nice=True, maxbins=20)),\n",
        "    alt.Y('count()')\n",
        ").properties(\n",
        "    width=300,\n",
        "    height=150\n",
        ")\n",
        "\n",
        "chart = alt.vconcat(data=vega_datasets.data.movies.url)\n",
        "for bin_param in [Bin(step=0.1), Bin(nice=True, maxbins=20)]:\n",
        "    row = alt.hconcat()\n",
        "    row |= base.encode(x=alt.X(\"IMDB_Rating:Q\", bin=bin_param), y='count()')\n",
        "    chart &= row\n",
        "\n",
        "chart"
      ],
      "outputs": [
        {
          "output_type": "execute_result",
          "data": {
            "text/plain": [
              "<VegaLite 3 object>\n",
              "\n",
              "If you see this message, it means the renderer has not been properly enabled\n",
              "for the frontend that you are using. For more information, see\n",
              "https://altair-viz.github.io/user_guide/troubleshooting.html\n"
            ],
            "image/png": "[encoded data removed]",
            "application/vnd.vegalite.v3+json": {
              "$schema": "https://vega.github.io/schema/vega-lite/v3.4.0.json",
              "config": {
                "mark": {
                  "tooltip": null
                },
                "view": {
                  "height": 300,
                  "width": 400
                }
              },
              "data": {
                "url": "https://vega.github.io/vega-datasets/data/movies.json"
              },
              "vconcat": [
                {
                  "hconcat": [
                    {
                      "encoding": {
                        "x": {
                          "bin": {
                            "step": 0.1
                          },
                          "field": "IMDB Rating",
                          "type": "quantitative"
                        },
                        "y": {
                          "aggregate": "count",
                          "type": "quantitative"
                        }
                      },
                      "height": 150,
                      "mark": "bar",
                      "width": 300
                    }
                  ]
                },
                {
                  "hconcat": [
                    {
                      "encoding": {
                        "x": {
                          "bin": {
                            "maxbins": 20,
                            "nice": true
                          },
                          "field": "IMDB Rating",
                          "type": "quantitative"
                        },
                        "y": {
                          "aggregate": "count",
                          "type": "quantitative"
                        }
                      },
                      "height": 150,
                      "mark": "bar",
                      "width": 300
                    }
                  ]
                }
              ]
            }
          },
          "metadata": {
            "tags": []
          },
          "execution_count": 75
        }
      ],
      "metadata": {
        "id": "8p4KLnHb_G_d",
        "outputId": "6881b905-1fb6-4909-ffd4-80829ffe8326"
      }
    },
    {
      "cell_type": "markdown",
      "source": [
        "**Q: Using the base chart approach to create a 2x2 chart where the top row shows the two histograms of `IMDB_Rating` with `maxbins`=10 and 50 respectively, and the bottom row shows another two histograms of `IMDB_Votes` with `maxbins`=10 and 50.**"
      ],
      "metadata": {
        "id": "fNks8h5J_G_d"
      }
    },
    {
      "cell_type": "code",
      "execution_count": null,
      "source": [
        "# TODO\n"
      ],
      "outputs": [
        {
          "output_type": "execute_result",
          "data": {
            "text/plain": [
              "<VegaLite 3 object>\n",
              "\n",
              "If you see this message, it means the renderer has not been properly enabled\n",
              "for the frontend that you are using. For more information, see\n",
              "https://altair-viz.github.io/user_guide/troubleshooting.html\n"
            ],
            "image/png": "[encoded data removed]",
            "application/vnd.vegalite.v3+json": {
              "$schema": "https://vega.github.io/schema/vega-lite/v3.4.0.json",
              "config": {
                "mark": {
                  "tooltip": null
                },
                "view": {
                  "height": 300,
                  "width": 400
                }
              },
              "data": {
                "url": "https://vega.github.io/vega-datasets/data/movies.json"
              },
              "vconcat": [
                {
                  "hconcat": [
                    {
                      "encoding": {
                        "x": {
                          "bin": {
                            "maxbins": 10
                          },
                          "field": "IMDB_Rating",
                          "type": "quantitative"
                        },
                        "y": {
                          "aggregate": "count",
                          "type": "quantitative"
                        }
                      },
                      "height": 150,
                      "mark": "bar",
                      "width": 200
                    },
                    {
                      "encoding": {
                        "x": {
                          "bin": {
                            "maxbins": 50
                          },
                          "field": "IMDB_Rating",
                          "type": "quantitative"
                        },
                        "y": {
                          "aggregate": "count",
                          "type": "quantitative"
                        }
                      },
                      "height": 150,
                      "mark": "bar",
                      "width": 200
                    }
                  ]
                },
                {
                  "hconcat": [
                    {
                      "encoding": {
                        "x": {
                          "bin": {
                            "maxbins": 10
                          },
                          "field": "IMDB_Votes",
                          "type": "quantitative"
                        },
                        "y": {
                          "aggregate": "count",
                          "type": "quantitative"
                        }
                      },
                      "height": 150,
                      "mark": "bar",
                      "width": 200
                    },
                    {
                      "encoding": {
                        "x": {
                          "bin": {
                            "maxbins": 50
                          },
                          "field": "IMDB_Votes",
                          "type": "quantitative"
                        },
                        "y": {
                          "aggregate": "count",
                          "type": "quantitative"
                        }
                      },
                      "height": 150,
                      "mark": "bar",
                      "width": 200
                    }
                  ]
                }
              ]
            }
          },
          "metadata": {
            "tags": []
          },
          "execution_count": 76
        }
      ],
      "metadata": {
        "jupyter": {
          "outputs_hidden": false
        },
        "id": "kQcK-33e_G_d",
        "outputId": "37ac36d3-4a86-416c-f2e6-6b525b5651d9"
      }
    }
  ]
}