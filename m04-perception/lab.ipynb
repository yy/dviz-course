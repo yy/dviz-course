{
  "cells": [
    {
      "attachments": {},
      "cell_type": "markdown",
      "metadata": {
        "id": "Bi6Jpv4VV8L_"
      },
      "source": [
        "# W3 Lab: Perception\n",
        "\n",
        "In this lab, we will learn basic usage of `pandas` library and then perform a small experiment to test the perception of length and area. "
      ]
    },
    {
      "cell_type": "code",
      "execution_count": null,
      "metadata": {
        "id": "g3uM_CoJV8MD"
      },
      "outputs": [],
      "source": [
        "import pandas as pd\n",
        "import math\n",
        "import matplotlib.pyplot as plt\n",
        "%matplotlib inline"
      ]
    },
    {
      "attachments": {},
      "cell_type": "markdown",
      "metadata": {
        "id": "o_MG8B4rV8ME"
      },
      "source": [
        "## Vega datasets \n",
        "\n",
        "Before going into the perception experiment, let's first talk about some handy datasets that you can play with. \n",
        "\n",
        "It's nice to have clean datasets handy to practice data visualization. There is a nice small package called [`vega-datasets`](https://github.com/altair-viz/vega_datasets), from the [altair project](https://github.com/altair-viz). \n",
        "\n",
        "You can install the package by running\n",
        "\n",
        "    $ pip install vega-datasets\n",
        "    \n",
        "or \n",
        "\n",
        "    $ pip3 install vega-datasets\n",
        "    \n",
        "Once you install the package, you can import and see the list of datasets:"
      ]
    },
    {
      "cell_type": "code",
      "execution_count": null,
      "metadata": {
        "id": "x4ZEPpSYV8MF",
        "outputId": "44f6ecc4-6d51-4965-98c9-388be26e4435"
      },
      "outputs": [
        {
          "data": {
            "text/plain": [
              "['7zip',\n",
              " 'airports',\n",
              " 'anscombe',\n",
              " 'barley',\n",
              " 'birdstrikes',\n",
              " 'budget',\n",
              " 'budgets',\n",
              " 'burtin',\n",
              " 'cars',\n",
              " 'climate',\n",
              " 'co2-concentration',\n",
              " 'countries',\n",
              " 'crimea',\n",
              " 'disasters',\n",
              " 'driving',\n",
              " 'earthquakes',\n",
              " 'ffox',\n",
              " 'flare',\n",
              " 'flare-dependencies',\n",
              " 'flights-10k',\n",
              " 'flights-200k',\n",
              " 'flights-20k',\n",
              " 'flights-2k',\n",
              " 'flights-3m',\n",
              " 'flights-5k',\n",
              " 'flights-airport',\n",
              " 'gapminder',\n",
              " 'gapminder-health-income',\n",
              " 'gimp',\n",
              " 'github',\n",
              " 'graticule',\n",
              " 'income',\n",
              " 'iowa-electricity',\n",
              " 'iris',\n",
              " 'jobs',\n",
              " 'la-riots',\n",
              " 'londonBoroughs',\n",
              " 'londonCentroids',\n",
              " 'londonTubeLines',\n",
              " 'lookup_groups',\n",
              " 'lookup_people',\n",
              " 'miserables',\n",
              " 'monarchs',\n",
              " 'movies',\n",
              " 'normal-2d',\n",
              " 'obesity',\n",
              " 'points',\n",
              " 'population',\n",
              " 'population_engineers_hurricanes',\n",
              " 'seattle-temps',\n",
              " 'seattle-weather',\n",
              " 'sf-temps',\n",
              " 'sp500',\n",
              " 'stocks',\n",
              " 'udistrict',\n",
              " 'unemployment',\n",
              " 'unemployment-across-industries',\n",
              " 'us-10m',\n",
              " 'us-employment',\n",
              " 'us-state-capitals',\n",
              " 'weather',\n",
              " 'weball26',\n",
              " 'wheat',\n",
              " 'world-110m',\n",
              " 'zipcodes']"
            ]
          },
          "execution_count": 2,
          "metadata": {},
          "output_type": "execute_result"
        }
      ],
      "source": [
        "from vega_datasets import data\n",
        "\n",
        "data.list_datasets()"
      ]
    },
    {
      "attachments": {},
      "cell_type": "markdown",
      "metadata": {
        "id": "yP2eUP5yV8MG"
      },
      "source": [
        "or you can work with only smaller, local datasets. "
      ]
    },
    {
      "cell_type": "code",
      "execution_count": null,
      "metadata": {
        "id": "q_vjMCcvV8MH",
        "outputId": "35a1322c-eecc-44fa-c268-96ba8ba8fd8a"
      },
      "outputs": [
        {
          "data": {
            "text/plain": [
              "['airports',\n",
              " 'anscombe',\n",
              " 'barley',\n",
              " 'burtin',\n",
              " 'cars',\n",
              " 'crimea',\n",
              " 'driving',\n",
              " 'iowa-electricity',\n",
              " 'iris',\n",
              " 'la-riots',\n",
              " 'seattle-temps',\n",
              " 'seattle-weather',\n",
              " 'sf-temps',\n",
              " 'stocks',\n",
              " 'us-employment',\n",
              " 'wheat']"
            ]
          },
          "execution_count": 3,
          "metadata": {},
          "output_type": "execute_result"
        }
      ],
      "source": [
        "from vega_datasets import local_data\n",
        "local_data.list_datasets()"
      ]
    },
    {
      "attachments": {},
      "cell_type": "markdown",
      "metadata": {
        "id": "MM2Rwch7V8MH"
      },
      "source": [
        "Ah, we have the `anscombe` data here! Let's see the description of the dataset. "
      ]
    },
    {
      "cell_type": "code",
      "execution_count": null,
      "metadata": {
        "id": "vYs6P4NVV8MI",
        "outputId": "cd31b9d0-06f4-4b45-dd57-64bddace03d0"
      },
      "outputs": [
        {
          "data": {
            "text/plain": [
              "\"Anscombe's Quartet is a famous dataset constructed by Francis Anscombe [1]_. Common summary statistics are identical for each subset of the data, despite the subsets having vastly different characteristics.\""
            ]
          },
          "execution_count": 4,
          "metadata": {},
          "output_type": "execute_result"
        }
      ],
      "source": [
        "local_data.anscombe.description"
      ]
    },
    {
      "attachments": {},
      "cell_type": "markdown",
      "metadata": {
        "id": "m5rFivq0V8MI"
      },
      "source": [
        "## Anscombe's quartet dataset\n",
        "\n",
        "How does the actual data look like? Very conveniently, calling the dataset returns a Pandas dataframe for you. "
      ]
    },
    {
      "cell_type": "code",
      "execution_count": null,
      "metadata": {
        "id": "_pBz9Fw9V8MJ",
        "outputId": "77291194-1486-42fb-9d53-fd937a89a345"
      },
      "outputs": [
        {
          "data": {
            "text/html": [
              "<div>\n",
              "<style scoped>\n",
              "    .dataframe tbody tr th:only-of-type {\n",
              "        vertical-align: middle;\n",
              "    }\n",
              "\n",
              "    .dataframe tbody tr th {\n",
              "        vertical-align: top;\n",
              "    }\n",
              "\n",
              "    .dataframe thead th {\n",
              "        text-align: right;\n",
              "    }\n",
              "</style>\n",
              "<table border=\"1\" class=\"dataframe\">\n",
              "  <thead>\n",
              "    <tr style=\"text-align: right;\">\n",
              "      <th></th>\n",
              "      <th>Series</th>\n",
              "      <th>X</th>\n",
              "      <th>Y</th>\n",
              "    </tr>\n",
              "  </thead>\n",
              "  <tbody>\n",
              "    <tr>\n",
              "      <th>0</th>\n",
              "      <td>I</td>\n",
              "      <td>10</td>\n",
              "      <td>8.04</td>\n",
              "    </tr>\n",
              "    <tr>\n",
              "      <th>1</th>\n",
              "      <td>I</td>\n",
              "      <td>8</td>\n",
              "      <td>6.95</td>\n",
              "    </tr>\n",
              "    <tr>\n",
              "      <th>2</th>\n",
              "      <td>I</td>\n",
              "      <td>13</td>\n",
              "      <td>7.58</td>\n",
              "    </tr>\n",
              "    <tr>\n",
              "      <th>3</th>\n",
              "      <td>I</td>\n",
              "      <td>9</td>\n",
              "      <td>8.81</td>\n",
              "    </tr>\n",
              "    <tr>\n",
              "      <th>4</th>\n",
              "      <td>I</td>\n",
              "      <td>11</td>\n",
              "      <td>8.33</td>\n",
              "    </tr>\n",
              "  </tbody>\n",
              "</table>\n",
              "</div>"
            ],
            "text/plain": [
              "  Series   X     Y\n",
              "0      I  10  8.04\n",
              "1      I   8  6.95\n",
              "2      I  13  7.58\n",
              "3      I   9  8.81\n",
              "4      I  11  8.33"
            ]
          },
          "execution_count": 5,
          "metadata": {},
          "output_type": "execute_result"
        }
      ],
      "source": [
        "df = local_data.anscombe()\n",
        "df.head()"
      ]
    },
    {
      "attachments": {},
      "cell_type": "markdown",
      "metadata": {
        "id": "Lx3lxzqDV8MK"
      },
      "source": [
        "**Q1: can you draw a scatterplot of the dataset \"I\"?** You can filter the dataframe based on the `Series` column and use `scatter` function that you used for the Snow's map. "
      ]
    },
    {
      "cell_type": "code",
      "execution_count": null,
      "metadata": {
        "id": "nTu3m3jfV8MK",
        "outputId": "2f4254af-2fb0-439c-8b90-43765a560816"
      },
      "outputs": [
        {
          "data": {
            "text/plain": [
              "<matplotlib.axes._subplots.AxesSubplot at 0x117da54a8>"
            ]
          },
          "execution_count": 6,
          "metadata": {},
          "output_type": "execute_result"
        },
        {
          "data": {
            "image/png": "[encoded data removed]",
            "text/plain": [
              "<Figure size 432x288 with 1 Axes>"
            ]
          },
          "metadata": {
            "needs_background": "light"
          },
          "output_type": "display_data"
        }
      ],
      "source": [
        "# TODO: put your code here\n"
      ]
    },
    {
      "attachments": {},
      "cell_type": "markdown",
      "metadata": {
        "id": "HvEz6e0XV8MK"
      },
      "source": [
        "## Some histograms with pandas "
      ]
    },
    {
      "attachments": {},
      "cell_type": "markdown",
      "metadata": {
        "id": "sKIHRTHQV8MK"
      },
      "source": [
        "Let's look at a slightly more complicated dataset."
      ]
    },
    {
      "cell_type": "code",
      "execution_count": null,
      "metadata": {
        "id": "VrcwcWQ2V8ML",
        "outputId": "9df5f23e-167c-4905-8fea-de8c3332c4ce"
      },
      "outputs": [
        {
          "data": {
            "text/html": [
              "<div>\n",
              "<style scoped>\n",
              "    .dataframe tbody tr th:only-of-type {\n",
              "        vertical-align: middle;\n",
              "    }\n",
              "\n",
              "    .dataframe tbody tr th {\n",
              "        vertical-align: top;\n",
              "    }\n",
              "\n",
              "    .dataframe thead th {\n",
              "        text-align: right;\n",
              "    }\n",
              "</style>\n",
              "<table border=\"1\" class=\"dataframe\">\n",
              "  <thead>\n",
              "    <tr style=\"text-align: right;\">\n",
              "      <th></th>\n",
              "      <th>Acceleration</th>\n",
              "      <th>Cylinders</th>\n",
              "      <th>Displacement</th>\n",
              "      <th>Horsepower</th>\n",
              "      <th>Miles_per_Gallon</th>\n",
              "      <th>Name</th>\n",
              "      <th>Origin</th>\n",
              "      <th>Weight_in_lbs</th>\n",
              "      <th>Year</th>\n",
              "    </tr>\n",
              "  </thead>\n",
              "  <tbody>\n",
              "    <tr>\n",
              "      <th>0</th>\n",
              "      <td>12.0</td>\n",
              "      <td>8</td>\n",
              "      <td>307.0</td>\n",
              "      <td>130.0</td>\n",
              "      <td>18.0</td>\n",
              "      <td>chevrolet chevelle malibu</td>\n",
              "      <td>USA</td>\n",
              "      <td>3504</td>\n",
              "      <td>1970-01-01</td>\n",
              "    </tr>\n",
              "    <tr>\n",
              "      <th>1</th>\n",
              "      <td>11.5</td>\n",
              "      <td>8</td>\n",
              "      <td>350.0</td>\n",
              "      <td>165.0</td>\n",
              "      <td>15.0</td>\n",
              "      <td>buick skylark 320</td>\n",
              "      <td>USA</td>\n",
              "      <td>3693</td>\n",
              "      <td>1970-01-01</td>\n",
              "    </tr>\n",
              "    <tr>\n",
              "      <th>2</th>\n",
              "      <td>11.0</td>\n",
              "      <td>8</td>\n",
              "      <td>318.0</td>\n",
              "      <td>150.0</td>\n",
              "      <td>18.0</td>\n",
              "      <td>plymouth satellite</td>\n",
              "      <td>USA</td>\n",
              "      <td>3436</td>\n",
              "      <td>1970-01-01</td>\n",
              "    </tr>\n",
              "    <tr>\n",
              "      <th>3</th>\n",
              "      <td>12.0</td>\n",
              "      <td>8</td>\n",
              "      <td>304.0</td>\n",
              "      <td>150.0</td>\n",
              "      <td>16.0</td>\n",
              "      <td>amc rebel sst</td>\n",
              "      <td>USA</td>\n",
              "      <td>3433</td>\n",
              "      <td>1970-01-01</td>\n",
              "    </tr>\n",
              "    <tr>\n",
              "      <th>4</th>\n",
              "      <td>10.5</td>\n",
              "      <td>8</td>\n",
              "      <td>302.0</td>\n",
              "      <td>140.0</td>\n",
              "      <td>17.0</td>\n",
              "      <td>ford torino</td>\n",
              "      <td>USA</td>\n",
              "      <td>3449</td>\n",
              "      <td>1970-01-01</td>\n",
              "    </tr>\n",
              "  </tbody>\n",
              "</table>\n",
              "</div>"
            ],
            "text/plain": [
              "   Acceleration  Cylinders  Displacement  Horsepower  Miles_per_Gallon  \\\n",
              "0          12.0          8         307.0       130.0              18.0   \n",
              "1          11.5          8         350.0       165.0              15.0   \n",
              "2          11.0          8         318.0       150.0              18.0   \n",
              "3          12.0          8         304.0       150.0              16.0   \n",
              "4          10.5          8         302.0       140.0              17.0   \n",
              "\n",
              "                        Name Origin  Weight_in_lbs       Year  \n",
              "0  chevrolet chevelle malibu    USA           3504 1970-01-01  \n",
              "1          buick skylark 320    USA           3693 1970-01-01  \n",
              "2         plymouth satellite    USA           3436 1970-01-01  \n",
              "3              amc rebel sst    USA           3433 1970-01-01  \n",
              "4                ford torino    USA           3449 1970-01-01  "
            ]
          },
          "execution_count": 7,
          "metadata": {},
          "output_type": "execute_result"
        }
      ],
      "source": [
        "car_df = local_data.cars().astype({'Year':'object'})\n",
        "car_df.head()"
      ]
    },
    {
      "attachments": {},
      "cell_type": "markdown",
      "metadata": {
        "id": "2Nam45nwV8ML"
      },
      "source": [
        "Pandas provides useful summary functions. It identifies numerical data columns and provides you with a table of summary statistics. "
      ]
    },
    {
      "cell_type": "code",
      "execution_count": null,
      "metadata": {
        "id": "_hA6OYgCV8ML",
        "outputId": "f0f0b0ee-3b57-4bf5-ce02-67662e5bb489"
      },
      "outputs": [
        {
          "data": {
            "text/html": [
              "<div>\n",
              "<style scoped>\n",
              "    .dataframe tbody tr th:only-of-type {\n",
              "        vertical-align: middle;\n",
              "    }\n",
              "\n",
              "    .dataframe tbody tr th {\n",
              "        vertical-align: top;\n",
              "    }\n",
              "\n",
              "    .dataframe thead th {\n",
              "        text-align: right;\n",
              "    }\n",
              "</style>\n",
              "<table border=\"1\" class=\"dataframe\">\n",
              "  <thead>\n",
              "    <tr style=\"text-align: right;\">\n",
              "      <th></th>\n",
              "      <th>Acceleration</th>\n",
              "      <th>Cylinders</th>\n",
              "      <th>Displacement</th>\n",
              "      <th>Horsepower</th>\n",
              "      <th>Miles_per_Gallon</th>\n",
              "      <th>Weight_in_lbs</th>\n",
              "    </tr>\n",
              "  </thead>\n",
              "  <tbody>\n",
              "    <tr>\n",
              "      <th>count</th>\n",
              "      <td>406.000000</td>\n",
              "      <td>406.000000</td>\n",
              "      <td>406.000000</td>\n",
              "      <td>400.000000</td>\n",
              "      <td>398.000000</td>\n",
              "      <td>406.000000</td>\n",
              "    </tr>\n",
              "    <tr>\n",
              "      <th>mean</th>\n",
              "      <td>15.519704</td>\n",
              "      <td>5.475369</td>\n",
              "      <td>194.779557</td>\n",
              "      <td>105.082500</td>\n",
              "      <td>23.514573</td>\n",
              "      <td>2979.413793</td>\n",
              "    </tr>\n",
              "    <tr>\n",
              "      <th>std</th>\n",
              "      <td>2.803359</td>\n",
              "      <td>1.712160</td>\n",
              "      <td>104.922458</td>\n",
              "      <td>38.768779</td>\n",
              "      <td>7.815984</td>\n",
              "      <td>847.004328</td>\n",
              "    </tr>\n",
              "    <tr>\n",
              "      <th>min</th>\n",
              "      <td>8.000000</td>\n",
              "      <td>3.000000</td>\n",
              "      <td>68.000000</td>\n",
              "      <td>46.000000</td>\n",
              "      <td>9.000000</td>\n",
              "      <td>1613.000000</td>\n",
              "    </tr>\n",
              "    <tr>\n",
              "      <th>25%</th>\n",
              "      <td>13.700000</td>\n",
              "      <td>4.000000</td>\n",
              "      <td>105.000000</td>\n",
              "      <td>75.750000</td>\n",
              "      <td>17.500000</td>\n",
              "      <td>2226.500000</td>\n",
              "    </tr>\n",
              "    <tr>\n",
              "      <th>50%</th>\n",
              "      <td>15.500000</td>\n",
              "      <td>4.000000</td>\n",
              "      <td>151.000000</td>\n",
              "      <td>95.000000</td>\n",
              "      <td>23.000000</td>\n",
              "      <td>2822.500000</td>\n",
              "    </tr>\n",
              "    <tr>\n",
              "      <th>75%</th>\n",
              "      <td>17.175000</td>\n",
              "      <td>8.000000</td>\n",
              "      <td>302.000000</td>\n",
              "      <td>130.000000</td>\n",
              "      <td>29.000000</td>\n",
              "      <td>3618.250000</td>\n",
              "    </tr>\n",
              "    <tr>\n",
              "      <th>max</th>\n",
              "      <td>24.800000</td>\n",
              "      <td>8.000000</td>\n",
              "      <td>455.000000</td>\n",
              "      <td>230.000000</td>\n",
              "      <td>46.600000</td>\n",
              "      <td>5140.000000</td>\n",
              "    </tr>\n",
              "  </tbody>\n",
              "</table>\n",
              "</div>"
            ],
            "text/plain": [
              "       Acceleration   Cylinders  Displacement  Horsepower  Miles_per_Gallon  \\\n",
              "count    406.000000  406.000000    406.000000  400.000000        398.000000   \n",
              "mean      15.519704    5.475369    194.779557  105.082500         23.514573   \n",
              "std        2.803359    1.712160    104.922458   38.768779          7.815984   \n",
              "min        8.000000    3.000000     68.000000   46.000000          9.000000   \n",
              "25%       13.700000    4.000000    105.000000   75.750000         17.500000   \n",
              "50%       15.500000    4.000000    151.000000   95.000000         23.000000   \n",
              "75%       17.175000    8.000000    302.000000  130.000000         29.000000   \n",
              "max       24.800000    8.000000    455.000000  230.000000         46.600000   \n",
              "\n",
              "       Weight_in_lbs  \n",
              "count     406.000000  \n",
              "mean     2979.413793  \n",
              "std       847.004328  \n",
              "min      1613.000000  \n",
              "25%      2226.500000  \n",
              "50%      2822.500000  \n",
              "75%      3618.250000  \n",
              "max      5140.000000  "
            ]
          },
          "execution_count": 9,
          "metadata": {},
          "output_type": "execute_result"
        }
      ],
      "source": [
        "car_df.describe()"
      ]
    },
    {
      "attachments": {},
      "cell_type": "markdown",
      "metadata": {
        "id": "isC98a8gV8MM"
      },
      "source": [
        "If you ask to draw a histogram, you get all of them. :)"
      ]
    },
    {
      "cell_type": "code",
      "execution_count": null,
      "metadata": {
        "id": "IbO6AhcyV8MM",
        "outputId": "c53971d0-722c-4a36-ea54-5e2d1be76748"
      },
      "outputs": [
        {
          "data": {
            "text/plain": [
              "array([[<matplotlib.axes._subplots.AxesSubplot object at 0x1180a5f28>,\n",
              "        <matplotlib.axes._subplots.AxesSubplot object at 0x11811a6d8>],\n",
              "       [<matplotlib.axes._subplots.AxesSubplot object at 0x11814f7f0>,\n",
              "        <matplotlib.axes._subplots.AxesSubplot object at 0x1181749b0>],\n",
              "       [<matplotlib.axes._subplots.AxesSubplot object at 0x1181da278>,\n",
              "        <matplotlib.axes._subplots.AxesSubplot object at 0x1181fd7f0>]],\n",
              "      dtype=object)"
            ]
          },
          "execution_count": 10,
          "metadata": {},
          "output_type": "execute_result"
        },
        {
          "data": {
            "image/png": "[encoded data removed]",
            "text/plain": [
              "<Figure size 432x288 with 6 Axes>"
            ]
          },
          "metadata": {
            "needs_background": "light"
          },
          "output_type": "display_data"
        }
      ],
      "source": [
        "car_df.hist()"
      ]
    },
    {
      "attachments": {},
      "cell_type": "markdown",
      "metadata": {
        "id": "UxWlXwKVV8MM"
      },
      "source": [
        "Well this is too small. You can check out [the documentation](https://pandas.pydata.org/pandas-docs/stable/generated/pandas.DataFrame.hist.html) and change the size of the figure. \n",
        "\n",
        "**Q2: by consulting the documentation, can you make the figure larger so that we can see all the labels clearly? And then make the layout 2 x 3 not 3 x 2, then change the number of bins to 20?**"
      ]
    },
    {
      "cell_type": "code",
      "execution_count": null,
      "metadata": {
        "id": "fbAlcELDV8MM",
        "outputId": "d1780a1c-4200-460a-d4ee-306e578647b6"
      },
      "outputs": [
        {
          "data": {
            "image/png": "[encoded data removed]",
            "text/plain": [
              "<Figure size 864x576 with 6 Axes>"
            ]
          },
          "metadata": {
            "needs_background": "light"
          },
          "output_type": "display_data"
        }
      ],
      "source": [
        "# TODO: put your code here\n"
      ]
    },
    {
      "attachments": {},
      "cell_type": "markdown",
      "metadata": {
        "id": "m-ga_A_dV8MN"
      },
      "source": [
        "## Your own psychophysics experiment!"
      ]
    },
    {
      "attachments": {},
      "cell_type": "markdown",
      "metadata": {
        "id": "A4QTY23_V8MN"
      },
      "source": [
        "Let's do an experiment! The procedure is as follows:\n",
        "\n",
        "1. Generate a random number (a float) between \\[1.0, 10.0\\];\n",
        "1. Use a horizontal bar to represent the number, i.e., the length of the bar is equal to the number;\n",
        "1. Guess the length of the bar by comparing it to two other bars with length 1 and 10 respectively;\n",
        "1. Store your guess (perceived length) and actual length to two separate lists;\n",
        "1. Repeat the above steps many times;\n",
        "1. How does the perception of length differ from that of area?.\n",
        "\n",
        "First, let's define the length of a short and a long bar. We also create two empty lists to store perceived and actual length."
      ]
    },
    {
      "cell_type": "code",
      "execution_count": null,
      "metadata": {
        "id": "4nSjF5MsV8MN"
      },
      "outputs": [],
      "source": [
        "import random\n",
        "import time\n",
        "import numpy as np\n",
        "\n",
        "l_short_bar = 1\n",
        "l_long_bar = 10\n",
        "\n",
        "perceived_length_list = []\n",
        "actual_length_list = []"
      ]
    },
    {
      "attachments": {},
      "cell_type": "markdown",
      "metadata": {
        "id": "GiyIHeCCV8MN"
      },
      "source": [
        "### Perception of length\n",
        "\n",
        "Let's run the experiment.\n",
        "\n",
        "The [**`random`**](https://docs.python.org/3.6/library/random.html) module in Python provides various random number generators, and the [**`random.uniform(a,b)`**](https://docs.python.org/3.6/library/random.html#random.uniform) function returns a floating point number in \\[a,b\\]. \n",
        "\n",
        "We can plot horizontal bars using the [**`pyplot.barh()`**](http://matplotlib.org/api/pyplot_api.html#matplotlib.pyplot.barh) function. Using this function, we can produce a bar graph that looks like this:"
      ]
    },
    {
      "cell_type": "code",
      "execution_count": null,
      "metadata": {
        "id": "whdCBrUVV8MO",
        "outputId": "96a99273-f394-4123-a999-f915249d164b"
      },
      "outputs": [
        {
          "data": {
            "text/plain": [
              "([], <a list of 0 Text xticklabel objects>)"
            ]
          },
          "execution_count": 13,
          "metadata": {},
          "output_type": "execute_result"
        },
        {
          "data": {
            "image/png": "[encoded data removed]",
            "text/plain": [
              "<Figure size 432x288 with 1 Axes>"
            ]
          },
          "metadata": {
            "needs_background": "light"
          },
          "output_type": "display_data"
        }
      ],
      "source": [
        "mystery_length = random.uniform(1, 10)  # generate a float between 1.0 and 10.0. this is the *actual* length.\n",
        "\n",
        "plt.barh(np.arange(3), [l_short_bar, mystery_length, l_long_bar], align='center')\n",
        "plt.yticks(np.arange(3), ('1', '?', '10'))\n",
        "plt.xticks([]) # no hint!"
      ]
    },
    {
      "attachments": {},
      "cell_type": "markdown",
      "metadata": {
        "id": "U1CrXPLmV8MO"
      },
      "source": [
        "Btw, `np.arange` is used to create a simple integer list `[0, 1, 2]`. "
      ]
    },
    {
      "cell_type": "code",
      "execution_count": null,
      "metadata": {
        "id": "aLrh3MoEV8MO",
        "outputId": "a432cb92-1547-460a-dc38-74e82971d952"
      },
      "outputs": [
        {
          "data": {
            "text/plain": [
              "array([0, 1, 2])"
            ]
          },
          "execution_count": 150,
          "metadata": {},
          "output_type": "execute_result"
        }
      ],
      "source": [
        "np.arange(3)"
      ]
    },
    {
      "attachments": {},
      "cell_type": "markdown",
      "metadata": {
        "id": "YGqA4loUV8MO"
      },
      "source": [
        "Now let's define a function to perform the experiment once. When you run this function, it picks a random number between 1.0 and 10.0 and show the bar chart. Then it asks you to input your estimate of the length of the middle bar. It then saves that number to the `perceived_length_list` and the actual answer to the `actual_length_list`. "
      ]
    },
    {
      "cell_type": "code",
      "execution_count": null,
      "metadata": {
        "id": "-J6nFVsGV8MO"
      },
      "outputs": [],
      "source": [
        "def run_exp_once():\n",
        "    mystery_length = random.uniform(1, 10)  # generate a float between 1.0 and 10.0. \n",
        "\n",
        "    plt.barh(np.arange(3), [l_short_bar, mystery_length, l_long_bar], height=0.5, align='center')\n",
        "    plt.yticks(np.arange(3), ('1', '?', '10'))\n",
        "    plt.xticks([]) # no hint!\n",
        "    plt.show()\n",
        "    \n",
        "    try:\n",
        "        perceived_length_list.append( float(input()) )\n",
        "    except:\n",
        "        print(\"This should only fail in workflow. If you are running this in browser, this won't fail.\")\n",
        "        pass\n",
        "    actual_length_list.append(mystery_length)"
      ]
    },
    {
      "cell_type": "code",
      "execution_count": null,
      "metadata": {
        "id": "RDKhzLTBV8MO",
        "outputId": "a11db7e5-2b19-4733-f5f6-bdc9d6b27156"
      },
      "outputs": [
        {
          "data": {
            "image/png": "[encoded data removed]",
            "text/plain": [
              "<Figure size 432x288 with 1 Axes>"
            ]
          },
          "metadata": {
            "needs_background": "light"
          },
          "output_type": "display_data"
        },
        {
          "name": "stdout",
          "output_type": "stream",
          "text": [
            " 2.5\n"
          ]
        }
      ],
      "source": [
        "run_exp_once()"
      ]
    },
    {
      "attachments": {},
      "cell_type": "markdown",
      "metadata": {
        "id": "EJ1Qc7YuV8MP"
      },
      "source": [
        "Now, run the experiment many times to gather your data. Check the two lists to make sure that you have the proper dataset. The length of the two lists should be the same. "
      ]
    },
    {
      "cell_type": "code",
      "execution_count": null,
      "metadata": {
        "id": "qzsOBvqvV8MP"
      },
      "outputs": [],
      "source": [
        "# TODO: Run your experiment many times here\n"
      ]
    },
    {
      "attachments": {},
      "cell_type": "markdown",
      "metadata": {
        "id": "r096JEEKV8MP"
      },
      "source": [
        "### Plotting the result\n",
        "\n",
        "Now we can draw the scatter plot of perceived and actual length. The `matplotlib`'s [**`scatter()`**](http://matplotlib.org/api/pyplot_api.html#matplotlib.pyplot.scatter) function will do this. This is the backend of the pandas' scatterplot. Here is an example of how to use `scatter`:"
      ]
    },
    {
      "cell_type": "code",
      "execution_count": null,
      "metadata": {
        "id": "dDBQxsHHV8MP",
        "outputId": "dea9fb88-2744-4c52-dc08-5d5b1fa8471c"
      },
      "outputs": [
        {
          "data": {
            "text/plain": [
              "<matplotlib.collections.PathCollection at 0x10697d668>"
            ]
          },
          "execution_count": 19,
          "metadata": {},
          "output_type": "execute_result"
        },
        {
          "data": {
            "image/png": "[encoded data removed]",
            "text/plain": [
              "<Figure size 432x288 with 1 Axes>"
            ]
          },
          "metadata": {
            "needs_background": "light"
          },
          "output_type": "display_data"
        }
      ],
      "source": [
        "plt.scatter(x=[1,5,10], y=[1,10, 5])"
      ]
    },
    {
      "attachments": {},
      "cell_type": "markdown",
      "metadata": {
        "id": "lgobltSxV8MP"
      },
      "source": [
        "**Q3: Now plot your result using the `scatter()` function. You should also use `plt.title()`, `plt.xlabel()`, and `plt.ylabel()` to label your axes and the plot itself.**"
      ]
    },
    {
      "cell_type": "code",
      "execution_count": null,
      "metadata": {
        "id": "tljwI9KGV8MP",
        "outputId": "5d4daf85-f9ee-4b73-d7d5-c9bf1657e08b"
      },
      "outputs": [
        {
          "data": {
            "text/plain": [
              "Text(0, 0.5, 'Perceived')"
            ]
          },
          "execution_count": 21,
          "metadata": {},
          "output_type": "execute_result"
        },
        {
          "data": {
            "image/png": "[encoded data removed]",
            "text/plain": [
              "<Figure size 432x288 with 1 Axes>"
            ]
          },
          "metadata": {
            "needs_background": "light"
          },
          "output_type": "display_data"
        }
      ],
      "source": [
        "# TODO: put your code here\n"
      ]
    },
    {
      "attachments": {},
      "cell_type": "markdown",
      "metadata": {
        "id": "5BcFLz4WV8MP"
      },
      "source": [
        "After plotting, let's fit the relation between actual and perceived lengths using a polynomial function. We can easily do it using [**`curve_fit(f, x, y)`**](http://docs.scipy.org/doc/scipy/reference/generated/scipy.optimize.curve_fit.html) in Scipy, which is to fit $x$ and $y$ using the function `f`. In our case, $f = a*x^b +c$. For instance, we can check whether this works by creating a fake dataset that follows the exact form:"
      ]
    },
    {
      "cell_type": "code",
      "execution_count": null,
      "metadata": {
        "id": "y2TOCZCgV8MQ",
        "outputId": "aa677f49-10e9-4bfc-e7d0-1ef4b039a270"
      },
      "outputs": [
        {
          "name": "stdout",
          "output_type": "stream",
          "text": [
            "1.00 x^2.00 + 0.00\n"
          ]
        }
      ],
      "source": [
        "from scipy.optimize import curve_fit\n",
        "\n",
        "def func(x, a, b, c):\n",
        "    return a * np.power(x, b) + c\n",
        "\n",
        "x = np.arange(20)  # [0,1,2,3, ..., 19]\n",
        "y = np.power(x, 2) # [0,1,4,9, ... ]\n",
        "\n",
        "popt, pcov = curve_fit(func, x, y)\n",
        "print('{:.2f} x^{:.2f} + {:.2f}'.format(*popt))"
      ]
    },
    {
      "attachments": {},
      "cell_type": "markdown",
      "metadata": {
        "id": "y_6iwjE0WOMz"
      },
      "source": [
        "In order to plot the function to check the relationship between the actual and perceived lenghts, you can use two variables `x` and `y` to plot the relationship where `x` equals to a series of continuous numbers. For example, if your x axis ranges from 1 to 9 then the variable `x` could be equal to `np.linspace(1, 10, 50)`. The variable `y` will contain the equation that you get from `popt`. For example, if you get equation `1.00 x^2.00 + 0.00` then the variable `y` would be equal to `1.0 * x**2.0 + 0`. \n",
        "\n",
        "After assigning `x` and `y` variables you will plot them in combination with the scatter plot of actual and perceived values to check if you get a linear relationship or not."
      ]
    },
    {
      "attachments": {},
      "cell_type": "markdown",
      "metadata": {
        "id": "XSJMvr9pV8MQ"
      },
      "source": [
        "**Q4: Now fit your data!** Do you see roughly linear relationship between the actual and the perceived lengths? It's ok if you don't!"
      ]
    },
    {
      "cell_type": "code",
      "execution_count": null,
      "metadata": {
        "id": "9wU_NYElV8MQ"
      },
      "outputs": [],
      "source": [
        "# TODO: your code here\n"
      ]
    },
    {
      "attachments": {},
      "cell_type": "markdown",
      "metadata": {
        "id": "7i3vs2-iV8MQ"
      },
      "source": [
        "### Perception of area\n",
        "\n",
        "Similar to the above experiment, we now represent a random number as a circle, and the area of the circle is equal to the number.\n",
        "\n",
        "First, calculate the radius of a circle from its area and then plot using the **`Circle()`** function. `plt.Circle((0,0), r)` will plot a circle centered at (0,0) with radius `r`."
      ]
    },
    {
      "cell_type": "code",
      "execution_count": null,
      "metadata": {
        "id": "Jeuwq9aoV8MQ",
        "outputId": "b23de610-2efd-4d8d-b413-cdc604a81d90"
      },
      "outputs": [
        {
          "data": {
            "text/plain": [
              "<matplotlib.patches.Circle at 0x101a448208>"
            ]
          },
          "execution_count": 24,
          "metadata": {},
          "output_type": "execute_result"
        },
        {
          "data": {
            "image/png": "[encoded data removed]",
            "text/plain": [
              "<Figure size 432x288 with 1 Axes>"
            ]
          },
          "metadata": {
            "needs_background": "light"
          },
          "output_type": "display_data"
        }
      ],
      "source": [
        "n1 = 0.005\n",
        "n2 = 0.05\n",
        "\n",
        "radius1 = np.sqrt(n1/np.pi) # area = pi * r * r\n",
        "radius2 = np.sqrt(n2/np.pi)\n",
        "random_radius = np.sqrt(n1*random.uniform(1,10)/np.pi)\n",
        "\n",
        "plt.axis('equal')\n",
        "plt.axis('off')\n",
        "circ1 = plt.Circle( (0,0),         radius1, clip_on=False )\n",
        "circ2 = plt.Circle( (4*radius2,0), radius2, clip_on=False )\n",
        "rand_circ = plt.Circle((2*radius2,0), random_radius, clip_on=False )\n",
        "\n",
        "plt.gca().add_artist(circ1)\n",
        "plt.gca().add_artist(circ2)\n",
        "plt.gca().add_artist(rand_circ)"
      ]
    },
    {
      "attachments": {},
      "cell_type": "markdown",
      "metadata": {
        "id": "jkwFUWscV8MQ"
      },
      "source": [
        "Let's have two lists for this experiment.  "
      ]
    },
    {
      "cell_type": "code",
      "execution_count": null,
      "metadata": {
        "id": "cYWUdHVEV8MQ"
      },
      "outputs": [],
      "source": [
        "perceived_area_list = []\n",
        "actual_area_list = []"
      ]
    },
    {
      "attachments": {},
      "cell_type": "markdown",
      "metadata": {
        "id": "yv_BC-5EV8MQ"
      },
      "source": [
        "And define a function for the experiment. "
      ]
    },
    {
      "cell_type": "code",
      "execution_count": null,
      "metadata": {
        "id": "H0vlhEzwV8MQ"
      },
      "outputs": [],
      "source": [
        "def run_area_exp_once(n1=0.005, n2=0.05):    \n",
        "    radius1 = np.sqrt(n1/np.pi) # area = pi * r * r\n",
        "    radius2 = np.sqrt(n2/np.pi)\n",
        "    \n",
        "    mystery_number = random.uniform(1,10)\n",
        "    random_radius = np.sqrt(n1*mystery_number/math.pi)\n",
        "\n",
        "    plt.axis('equal')\n",
        "    plt.axis('off')\n",
        "    circ1 = plt.Circle( (0,0),         radius1, clip_on=False )\n",
        "    circ2 = plt.Circle( (4*radius2,0), radius2, clip_on=False )\n",
        "    rand_circ = plt.Circle((2*radius2,0), random_radius, clip_on=False )\n",
        "    plt.gca().add_artist(circ1)\n",
        "    plt.gca().add_artist(circ2)\n",
        "    plt.gca().add_artist(rand_circ)    \n",
        "    plt.show()\n",
        "    \n",
        "    perceived_area_list.append( float(input()) )\n",
        "    actual_area_list.append(mystery_number)"
      ]
    },
    {
      "attachments": {},
      "cell_type": "markdown",
      "metadata": {
        "id": "igo13pFTV8MR"
      },
      "source": [
        "**Q5: Now you can run the experiment many times, plot the result, and fit a power-law curve!** "
      ]
    },
    {
      "cell_type": "code",
      "execution_count": null,
      "metadata": {
        "id": "rmyb_zs2V8MR"
      },
      "outputs": [],
      "source": [
        "# TODO: put your code here. You can use multiple cells. "
      ]
    },
    {
      "cell_type": "code",
      "execution_count": null,
      "metadata": {
        "id": "9W6-R8GPV8MR"
      },
      "outputs": [],
      "source": []
    },
    {
      "cell_type": "code",
      "execution_count": null,
      "metadata": {
        "id": "6PDY32l7V8MR"
      },
      "outputs": [],
      "source": []
    },
    {
      "cell_type": "code",
      "execution_count": null,
      "metadata": {
        "id": "yZgVARMtV8MR"
      },
      "outputs": [],
      "source": []
    },
    {
      "attachments": {},
      "cell_type": "markdown",
      "metadata": {
        "id": "RW54owqyV8MR"
      },
      "source": [
        "What is your result? How are the exponents different from each other? "
      ]
    },
    {
      "cell_type": "code",
      "execution_count": null,
      "metadata": {
        "id": "hfIpKie-V8MR"
      },
      "outputs": [],
      "source": []
    }
  ],
  "metadata": {
    "colab": {
      "name": "lab.ipynb",
      "provenance": []
    },
    "kernelspec": {
      "display_name": "dviz",
      "language": "python",
      "name": "dviz"
    },
    "language_info": {
      "codemirror_mode": {
        "name": "ipython",
        "version": 3
      },
      "file_extension": ".py",
      "mimetype": "text/x-python",
      "name": "python",
      "nbconvert_exporter": "python",
      "pygments_lexer": "ipython3",
      "version": "3.7.3"
    }
  },
  "nbformat": 4,
  "nbformat_minor": 0
}
