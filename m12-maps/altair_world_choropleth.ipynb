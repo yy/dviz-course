{
 "cells": [
  {
   "cell_type": "markdown",
   "source": [
    "<table class=\"m01-notebook-buttons\" align=\"left\">\n",
    "  <td>\n",
    "    <a target=\"_blank\" href=\"https://colab.research.google.com/github/yy/dviz-course/blob/master/m12-maps/altair_world_choropleth.ipynb\"><img src=\"https://www.tensorflow.org/images/colab_logo_32px.png\" />Run in Google Colab</a>\n",
    "  </td>\n",
    "  <td>\n",
    "    <a href=\"https://github.com/yy/dviz-course/blob/master/m12-maps/altair_world_choropleth.ipynb\"><img src=\"https://www.tensorflow.org/images/GitHub-Mark-32px.png\" />View on Github</a>\n",
    "  </td>\n",
    "</table>"
   ],
   "metadata": {}
  },
  {
   "cell_type": "code",
   "execution_count": 61,
   "source": [
    "import numpy as np\n",
    "import pandas as pd\n",
    "import altair as alt\n",
    "from vega_datasets import data\n",
    "\n",
    "countries = alt.topo_feature(data.world_110m.url, 'countries')\n",
    "\n",
    "# download from https://bl.ocks.org/mbostock/raw/4090846/world-country-names.tsv\n",
    "some_data = pd.read_csv('world-country-names.tsv', sep='\\t')  \n",
    "some_data.head()"
   ],
   "outputs": [
    {
     "output_type": "execute_result",
     "data": {
      "text/plain": [
       "   id             name\n",
       "0  -1  Northern Cyprus\n",
       "1  -2           Kosovo\n",
       "2  -3       Somaliland\n",
       "3   4      Afghanistan\n",
       "4   8          Albania"
      ],
      "text/html": [
       "<div>\n",
       "<style scoped>\n",
       "    .dataframe tbody tr th:only-of-type {\n",
       "        vertical-align: middle;\n",
       "    }\n",
       "\n",
       "    .dataframe tbody tr th {\n",
       "        vertical-align: top;\n",
       "    }\n",
       "\n",
       "    .dataframe thead th {\n",
       "        text-align: right;\n",
       "    }\n",
       "</style>\n",
       "<table border=\"1\" class=\"dataframe\">\n",
       "  <thead>\n",
       "    <tr style=\"text-align: right;\">\n",
       "      <th></th>\n",
       "      <th>id</th>\n",
       "      <th>name</th>\n",
       "    </tr>\n",
       "  </thead>\n",
       "  <tbody>\n",
       "    <tr>\n",
       "      <th>0</th>\n",
       "      <td>-1</td>\n",
       "      <td>Northern Cyprus</td>\n",
       "    </tr>\n",
       "    <tr>\n",
       "      <th>1</th>\n",
       "      <td>-2</td>\n",
       "      <td>Kosovo</td>\n",
       "    </tr>\n",
       "    <tr>\n",
       "      <th>2</th>\n",
       "      <td>-3</td>\n",
       "      <td>Somaliland</td>\n",
       "    </tr>\n",
       "    <tr>\n",
       "      <th>3</th>\n",
       "      <td>4</td>\n",
       "      <td>Afghanistan</td>\n",
       "    </tr>\n",
       "    <tr>\n",
       "      <th>4</th>\n",
       "      <td>8</td>\n",
       "      <td>Albania</td>\n",
       "    </tr>\n",
       "  </tbody>\n",
       "</table>\n",
       "</div>"
      ]
     },
     "metadata": {},
     "execution_count": 61
    }
   ],
   "metadata": {}
  },
  {
   "cell_type": "code",
   "execution_count": 62,
   "source": [
    "some_data['rate'] = np.random.random(len(some_data))\n",
    "some_data.head()"
   ],
   "outputs": [
    {
     "output_type": "execute_result",
     "data": {
      "text/plain": [
       "   id             name      rate\n",
       "0  -1  Northern Cyprus  0.893815\n",
       "1  -2           Kosovo  0.033565\n",
       "2  -3       Somaliland  0.733582\n",
       "3   4      Afghanistan  0.383214\n",
       "4   8          Albania  0.411592"
      ],
      "text/html": [
       "<div>\n",
       "<style scoped>\n",
       "    .dataframe tbody tr th:only-of-type {\n",
       "        vertical-align: middle;\n",
       "    }\n",
       "\n",
       "    .dataframe tbody tr th {\n",
       "        vertical-align: top;\n",
       "    }\n",
       "\n",
       "    .dataframe thead th {\n",
       "        text-align: right;\n",
       "    }\n",
       "</style>\n",
       "<table border=\"1\" class=\"dataframe\">\n",
       "  <thead>\n",
       "    <tr style=\"text-align: right;\">\n",
       "      <th></th>\n",
       "      <th>id</th>\n",
       "      <th>name</th>\n",
       "      <th>rate</th>\n",
       "    </tr>\n",
       "  </thead>\n",
       "  <tbody>\n",
       "    <tr>\n",
       "      <th>0</th>\n",
       "      <td>-1</td>\n",
       "      <td>Northern Cyprus</td>\n",
       "      <td>0.893815</td>\n",
       "    </tr>\n",
       "    <tr>\n",
       "      <th>1</th>\n",
       "      <td>-2</td>\n",
       "      <td>Kosovo</td>\n",
       "      <td>0.033565</td>\n",
       "    </tr>\n",
       "    <tr>\n",
       "      <th>2</th>\n",
       "      <td>-3</td>\n",
       "      <td>Somaliland</td>\n",
       "      <td>0.733582</td>\n",
       "    </tr>\n",
       "    <tr>\n",
       "      <th>3</th>\n",
       "      <td>4</td>\n",
       "      <td>Afghanistan</td>\n",
       "      <td>0.383214</td>\n",
       "    </tr>\n",
       "    <tr>\n",
       "      <th>4</th>\n",
       "      <td>8</td>\n",
       "      <td>Albania</td>\n",
       "      <td>0.411592</td>\n",
       "    </tr>\n",
       "  </tbody>\n",
       "</table>\n",
       "</div>"
      ]
     },
     "metadata": {},
     "execution_count": 62
    }
   ],
   "metadata": {}
  },
  {
   "cell_type": "code",
   "execution_count": 63,
   "source": [
    "alt.Chart(countries).mark_geoshape().encode(\n",
    "    color='rate:Q'\n",
    ").transform_lookup(\n",
    "    lookup='id',\n",
    "    from_=alt.LookupData(some_data, 'id', ['rate'])\n",
    ").properties(\n",
    "    width=800,\n",
    "    height=500\n",
    ").project('mercator')"
   ],
   "outputs": [
    {
     "output_type": "execute_result",
     "data": {
      "text/plain": [
       "<VegaLite 2 object>\n",
       "\n",
       "If you see this message, it means the renderer has not been properly enabled\n",
       "for the frontend that you are using. For more information, see\n",
       "https://altair-viz.github.io/user_guide/troubleshooting.html\n"
      ],
      "image/png": "[encoded data removed]",
      "application/vnd.vegalite.v2+json": {
       "$schema": "https://vega.github.io/schema/vega-lite/v2.4.3.json",
       "config": {
        "view": {
         "height": 300,
         "width": 400
        }
       },
       "data": {
        "format": {
         "feature": "countries",
         "type": "topojson"
        },
        "url": "https://vega.github.io/vega-datasets/data/world-110m.json"
       },
       "encoding": {
        "color": {
         "field": "rate",
         "type": "quantitative"
        }
       },
       "height": 500,
       "mark": "geoshape",
       "projection": {
        "type": "mercator"
       },
       "transform": [
        {
         "from": {
          "data": {
           "values": [
            {
             "id": -1,
             "name": "Northern Cyprus",
             "rate": 0.8938152668005703
            },
            {
             "id": -2,
             "name": "Kosovo",
             "rate": 0.03356473865719123
            },
            {
             "id": -3,
             "name": "Somaliland",
             "rate": 0.7335819128426865
            },
            {
             "id": 4,
             "name": "Afghanistan",
             "rate": 0.3832135073884856
            },
            {
             "id": 8,
             "name": "Albania",
             "rate": 0.41159218982956336
            },
            {
             "id": 10,
             "name": "Antarctica",
             "rate": 0.17527464065527487
            },
            {
             "id": 12,
             "name": "Algeria",
             "rate": 0.4936743015159367
            },
            {
             "id": 16,
             "name": "American Samoa",
             "rate": 0.2651518396657154
            },
            {
             "id": 20,
             "name": "Andorra",
             "rate": 0.47594060627394996
            },
            {
             "id": 24,
             "name": "Angola",
             "rate": 0.7040278664963978
            },
            {
             "id": 28,
             "name": "Antigua and Barbuda",
             "rate": 0.4711181948824006
            },
            {
             "id": 31,
             "name": "Azerbaijan",
             "rate": 0.24624314588060592
            },
            {
             "id": 32,
             "name": "Argentina",
             "rate": 0.6425655655663631
            },
            {
             "id": 36,
             "name": "Australia",
             "rate": 0.5944256119977094
            },
            {
             "id": 40,
             "name": "Austria",
             "rate": 0.9842112248353514
            },
            {
             "id": 44,
             "name": "Bahamas",
             "rate": 0.46817015288055086
            },
            {
             "id": 48,
             "name": "Bahrain",
             "rate": 0.16948655578367122
            },
            {
             "id": 50,
             "name": "Bangladesh",
             "rate": 0.737800713106355
            },
            {
             "id": 51,
             "name": "Armenia",
             "rate": 0.9858755592554117
            },
            {
             "id": 52,
             "name": "Barbados",
             "rate": 0.9193394966302902
            },
            {
             "id": 56,
             "name": "Belgium",
             "rate": 0.7341592344942827
            },
            {
             "id": 60,
             "name": "Bermuda",
             "rate": 0.1704539320340266
            },
            {
             "id": 64,
             "name": "Bhutan",
             "rate": 0.13320557107563957
            },
            {
             "id": 68,
             "name": "Bolivia, Plurinational State of",
             "rate": 0.5438444167659576
            },
            {
             "id": 70,
             "name": "Bosnia and Herzegovina",
             "rate": 0.025866138324635468
            },
            {
             "id": 72,
             "name": "Botswana",
             "rate": 0.4211485715083201
            },
            {
             "id": 74,
             "name": "Bouvet Island",
             "rate": 0.25818508116854755
            },
            {
             "id": 76,
             "name": "Brazil",
             "rate": 0.08384195519299775
            },
            {
             "id": 84,
             "name": "Belize",
             "rate": 0.0007670826229277949
            },
            {
             "id": 86,
             "name": "British Indian Ocean Territory",
             "rate": 0.39853363117689145
            },
            {
             "id": 90,
             "name": "Solomon Islands",
             "rate": 0.7966056054412121
            },
            {
             "id": 92,
             "name": "Virgin Islands, British",
             "rate": 0.8318812070092119
            },
            {
             "id": 96,
             "name": "Brunei Darussalam",
             "rate": 0.22518647815189208
            },
            {
             "id": 100,
             "name": "Bulgaria",
             "rate": 0.03985297549750111
            },
            {
             "id": 104,
             "name": "Myanmar",
             "rate": 0.32676078850895085
            },
            {
             "id": 108,
             "name": "Burundi",
             "rate": 0.03168975241151861
            },
            {
             "id": 112,
             "name": "Belarus",
             "rate": 0.6832338725638931
            },
            {
             "id": 116,
             "name": "Cambodia",
             "rate": 0.3055635083910324
            },
            {
             "id": 120,
             "name": "Cameroon",
             "rate": 0.8293505147403315
            },
            {
             "id": 124,
             "name": "Canada",
             "rate": 0.7479627647168072
            },
            {
             "id": 132,
             "name": "Cape Verde",
             "rate": 0.9797742338592942
            },
            {
             "id": 136,
             "name": "Cayman Islands",
             "rate": 0.7490852773133242
            },
            {
             "id": 140,
             "name": "Central African Republic",
             "rate": 0.9784288667941193
            },
            {
             "id": 144,
             "name": "Sri Lanka",
             "rate": 0.016320484574811833
            },
            {
             "id": 148,
             "name": "Chad",
             "rate": 0.1460715757583395
            },
            {
             "id": 152,
             "name": "Chile",
             "rate": 0.8479736504758554
            },
            {
             "id": 156,
             "name": "China",
             "rate": 0.6332825632308821
            },
            {
             "id": 158,
             "name": "Taiwan, Province of China",
             "rate": 0.7894308755443422
            },
            {
             "id": 162,
             "name": "Christmas Island",
             "rate": 0.6494576891369731
            },
            {
             "id": 166,
             "name": "Cocos (Keeling) Islands",
             "rate": 0.8294883607317435
            },
            {
             "id": 170,
             "name": "Colombia",
             "rate": 0.551070497023834
            },
            {
             "id": 174,
             "name": "Comoros",
             "rate": 0.15072968561336075
            },
            {
             "id": 175,
             "name": "Mayotte",
             "rate": 0.08437713123931101
            },
            {
             "id": 178,
             "name": "Congo",
             "rate": 0.09491486191247966
            },
            {
             "id": 180,
             "name": "Congo, the Democratic Republic of the",
             "rate": 0.864040360249934
            },
            {
             "id": 184,
             "name": "Cook Islands",
             "rate": 0.07104267457375912
            },
            {
             "id": 188,
             "name": "Costa Rica",
             "rate": 0.2505415458177901
            },
            {
             "id": 191,
             "name": "Croatia",
             "rate": 0.5038490268476856
            },
            {
             "id": 192,
             "name": "Cuba",
             "rate": 0.8553648720181818
            },
            {
             "id": 196,
             "name": "Cyprus",
             "rate": 0.49744090072812086
            },
            {
             "id": 203,
             "name": "Czech Republic",
             "rate": 0.341540991915129
            },
            {
             "id": 204,
             "name": "Benin",
             "rate": 0.06333318785677289
            },
            {
             "id": 208,
             "name": "Denmark",
             "rate": 0.49750705625387726
            },
            {
             "id": 212,
             "name": "Dominica",
             "rate": 0.3686915279210943
            },
            {
             "id": 214,
             "name": "Dominican Republic",
             "rate": 0.9001545118243031
            },
            {
             "id": 218,
             "name": "Ecuador",
             "rate": 0.7229082304044396
            },
            {
             "id": 222,
             "name": "El Salvador",
             "rate": 0.2795683648921311
            },
            {
             "id": 226,
             "name": "Equatorial Guinea",
             "rate": 0.36816994547662063
            },
            {
             "id": 231,
             "name": "Ethiopia",
             "rate": 0.4492972666887385
            },
            {
             "id": 232,
             "name": "Eritrea",
             "rate": 0.6051004824312091
            },
            {
             "id": 233,
             "name": "Estonia",
             "rate": 0.5998081536520737
            },
            {
             "id": 234,
             "name": "Faroe Islands",
             "rate": 0.22713418389998308
            },
            {
             "id": 238,
             "name": "Falkland Islands (Malvinas)",
             "rate": 0.18918585101585006
            },
            {
             "id": 239,
             "name": "South Georgia and the South Sandwich Islands",
             "rate": 0.5017358469910534
            },
            {
             "id": 242,
             "name": "Fiji",
             "rate": 0.24693176912418158
            },
            {
             "id": 246,
             "name": "Finland",
             "rate": 0.713010690520294
            },
            {
             "id": 248,
             "name": "Åland Islands",
             "rate": 0.6714695378173031
            },
            {
             "id": 250,
             "name": "France",
             "rate": 0.06459703967737829
            },
            {
             "id": 254,
             "name": "French Guiana",
             "rate": 0.8527759727151019
            },
            {
             "id": 258,
             "name": "French Polynesia",
             "rate": 0.6616840182942648
            },
            {
             "id": 260,
             "name": "French Southern Territories",
             "rate": 0.30554131224949155
            },
            {
             "id": 262,
             "name": "Djibouti",
             "rate": 0.8751569249300145
            },
            {
             "id": 266,
             "name": "Gabon",
             "rate": 0.7545798361008209
            },
            {
             "id": 268,
             "name": "Georgia",
             "rate": 0.9182713630777308
            },
            {
             "id": 270,
             "name": "Gambia",
             "rate": 0.7969246445416284
            },
            {
             "id": 275,
             "name": "Palestinian Territory, Occupied",
             "rate": 0.4276904397304526
            },
            {
             "id": 276,
             "name": "Germany",
             "rate": 0.07011842424675807
            },
            {
             "id": 288,
             "name": "Ghana",
             "rate": 0.4735278792275204
            },
            {
             "id": 292,
             "name": "Gibraltar",
             "rate": 0.9265986817013583
            },
            {
             "id": 296,
             "name": "Kiribati",
             "rate": 0.07424296811823428
            },
            {
             "id": 300,
             "name": "Greece",
             "rate": 0.921482635674387
            },
            {
             "id": 304,
             "name": "Greenland",
             "rate": 0.5542819023978063
            },
            {
             "id": 308,
             "name": "Grenada",
             "rate": 0.49525492738538424
            },
            {
             "id": 312,
             "name": "Guadeloupe",
             "rate": 0.01589508526442418
            },
            {
             "id": 316,
             "name": "Guam",
             "rate": 0.5260301122970773
            },
            {
             "id": 320,
             "name": "Guatemala",
             "rate": 0.7053330229964516
            },
            {
             "id": 324,
             "name": "Guinea",
             "rate": 0.22236559164162817
            },
            {
             "id": 328,
             "name": "Guyana",
             "rate": 0.6300037658292948
            },
            {
             "id": 332,
             "name": "Haiti",
             "rate": 0.08172903184299585
            },
            {
             "id": 334,
             "name": "Heard Island and McDonald Islands",
             "rate": 0.27461138531278706
            },
            {
             "id": 336,
             "name": "Holy See (Vatican City State)",
             "rate": 0.07684173057967414
            },
            {
             "id": 340,
             "name": "Honduras",
             "rate": 0.1736902617128756
            },
            {
             "id": 344,
             "name": "Hong Kong",
             "rate": 0.3865470592708943
            },
            {
             "id": 348,
             "name": "Hungary",
             "rate": 0.8462846956457322
            },
            {
             "id": 352,
             "name": "Iceland",
             "rate": 0.19993851313962274
            },
            {
             "id": 356,
             "name": "India",
             "rate": 0.5420528703696971
            },
            {
             "id": 360,
             "name": "Indonesia",
             "rate": 0.620070714870609
            },
            {
             "id": 364,
             "name": "Iran, Islamic Republic of",
             "rate": 0.0050080691169143154
            },
            {
             "id": 368,
             "name": "Iraq",
             "rate": 0.20650836968136543
            },
            {
             "id": 372,
             "name": "Ireland",
             "rate": 0.22920888452744503
            },
            {
             "id": 376,
             "name": "Israel",
             "rate": 0.723393735089003
            },
            {
             "id": 380,
             "name": "Italy",
             "rate": 0.7727504005922047
            },
            {
             "id": 384,
             "name": "Côte d'Ivoire",
             "rate": 0.6501988952796319
            },
            {
             "id": 388,
             "name": "Jamaica",
             "rate": 0.6884304099148525
            },
            {
             "id": 392,
             "name": "Japan",
             "rate": 0.754299049369795
            },
            {
             "id": 398,
             "name": "Kazakhstan",
             "rate": 0.2528456323277516
            },
            {
             "id": 400,
             "name": "Jordan",
             "rate": 0.9098943218085384
            },
            {
             "id": 404,
             "name": "Kenya",
             "rate": 0.33718441457405346
            },
            {
             "id": 408,
             "name": "Korea, Democratic People's Republic of",
             "rate": 0.8665928606021541
            },
            {
             "id": 410,
             "name": "Korea, Republic of",
             "rate": 0.9410128519236586
            },
            {
             "id": 414,
             "name": "Kuwait",
             "rate": 0.37784619545380127
            },
            {
             "id": 417,
             "name": "Kyrgyzstan",
             "rate": 0.937714095572374
            },
            {
             "id": 418,
             "name": "Lao People's Democratic Republic",
             "rate": 0.10188416637364772
            },
            {
             "id": 422,
             "name": "Lebanon",
             "rate": 0.6518070398312991
            },
            {
             "id": 426,
             "name": "Lesotho",
             "rate": 0.8914969110656147
            },
            {
             "id": 428,
             "name": "Latvia",
             "rate": 0.2671517645342151
            },
            {
             "id": 430,
             "name": "Liberia",
             "rate": 0.9355760229757822
            },
            {
             "id": 434,
             "name": "Libya",
             "rate": 0.31500439463053886
            },
            {
             "id": 438,
             "name": "Liechtenstein",
             "rate": 0.012426591595808612
            },
            {
             "id": 440,
             "name": "Lithuania",
             "rate": 0.8740250120816997
            },
            {
             "id": 442,
             "name": "Luxembourg",
             "rate": 0.812675253205051
            },
            {
             "id": 446,
             "name": "Macao",
             "rate": 0.5249546788086527
            },
            {
             "id": 450,
             "name": "Madagascar",
             "rate": 0.7026407102432563
            },
            {
             "id": 454,
             "name": "Malawi",
             "rate": 0.3006677831490592
            },
            {
             "id": 458,
             "name": "Malaysia",
             "rate": 0.6559645133345938
            },
            {
             "id": 462,
             "name": "Maldives",
             "rate": 0.5080387655418639
            },
            {
             "id": 466,
             "name": "Mali",
             "rate": 0.09002340230469674
            },
            {
             "id": 470,
             "name": "Malta",
             "rate": 0.27924895891308155
            },
            {
             "id": 474,
             "name": "Martinique",
             "rate": 0.38392627967541604
            },
            {
             "id": 478,
             "name": "Mauritania",
             "rate": 0.39290018044342634
            },
            {
             "id": 480,
             "name": "Mauritius",
             "rate": 0.2863299022314074
            },
            {
             "id": 484,
             "name": "Mexico",
             "rate": 0.7932963839981858
            },
            {
             "id": 492,
             "name": "Monaco",
             "rate": 0.421778592652882
            },
            {
             "id": 496,
             "name": "Mongolia",
             "rate": 0.3803092185077719
            },
            {
             "id": 498,
             "name": "Moldova, Republic of",
             "rate": 0.45880541424455934
            },
            {
             "id": 499,
             "name": "Montenegro",
             "rate": 0.032259385526288265
            },
            {
             "id": 500,
             "name": "Montserrat",
             "rate": 0.34402595622080956
            },
            {
             "id": 504,
             "name": "Morocco",
             "rate": 0.433967044371103
            },
            {
             "id": 508,
             "name": "Mozambique",
             "rate": 0.8695753638946698
            },
            {
             "id": 512,
             "name": "Oman",
             "rate": 0.606035634457422
            },
            {
             "id": 516,
             "name": "Namibia",
             "rate": 0.8746845161207776
            },
            {
             "id": 520,
             "name": "Nauru",
             "rate": 0.8535459156844348
            },
            {
             "id": 524,
             "name": "Nepal",
             "rate": 0.9840825860378749
            },
            {
             "id": 528,
             "name": "Netherlands",
             "rate": 0.15684853277107713
            },
            {
             "id": 531,
             "name": "Curaçao",
             "rate": 0.6137149164706114
            },
            {
             "id": 533,
             "name": "Aruba",
             "rate": 0.7084426499523505
            },
            {
             "id": 534,
             "name": "Sint Maarten (Dutch part)",
             "rate": 0.5959810459156039
            },
            {
             "id": 535,
             "name": "Bonaire, Sint Eustatius and Saba",
             "rate": 0.32135159501089894
            },
            {
             "id": 540,
             "name": "New Caledonia",
             "rate": 0.3616735352721583
            },
            {
             "id": 548,
             "name": "Vanuatu",
             "rate": 0.7011822634811985
            },
            {
             "id": 554,
             "name": "New Zealand",
             "rate": 0.17466692674811246
            },
            {
             "id": 558,
             "name": "Nicaragua",
             "rate": 0.4593292641477147
            },
            {
             "id": 562,
             "name": "Niger",
             "rate": 0.7823518431141055
            },
            {
             "id": 566,
             "name": "Nigeria",
             "rate": 0.8030120489053938
            },
            {
             "id": 570,
             "name": "Niue",
             "rate": 0.19533439756640347
            },
            {
             "id": 574,
             "name": "Norfolk Island",
             "rate": 0.616966259719598
            },
            {
             "id": 578,
             "name": "Norway",
             "rate": 0.9305812857333002
            },
            {
             "id": 580,
             "name": "Northern Mariana Islands",
             "rate": 0.5549493522523733
            },
            {
             "id": 581,
             "name": "United States Minor Outlying Islands",
             "rate": 0.7897288895344503
            },
            {
             "id": 583,
             "name": "Micronesia, Federated States of",
             "rate": 0.2767224830098698
            },
            {
             "id": 584,
             "name": "Marshall Islands",
             "rate": 0.6854835772410954
            },
            {
             "id": 585,
             "name": "Palau",
             "rate": 0.7014640514522918
            },
            {
             "id": 586,
             "name": "Pakistan",
             "rate": 0.26246320562736347
            },
            {
             "id": 591,
             "name": "Panama",
             "rate": 0.8816641211997227
            },
            {
             "id": 598,
             "name": "Papua New Guinea",
             "rate": 0.8500352342277152
            },
            {
             "id": 600,
             "name": "Paraguay",
             "rate": 0.5071251744945697
            },
            {
             "id": 604,
             "name": "Peru",
             "rate": 0.5020719686230135
            },
            {
             "id": 608,
             "name": "Philippines",
             "rate": 0.9621076536223174
            },
            {
             "id": 612,
             "name": "Pitcairn",
             "rate": 0.9312123990010902
            },
            {
             "id": 616,
             "name": "Poland",
             "rate": 0.07509808029496268
            },
            {
             "id": 620,
             "name": "Portugal",
             "rate": 0.4821861750889611
            },
            {
             "id": 624,
             "name": "Guinea-Bissau",
             "rate": 0.33355262384610207
            },
            {
             "id": 626,
             "name": "Timor-Leste",
             "rate": 0.6101744253058895
            },
            {
             "id": 630,
             "name": "Puerto Rico",
             "rate": 0.9351901141945785
            },
            {
             "id": 634,
             "name": "Qatar",
             "rate": 0.3278878644559774
            },
            {
             "id": 638,
             "name": "Réunion",
             "rate": 0.6469408403119412
            },
            {
             "id": 642,
             "name": "Romania",
             "rate": 0.12822776081479403
            },
            {
             "id": 643,
             "name": "Russian Federation",
             "rate": 0.08224005432635106
            },
            {
             "id": 646,
             "name": "Rwanda",
             "rate": 0.6083060450502943
            },
            {
             "id": 652,
             "name": "Saint Barthélemy",
             "rate": 0.7703039304719568
            },
            {
             "id": 654,
             "name": "Saint Helena, Ascension and Tristan da Cunha",
             "rate": 0.6533419413528222
            },
            {
             "id": 659,
             "name": "Saint Kitts and Nevis",
             "rate": 0.29665425723285876
            },
            {
             "id": 660,
             "name": "Anguilla",
             "rate": 0.11626433343387255
            },
            {
             "id": 662,
             "name": "Saint Lucia",
             "rate": 0.9476819511324578
            },
            {
             "id": 663,
             "name": "Saint Martin (French part)",
             "rate": 0.07587921467596337
            },
            {
             "id": 666,
             "name": "Saint Pierre and Miquelon",
             "rate": 0.0700371683993185
            },
            {
             "id": 670,
             "name": "Saint Vincent and the Grenadines",
             "rate": 0.2335904243231839
            },
            {
             "id": 674,
             "name": "San Marino",
             "rate": 0.5362611881622255
            },
            {
             "id": 678,
             "name": "Sao Tome and Principe",
             "rate": 0.6001055537682591
            },
            {
             "id": 682,
             "name": "Saudi Arabia",
             "rate": 0.33677249027054557
            },
            {
             "id": 686,
             "name": "Senegal",
             "rate": 0.9846078342470038
            },
            {
             "id": 688,
             "name": "Serbia",
             "rate": 0.9811258965963695
            },
            {
             "id": 690,
             "name": "Seychelles",
             "rate": 0.9264576873828152
            },
            {
             "id": 694,
             "name": "Sierra Leone",
             "rate": 0.4247948369080077
            },
            {
             "id": 702,
             "name": "Singapore",
             "rate": 0.020659502854674106
            },
            {
             "id": 703,
             "name": "Slovakia",
             "rate": 0.4636918079975254
            },
            {
             "id": 704,
             "name": "Viet Nam",
             "rate": 0.5115143873106208
            },
            {
             "id": 705,
             "name": "Slovenia",
             "rate": 0.3895324126137967
            },
            {
             "id": 706,
             "name": "Somalia",
             "rate": 0.7833947391163116
            },
            {
             "id": 710,
             "name": "South Africa",
             "rate": 0.33365337138177986
            },
            {
             "id": 716,
             "name": "Zimbabwe",
             "rate": 0.6321093613421245
            },
            {
             "id": 724,
             "name": "Spain",
             "rate": 0.9472375339589973
            },
            {
             "id": 728,
             "name": "South Sudan",
             "rate": 0.8381788387195831
            },
            {
             "id": 729,
             "name": "Sudan",
             "rate": 0.6190033768524233
            },
            {
             "id": 732,
             "name": "Western Sahara",
             "rate": 0.41946983965186835
            },
            {
             "id": 740,
             "name": "Suriname",
             "rate": 0.22975198445407707
            },
            {
             "id": 744,
             "name": "Svalbard and Jan Mayen",
             "rate": 0.16917681846344945
            },
            {
             "id": 748,
             "name": "Swaziland",
             "rate": 0.7590977450882875
            },
            {
             "id": 752,
             "name": "Sweden",
             "rate": 0.6004536388861166
            },
            {
             "id": 756,
             "name": "Switzerland",
             "rate": 0.6285202150913493
            },
            {
             "id": 760,
             "name": "Syrian Arab Republic",
             "rate": 0.6356008179658341
            },
            {
             "id": 762,
             "name": "Tajikistan",
             "rate": 0.8944230990260927
            },
            {
             "id": 764,
             "name": "Thailand",
             "rate": 0.2505924173129902
            },
            {
             "id": 768,
             "name": "Togo",
             "rate": 0.10567662864368688
            },
            {
             "id": 772,
             "name": "Tokelau",
             "rate": 0.22959146341366843
            },
            {
             "id": 776,
             "name": "Tonga",
             "rate": 0.3732909998809233
            },
            {
             "id": 780,
             "name": "Trinidad and Tobago",
             "rate": 0.9961575860851047
            },
            {
             "id": 784,
             "name": "United Arab Emirates",
             "rate": 0.7131137825329076
            },
            {
             "id": 788,
             "name": "Tunisia",
             "rate": 0.6342529327822239
            },
            {
             "id": 792,
             "name": "Turkey",
             "rate": 0.8614179937135916
            },
            {
             "id": 795,
             "name": "Turkmenistan",
             "rate": 0.14802632667574878
            },
            {
             "id": 796,
             "name": "Turks and Caicos Islands",
             "rate": 0.9110220690055897
            },
            {
             "id": 798,
             "name": "Tuvalu",
             "rate": 0.21838660076307115
            },
            {
             "id": 800,
             "name": "Uganda",
             "rate": 0.6416355483895658
            },
            {
             "id": 804,
             "name": "Ukraine",
             "rate": 0.5976806575846567
            },
            {
             "id": 807,
             "name": "Macedonia, the former Yugoslav Republic of",
             "rate": 0.6617222482823105
            },
            {
             "id": 818,
             "name": "Egypt",
             "rate": 0.9176212782018365
            },
            {
             "id": 826,
             "name": "United Kingdom",
             "rate": 0.8675699703385605
            },
            {
             "id": 831,
             "name": "Guernsey",
             "rate": 0.8789612586145079
            },
            {
             "id": 832,
             "name": "Jersey",
             "rate": 0.8887851582708128
            },
            {
             "id": 833,
             "name": "Isle of Man",
             "rate": 0.9464612497022505
            },
            {
             "id": 834,
             "name": "Tanzania, United Republic of",
             "rate": 0.5436124029426008
            },
            {
             "id": 840,
             "name": "United States",
             "rate": 0.12436988411988825
            },
            {
             "id": 850,
             "name": "Virgin Islands, U.S.",
             "rate": 0.852035249523205
            },
            {
             "id": 854,
             "name": "Burkina Faso",
             "rate": 0.6545445965677317
            },
            {
             "id": 858,
             "name": "Uruguay",
             "rate": 0.9886172373382196
            },
            {
             "id": 860,
             "name": "Uzbekistan",
             "rate": 0.3352554389114195
            },
            {
             "id": 862,
             "name": "Venezuela, Bolivarian Republic of",
             "rate": 0.0188817649242371
            },
            {
             "id": 876,
             "name": "Wallis and Futuna",
             "rate": 0.17735712560545802
            },
            {
             "id": 882,
             "name": "Samoa",
             "rate": 0.7429744393088332
            },
            {
             "id": 887,
             "name": "Yemen",
             "rate": 0.782882938671537
            },
            {
             "id": 894,
             "name": "Zambia",
             "rate": 0.3999937508774847
            }
           ]
          },
          "fields": [
           "rate"
          ],
          "key": "id"
         },
         "lookup": "id"
        }
       ],
       "width": 800
      }
     },
     "metadata": {},
     "execution_count": 63
    }
   ],
   "metadata": {}
  },
  {
   "cell_type": "code",
   "execution_count": null,
   "source": [],
   "outputs": [],
   "metadata": {}
  }
 ],
 "metadata": {
  "kernelspec": {
   "display_name": "Python 3",
   "language": "python",
   "name": "python3"
  },
  "language_info": {
   "codemirror_mode": {
    "name": "ipython",
    "version": 3
   },
   "file_extension": ".py",
   "mimetype": "text/x-python",
   "name": "python",
   "nbconvert_exporter": "python",
   "pygments_lexer": "ipython3",
   "version": "3.6.5"
  }
 },
 "nbformat": 4,
 "nbformat_minor": 2
}